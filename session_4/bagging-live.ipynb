{
 "cells": [
  {
   "cell_type": "code",
   "execution_count": 1,
   "metadata": {},
   "outputs": [],
   "source": [
    "import numpy as np"
   ]
  },
  {
   "cell_type": "code",
   "execution_count": 7,
   "metadata": {},
   "outputs": [
    {
     "name": "stdout",
     "output_type": "stream",
     "text": [
      "The bootstrapped sample, B, contains 62.00% of the elements of X.\n"
     ]
    }
   ],
   "source": [
    "n = 100\n",
    "B = np.random.choice(range(100), 100, replace=True)\n",
    "print(f\"The bootstrapped sample, B, contains {len(np.unique(B))/n*100:.2f}% of the elements of X.\")"
   ]
  },
  {
   "cell_type": "code",
   "execution_count": 8,
   "metadata": {},
   "outputs": [
    {
     "name": "stdout",
     "output_type": "stream",
     "text": [
      "The bootstrapped sample, B, contains 63.60% of the elements of X.\n"
     ]
    }
   ],
   "source": [
    "from sklearn.utils import resample\n",
    "n = 1000\n",
    "X = range(n)\n",
    "B = resample(X)\n",
    "print(f\"The bootstrapped sample, B, contains {len(np.unique(B))/n*100:.2f}% of the elements of X.\")"
   ]
  },
  {
   "cell_type": "code",
   "execution_count": 10,
   "metadata": {},
   "outputs": [],
   "source": [
    "from sklearn.utils import resample\n",
    "from sklearn.datasets import load_iris\n",
    "from sklearn.tree import DecisionTreeClassifier\n",
    "from sklearn.model_selection import train_test_split, cross_val_score\n",
    "from scipy.stats import mode\n",
    "from matplotlib import pyplot as plt"
   ]
  },
  {
   "cell_type": "code",
   "execution_count": 29,
   "metadata": {},
   "outputs": [
    {
     "data": {
      "text/plain": [
       "48"
      ]
     },
     "execution_count": 29,
     "metadata": {},
     "output_type": "execute_result"
    }
   ],
   "source": [
    "X, y = load_iris(return_X_y=True)\n",
    "X_tr, X_te, y_tr, y_te = train_test_split(X, y, test_size=1/3)\n",
    "C = DecisionTreeClassifier()\n",
    "score = cross_val_score(C, X, y, scoring=\"accuracy\", cv=5).mean()\n",
    "# print(score)\n",
    "\n",
    "n = len(X_tr)\n",
    "y_ps = []\n",
    "for j in range(200):\n",
    "    I = resample(range(n))\n",
    "    X_b = X_tr[I]\n",
    "    y_b = y_tr[I]\n",
    "    C.fit(X_b, y_b)\n",
    "    y_p = C.predict(X_te)\n",
    "    y_ps.append(y_p)\n",
    "\n",
    "y_ps = np.array(y_ps)\n",
    "sum(mode(y_ps, axis=0)[0][0] == y_te)\n",
    "# plt.plot(np.sum(np.equal(y_preds, y_te.reshape(-1, 1)), axis=0))"
   ]
  },
  {
   "cell_type": "code",
   "execution_count": 69,
   "metadata": {},
   "outputs": [],
   "source": [
    "correct = []\n",
    "\n",
    "for j in range(100):\n",
    "    I = np.random.choice(range(100), j + 1, replace=False)\n",
    "    Y = mode(y_preds[:, I], axis=1)[0].reshape(-1)\n",
    "    correct.append(np.sum(Y == y_te))"
   ]
  },
  {
   "cell_type": "code",
   "execution_count": 70,
   "metadata": {},
   "outputs": [
    {
     "data": {
      "text/plain": [
       "[<matplotlib.lines.Line2D at 0x1106c00b8>]"
      ]
     },
     "execution_count": 70,
     "metadata": {},
     "output_type": "execute_result"
    },
    {
     "data": {
      "image/png": "[encoded data removed]",
      "text/plain": [
       "<Figure size 432x288 with 1 Axes>"
      ]
     },
     "metadata": {},
     "output_type": "display_data"
    }
   ],
   "source": [
    "plt.plot(correct)"
   ]
  },
  {
   "cell_type": "code",
   "execution_count": 34,
   "metadata": {},
   "outputs": [],
   "source": [
    "from sklearn.ensemble import BaggingClassifier, BaggingRegressor\n",
    "\n",
    "correct = []\n",
    "for j in range(200):\n",
    "    BC = BaggingClassifier(DecisionTreeClassifier(), n_estimators=j + 1)\n",
    "    BC.fit(X_tr, y_tr)\n",
    "    correct.append(np.equal(BC.predict(X_te), y_te).sum())"
   ]
  },
  {
   "cell_type": "code",
   "execution_count": 35,
   "metadata": {},
   "outputs": [
    {
     "data": {
      "text/plain": [
       "[<matplotlib.lines.Line2D at 0x1a144719b0>]"
      ]
     },
     "execution_count": 35,
     "metadata": {},
     "output_type": "execute_result"
    },
    {
     "data": {
      "image/png": "[encoded data removed]",
      "text/plain": [
       "<Figure size 432x288 with 1 Axes>"
      ]
     },
     "metadata": {},
     "output_type": "display_data"
    }
   ],
   "source": [
    "plt.plot(correct)"
   ]
  },
  {
   "cell_type": "code",
   "execution_count": 38,
   "metadata": {},
   "outputs": [
    {
     "data": {
      "text/plain": [
       "48"
      ]
     },
     "execution_count": 38,
     "metadata": {},
     "output_type": "execute_result"
    }
   ],
   "source": [
    "BC = BaggingClassifier(DecisionTreeClassifier(), n_estimators=100)\n",
    "score = cross_val_score(BC, X, y, scoring=\"accuracy\", cv=5).mean()\n",
    "BC.fit(X_tr, y_tr)\n",
    "y_p = BC.predict(X_te)\n",
    "sum(y_p == y_te)"
   ]
  },
  {
   "cell_type": "code",
   "execution_count": 115,
   "metadata": {},
   "outputs": [
    {
     "name": "stdout",
     "output_type": "stream",
     "text": [
      "0.7770739020576344\n",
      "0.7759231351479057\n"
     ]
    }
   ],
   "source": [
    "from sklearn.datasets import load_digits\n",
    "X, y = load_digits(return_X_y=True)\n",
    "C = DecisionTreeClassifier()\n",
    "score = cross_val_score(C, X, y, scoring=\"accuracy\", cv=5).mean()\n",
    "print(score)\n",
    "\n",
    "BC = BaggingClassifier(DecisionTreeClassifier(), n_estimators=100)\n",
    "score = cross_val_score(C, X, y, scoring=\"accuracy\", cv=5).mean()\n",
    "print(score)"
   ]
  },
  {
   "cell_type": "code",
   "execution_count": 41,
   "metadata": {},
   "outputs": [
    {
     "data": {
      "text/plain": [
       "array([1, 1, 2, 0, 2, 0, 1, 2, 2, 0, 0, 2, 1, 0, 1, 0, 2, 0, 1, 2, 2, 2,\n",
       "       0, 0, 2, 1, 0, 2, 1, 0, 2, 2, 2, 2, 0, 1, 1, 0, 2, 2, 0, 1, 1, 1,\n",
       "       1, 1, 2, 1, 2, 0])"
      ]
     },
     "execution_count": 41,
     "metadata": {},
     "output_type": "execute_result"
    }
   ],
   "source": [
    "BC.estimators_[17].predict(X_te)"
   ]
  },
  {
   "cell_type": "code",
   "execution_count": 42,
   "metadata": {},
   "outputs": [],
   "source": [
    "from sklearn.ensemble import RandomForestClassifier"
   ]
  },
  {
   "cell_type": "code",
   "execution_count": 54,
   "metadata": {},
   "outputs": [
    {
     "data": {
      "text/plain": [
       "48"
      ]
     },
     "execution_count": 54,
     "metadata": {},
     "output_type": "execute_result"
    }
   ],
   "source": [
    "C = DecisionTreeClassifier()\n",
    "RC = RandomForestClassifier(n_estimators=100, max_features=2)\n",
    "RC.fit(X_tr, y_tr)\n",
    "y_p = RC.predict(X_te)\n",
    "sum(y_p == y_te)"
   ]
  },
  {
   "cell_type": "code",
   "execution_count": 80,
   "metadata": {},
   "outputs": [
    {
     "data": {
      "text/plain": [
       "0.9526315789473684"
      ]
     },
     "execution_count": 80,
     "metadata": {},
     "output_type": "execute_result"
    }
   ],
   "source": [
    "from sklearn.datasets import load_breast_cancer\n",
    "\n",
    "X, y = load_breast_cancer(return_X_y=True)\n",
    "X_tr, X_te, y_tr, y_te = train_test_split(X, y, test_size=1/3)\n",
    "C = DecisionTreeClassifier()\n",
    "score = cross_val_score(C, X, y, scoring=\"accuracy\", cv=5).mean()\n",
    "# print(score)\n",
    "\n",
    "n = len(X_tr)\n",
    "y_ps = []\n",
    "Js = []\n",
    "for j in range(200):\n",
    "    I = resample(range(n))\n",
    "    J = np.random.choice(range(30), 5)\n",
    "    Js.append(np.in1d(range(30), J))\n",
    "    X_b = X_tr[I][:,J]\n",
    "    y_b = y_tr[I]\n",
    "    C.fit(X_b, y_b)\n",
    "    y_p = C.predict(X_te[:, J])\n",
    "    y_ps.append(y_p)\n",
    "\n",
    "y_ps = np.array(y_ps)\n",
    "sum(mode(y_ps, axis=0)[0][0] == y_te)/len(y_te)\n"
   ]
  },
  {
   "cell_type": "code",
   "execution_count": 84,
   "metadata": {},
   "outputs": [],
   "source": [
    "A = np.array(Js) + 0.0"
   ]
  },
  {
   "cell_type": "code",
   "execution_count": 90,
   "metadata": {},
   "outputs": [
    {
     "data": {
      "image/png": "[encoded data removed]",
      "text/plain": [
       "<Figure size 194.4x1296 with 1 Axes>"
      ]
     },
     "metadata": {},
     "output_type": "display_data"
    }
   ],
   "source": [
    "plt.figure(figsize=(3/20*18, 18))\n",
    "plt.imshow(A)\n",
    "plt.show()"
   ]
  },
  {
   "cell_type": "code",
   "execution_count": null,
   "metadata": {},
   "outputs": [],
   "source": []
  }
 ],
 "metadata": {
  "kernelspec": {
   "display_name": "Python 3",
   "language": "python",
   "name": "python3"
  },
  "language_info": {
   "codemirror_mode": {
    "name": "ipython",
    "version": 3
   },
   "file_extension": ".py",
   "mimetype": "text/x-python",
   "name": "python",
   "nbconvert_exporter": "python",
   "pygments_lexer": "ipython3",
   "version": "3.6.5"
  }
 },
 "nbformat": 4,
 "nbformat_minor": 2
}
