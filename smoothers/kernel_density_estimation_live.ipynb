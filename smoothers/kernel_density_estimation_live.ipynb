{
 "cells": [
  {
   "cell_type": "code",
   "execution_count": null,
   "metadata": {},
   "outputs": [],
   "source": [
    "import numpy as np\n",
    "from sklearn.model_selection import train_test_split, cross_val_score\n",
    "from matplotlib import pyplot as plt"
   ]
  },
  {
   "cell_type": "code",
   "execution_count": null,
   "metadata": {},
   "outputs": [],
   "source": [
    "def gaussian(x):\n",
    "\n",
    "def boxcar(x):\n",
    "\n",
    "def epanechnikov(x):\n"
   ]
  },
  {
   "cell_type": "code",
   "execution_count": null,
   "metadata": {},
   "outputs": [],
   "source": [
    "def make_kde(X_, ker=gaussian, h=0.5):\n",
    "    def kde(X):\n",
    "        # ..\n",
    "    return kde"
   ]
  },
  {
   "cell_type": "code",
   "execution_count": null,
   "metadata": {},
   "outputs": [],
   "source": [
    "X = np.arange(0, 20, 0.01)\n",
    "X_ = np.random.chisquare(5, size=800).reshape(-1, 1)\n",
    "\n",
    "kde = make_kde(X_)\n",
    "y = kde(X)\n",
    "\n",
    "plt.xlim(0, 20)\n",
    "plt.plot(X, y, 'r', linewidth=2)\n",
    "plt.hist(X_, bins=40, density=True)\n",
    "plt.show()"
   ]
  },
  {
   "cell_type": "code",
   "execution_count": null,
   "metadata": {},
   "outputs": [],
   "source": [
    "X = np.arange(-5, 5, 0.01)\n",
    "X_ = np.random.normal(size=200).reshape(-1, 1)\n",
    "\n",
    "kde = make_kde(X_, h=0.3)\n",
    "y = kde(X)\n",
    "\n",
    "plt.xlim(-5, 5)\n",
    "plt.plot(X, y, 'r', linewidth=2)\n",
    "plt.hist(X_, bins=40, density=True)\n",
    "plt.show()"
   ]
  },
  {
   "cell_type": "code",
   "execution_count": null,
   "metadata": {},
   "outputs": [],
   "source": []
  }
 ],
 "metadata": {
  "kernelspec": {
   "display_name": "Python 3",
   "language": "python",
   "name": "python3"
  },
  "language_info": {
   "codemirror_mode": {
    "name": "ipython",
    "version": 3
   },
   "file_extension": ".py",
   "mimetype": "text/x-python",
   "name": "python",
   "nbconvert_exporter": "python",
   "pygments_lexer": "ipython3",
   "version": "3.6.5"
  }
 },
 "nbformat": 4,
 "nbformat_minor": 2
}
