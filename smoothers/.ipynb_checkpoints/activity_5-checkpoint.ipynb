{
 "cells": [
  {
   "cell_type": "markdown",
   "metadata": {},
   "source": [
    "## Coding activity 5: $K$-fold Cross Validation"
   ]
  },
  {
   "cell_type": "code",
   "execution_count": null,
   "metadata": {},
   "outputs": [],
   "source": [
    "from sklearn.neighbors import KNeighborsRegressor, RadiusNeighborsRegressor\n",
    "import numpy as np\n",
    "from matplotlib import pyplot as plt"
   ]
  },
  {
   "cell_type": "code",
   "execution_count": null,
   "metadata": {},
   "outputs": [],
   "source": [
    "def r(x):\n",
    "    \"\"\"A convenience function to compute values of r.\"\"\"\n",
    "    return 0.5*x*np.cos(4*np.pi*x)\n",
    "\n",
    "def make_y(x):\n",
    "    \"\"\"A convenience function to sample from N(r(x), 0.1).\"\"\"\n",
    "    return r(x) + 0.1*np.random.normal(size=len(x))"
   ]
  },
  {
   "cell_type": "markdown",
   "metadata": {},
   "source": [
    "- Find the values of $k$ that minimnize the $3$-, $5$-, and $10$-fold cross validation scores.\n",
    "    Compute these scores using `cross_val_score` from `sklearn.model_selection`. For details, see <a href=\"https://scikit-learn.org/stable/modules/generated/sklearn.model_selection.cross_val_score.html\">the docs</a>.\n",
    "\n",
    "- Include the keyword argument `scoring='neg_mean_squared_error'` when calling `cross_val_score`.\n",
    "    \n",
    "- Confirm your results from coding activity 4 by performing LOOCV as $n$-fold cross validation, $n$ being the size of the dataset."
   ]
  },
  {
   "cell_type": "code",
   "execution_count": null,
   "metadata": {},
   "outputs": [],
   "source": [
    "from sklearn.model_selection import cross_val_score\n",
    "\n",
    "np.random.seed(666)\n",
    "n = 50\n",
    "X = np.sort(np.random.uniform(size=n))\n",
    "y = make_y(X)\n",
    "\n",
    "for cv in [3, 5, 10, 50]: # This is 'K'. The corresponding kwarg for cross_val_score is 'cv'.\n",
    "\n",
    "    scores = [] # Collect scores here for k=1,...,10\n",
    "\n",
    "    # Your code here.\n",
    "    \n",
    "    plt.figure(figsize=(8, 5))\n",
    "    plt.xlabel(\"$k$\", fontsize=18)\n",
    "    plt.ylabel(f\"{cv}-fold CV Score\", fontsize=18)\n",
    "    plt.plot(range(1, 11), -np.mean(scores, axis=1))\n",
    "    plt.show()"
   ]
  }
 ],
 "metadata": {
  "kernelspec": {
   "display_name": "Python 3",
   "language": "python",
   "name": "python3"
  },
  "language_info": {
   "codemirror_mode": {
    "name": "ipython",
    "version": 3
   },
   "file_extension": ".py",
   "mimetype": "text/x-python",
   "name": "python",
   "nbconvert_exporter": "python",
   "pygments_lexer": "ipython3",
   "version": "3.6.5"
  }
 },
 "nbformat": 4,
 "nbformat_minor": 2
}
