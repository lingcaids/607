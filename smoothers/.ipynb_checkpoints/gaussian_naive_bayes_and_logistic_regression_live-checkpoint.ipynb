{
 "cells": [
  {
   "cell_type": "markdown",
   "metadata": {},
   "source": [
    "## Gaussian Naive Bayes and Logistic Regression with `sklearn`"
   ]
  },
  {
   "cell_type": "code",
   "execution_count": null,
   "metadata": {},
   "outputs": [],
   "source": [
    "import numpy as np\n",
    "from sklearn.naive_bayes import GaussianNB\n",
    "from sklearn.linear_model import LogisticRegression\n",
    "from sklearn.model_selection import train_test_split\n",
    "from matplotlib import pyplot as plt"
   ]
  },
  {
   "cell_type": "code",
   "execution_count": null,
   "metadata": {},
   "outputs": [],
   "source": [
    "# Generate a mixture of two Gaussians.\n",
    "X0 = np.random.multivariate_normal([-1, 0], 1.5*np.identity(2), size=100)\n",
    "X1 = np.random.multivariate_normal([1, 0], 1.5*np.identity(2), size=100)\n",
    "X = ...\n",
    "\n",
    "# Assign class labels\n",
    "y0 = np.zeros(len(X0))\n",
    "y1 = np.ones(len(X1))\n",
    "y = ...\n",
    "\n",
    "# Split dataset into training and testing data\n",
    "...\n",
    "\n",
    "# Plot clouds\n",
    "plt.plot(X0[:,0], X0[:,1], 'ro')\n",
    "plt.plot(X1[:,0], X1[:,1], 'bo')"
   ]
  },
  {
   "cell_type": "code",
   "execution_count": null,
   "metadata": {},
   "outputs": [],
   "source": [
    "# Fit Gaussian naive bayes model on training data, predict on test data.\n",
    "\n",
    "# Identify misclassifications.\n",
    "\n",
    "# Plot clouds with misclassifications emphasized.\n",
    "plt.plot(X0[:,0], X0[:,1], 'ro')\n",
    "plt.plot(X1[:,0], X1[:,1], 'bo')\n",
    "plt.plot(X_bad[:,0], X_bad[:,1], 'o', color=\"mediumspringgreen\", markersize=12, markeredgecolor='k')\n",
    "plt.show()"
   ]
  },
  {
   "cell_type": "code",
   "execution_count": null,
   "metadata": {},
   "outputs": [],
   "source": [
    "# Fit logistic regression model on training data, predict on test data.\n",
    "\n",
    "# Identify misclassifications.\n",
    "\n",
    "# Plot clouds with misclassifications emphasized.\n",
    "plt.plot(X0[:,0], X0[:,1], 'ro')\n",
    "plt.plot(X1[:,0], X1[:,1], 'bo')\n",
    "plt.plot(X_bad[:,0], X_bad[:,1], 'o', color=\"mediumspringgreen\", markersize=12, markeredgecolor='k')\n",
    "plt.show()"
   ]
  },
  {
   "cell_type": "code",
   "execution_count": null,
   "metadata": {},
   "outputs": [],
   "source": []
  }
 ],
 "metadata": {
  "kernelspec": {
   "display_name": "Python 3",
   "language": "python",
   "name": "python3"
  },
  "language_info": {
   "codemirror_mode": {
    "name": "ipython",
    "version": 3
   },
   "file_extension": ".py",
   "mimetype": "text/x-python",
   "name": "python",
   "nbconvert_exporter": "python",
   "pygments_lexer": "ipython3",
   "version": "3.6.5"
  }
 },
 "nbformat": 4,
 "nbformat_minor": 2
}
