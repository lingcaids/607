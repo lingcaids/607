{
 "cells": [
  {
   "cell_type": "markdown",
   "metadata": {},
   "source": [
    "## Coding activity 2: Average risk minimization"
   ]
  },
  {
   "cell_type": "code",
   "execution_count": null,
   "metadata": {},
   "outputs": [],
   "source": [
    "from sklearn.neighbors import KNeighborsRegressor, RadiusNeighborsRegressor\n",
    "from matplotlib import pyplot as plt\n",
    "import numpy as np"
   ]
  },
  {
   "cell_type": "markdown",
   "metadata": {},
   "source": [
    "We'll work with the function\n",
    "$$\n",
    "r(x) := \\frac x2\\cos(4\\pi x),\n",
    "$$\n",
    "drawing our $Y_i$ from $N(r(x_i), 0.1)$.\n",
    "\n",
    "Our goal is to compute the average risks, $R(\\hat r_k, r)$, for $k=1,\\ldots,10$, plot the results, and identity the $k$ that minimizes this quantity."
   ]
  },
  {
   "cell_type": "code",
   "execution_count": null,
   "metadata": {},
   "outputs": [],
   "source": [
    "def r(x):\n",
    "    \"\"\"A convenience function to compute values of r.\"\"\"\n",
    "    return 0.5*x*np.cos(4*np.pi*x)\n",
    "\n",
    "def make_y(x):\n",
    "    \"\"\"A convenience function to sample from N(r(x), 0.1).\"\"\"\n",
    "    return r(x) + 0.1*np.random.normal(size=len(x))"
   ]
  },
  {
   "cell_type": "markdown",
   "metadata": {},
   "source": [
    "- Choose $x_i$, $i=1,\\ldots,n$ uniformly at random from $(0,1)$. (We'll use $n=50$.)\n",
    "- Sample $y_i$ from $N(r(x_i), 0.1)$.\n",
    "- Encode $r(x)$ by recording its values at $1000$ equally spaced points in $[0,1]$.\n",
    "- Approximate $R(\\hat r(x), r(x))$ by taking the average of $50$ independent computations of $L(\\hat r(x), r(x))$. (Draw new $Y_i$ for each computation.)\n",
    "- `KNeighborsRegressor(n_neighbors=k)` gives you a class instance that implements the `Regressor` API. As such, it has `fit` and `predict` methods, just like your `NNS` class from the previous activity. Use them to compute $\\hat r(x)$."
   ]
  },
  {
   "cell_type": "code",
   "execution_count": null,
   "metadata": {},
   "outputs": [],
   "source": [
    "np.random.seed(666) # so we can all compare answers\n",
    "n = 50 # number of data points\n",
    "k = 4 \n",
    "\n",
    "X = np.random.uniform(size=n)\n",
    "\n",
    "x = np.arange(0, 1, 0.001)\n",
    "y = r(x)\n",
    "\n",
    "average_risks = [] # Collect average risks here for k=1, ..., 10\n",
    "\n",
    "for k in range(1, 11):\n",
    "    \n",
    "    # Your code here.\n",
    "\n",
    "plt.xlabel(\"$k$\", fontsize=18)\n",
    "plt.ylabel(\"average risk\", fontsize=18)\n",
    "plt.plot(range(1, 11), average_risks)\n",
    "plt.show()\n",
    "\n",
    "print(f\"The k giving the smallest average risk is k = {np.argmin(average_risks) + 1}.\")"
   ]
  }
 ],
 "metadata": {
  "kernelspec": {
   "display_name": "Python 3",
   "language": "python",
   "name": "python3"
  },
  "language_info": {
   "codemirror_mode": {
    "name": "ipython",
    "version": 3
   },
   "file_extension": ".py",
   "mimetype": "text/x-python",
   "name": "python",
   "nbconvert_exporter": "python",
   "pygments_lexer": "ipython3",
   "version": "3.6.5"
  }
 },
 "nbformat": 4,
 "nbformat_minor": 2
}
