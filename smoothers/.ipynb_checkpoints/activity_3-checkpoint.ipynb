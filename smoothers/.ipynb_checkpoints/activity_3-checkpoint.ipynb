{
 "cells": [
  {
   "cell_type": "markdown",
   "metadata": {},
   "source": [
    "## Coding activity 3: The Bias-Variance Decomposition"
   ]
  },
  {
   "cell_type": "code",
   "execution_count": null,
   "metadata": {},
   "outputs": [],
   "source": [
    "from sklearn.neighbors import KNeighborsRegressor, RadiusNeighborsRegressor\n",
    "from sklearn.model_selection import cross_val_score\n",
    "import numpy as np\n",
    "from matplotlib import pyplot as plt"
   ]
  },
  {
   "cell_type": "markdown",
   "metadata": {},
   "source": [
    "We continue with our running exaple, in which\n",
    "$$\n",
    "r(x) := \\frac x2\\cos(4\\pi x),\n",
    "$$\n",
    "and $Y_i$ is drawn uniformly at random from $N(r(x_i), 0.1)$."
   ]
  },
  {
   "cell_type": "code",
   "execution_count": null,
   "metadata": {},
   "outputs": [],
   "source": [
    "def r(x):\n",
    "    \"\"\"A convenience function to compute values of r.\"\"\"\n",
    "    return 0.5*x*np.cos(4*np.pi*x)\n",
    "\n",
    "def make_y(x):\n",
    "    \"\"\"A convenience function to sample from N(r(x), 0.1).\"\"\"\n",
    "    return r(x) + 0.1*np.random.normal(size=len(x))"
   ]
  },
  {
   "cell_type": "markdown",
   "metadata": {},
   "source": [
    "- For our running synthetic example, plot \n",
    "$$\n",
    "    R(\\hat r_k, r),\\; \\text{Var}\\, \\hat r_k,\\; \\text{and}\\; \\text{Bias}(\\hat r_k, r)^2\n",
    "$$\n",
    "versus $k$ on the same axes.\n",
    "\n",
    "- Verify the integrated bias-variance decomposition using your computed\n",
    "$R(\\hat r_k, r)$, $\\text{Var}\\, \\hat r_k$, and $\\text{Bias}(\\hat r_k, r)^2$."
   ]
  },
  {
   "cell_type": "code",
   "execution_count": null,
   "metadata": {},
   "outputs": [],
   "source": [
    "np.random.seed(668)\n",
    "n = 50\n",
    "k = 4\n",
    "\n",
    "X = np.sort(np.random.uniform(size=n))\n",
    "x = np.arange(0, 1, 0.001)\n",
    "rx = r(x)\n",
    "rX = r(X)\n",
    "\n",
    "risks = [] # Collect average risks for k=1,...,10 in here.\n",
    "squared_biases = [] # Collect squared biases for k=1,...,10 in here.\n",
    "variances = [] # Collect variances for k=1,...,10 in here.\n",
    "\n",
    "for k in range(1, 11):\n",
    "    \n",
    "    # Your code here.\n",
    "\n",
    "risks = np.array(risks)\n",
    "plt.figure(figsize=(8, 5))\n",
    "plt.plot(range(1, 11), risks, 'k', label=\"risk\")\n",
    "plt.plot(range(1, 11), squared_biases, 'b', label=\"squared bias\")\n",
    "plt.plot(range(1, 11), variances, 'r', label=\"variance\")\n",
    "# plt.plot(range(1, 11), np.array(variances) + np.array(squared_biases), 'g')\n",
    "plt.legend(fontsize=18)\n",
    "plt.show()"
   ]
  }
 ],
 "metadata": {
  "kernelspec": {
   "display_name": "Python 3",
   "language": "python",
   "name": "python3"
  },
  "language_info": {
   "codemirror_mode": {
    "name": "ipython",
    "version": 3
   },
   "file_extension": ".py",
   "mimetype": "text/x-python",
   "name": "python",
   "nbconvert_exporter": "python",
   "pygments_lexer": "ipython3",
   "version": "3.6.5"
  }
 },
 "nbformat": 4,
 "nbformat_minor": 2
}
