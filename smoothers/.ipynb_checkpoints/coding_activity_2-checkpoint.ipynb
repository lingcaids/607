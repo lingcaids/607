{
 "cells": [
  {
   "cell_type": "markdown",
   "metadata": {},
   "source": [
    "## Coding activity 2: Average risk minimization"
   ]
  },
  {
   "cell_type": "code",
   "execution_count": 1,
   "metadata": {},
   "outputs": [],
   "source": [
    "from sklearn.neighbors import KNeighborsRegressor, RadiusNeighborsRegressor\n",
    "from matplotlib import pyplot as plt\n",
    "import numpy as np\n",
    "\n",
    "def r(x): return 0.5*x*np.cos(4*np.pi*x)\n",
    "def make_y(x): return r(x) + 0.1*np.random.normal(size=len(x))"
   ]
  },
  {
   "cell_type": "markdown",
   "metadata": {},
   "source": [
    "We'll work with the function\n",
    "$$\n",
    "r(x) = \\frac x2\\cos(4\\pi x)\n",
    "$$,\n",
    "drawing our $Y_i$ from $N(r(x_i), 0.1)$."
   ]
  },
  {
   "cell_type": "code",
   "execution_count": 62,
   "metadata": {},
   "outputs": [
    {
     "data": {
      "text/plain": [
       "[<matplotlib.lines.Line2D at 0x1a1c1f9eb8>]"
      ]
     },
     "execution_count": 62,
     "metadata": {},
     "output_type": "execute_result"
    },
    {
     "data": {
      "image/png": "[encoded data removed]",
      "text/plain": [
       "<Figure size 432x288 with 1 Axes>"
      ]
     },
     "metadata": {},
     "output_type": "display_data"
    }
   ],
   "source": [
    "np.random.seed(666)\n",
    "n = 50 # number of data points\n",
    "k = 4 \n",
    "\n",
    "X = np.random.uniform(size=n)\n",
    "x = np.arange(0, 1, 0.001)\n",
    "rx = r(x)\n",
    "rX = r(X)\n",
    "\n",
    "integrated_risks = []\n",
    "\n",
    "for k in range(1, 11):\n",
    "    losses_x = []\n",
    "    losses_X = []\n",
    "    for j in range(50):\n",
    "        R = KNeighborsRegressor(n_neighbors=k)\n",
    "        R.fit(X.reshape(-1, 1), make_y(X))\n",
    "\n",
    "        y_x = R.predict(x.reshape(-1, 1))\n",
    "        loss_x = (rx - y_x)**2\n",
    "        losses_x.append(loss_x)\n",
    "        \n",
    "        y_X = R.predict(X.reshape(-1, 1))\n",
    "        loss_X = (rX - y_X)**2\n",
    "        losses_X.append(loss_X)\n",
    "\n",
    "        \n",
    "    integrated_risk = np.mean(losses_x)\n",
    "    integrated_risks.append(integrated_risk)\n",
    "    \n",
    "    average_risk = np.mean(losses_X)\n",
    "    average_risks.append(average_risk)\n",
    "\n",
    "\n",
    "integrated_risks = np.array(integrated_risks)\n",
    "plt.plot(range(1, 11), integrated_risks, 'k')\n",
    "plt.plot(range(1, 11), average_risks, 'b')"
   ]
  },
  {
   "cell_type": "code",
   "execution_count": null,
   "metadata": {},
   "outputs": [],
   "source": []
  }
 ],
 "metadata": {
  "kernelspec": {
   "display_name": "Python 3",
   "language": "python",
   "name": "python3"
  },
  "language_info": {
   "codemirror_mode": {
    "name": "ipython",
    "version": 3
   },
   "file_extension": ".py",
   "mimetype": "text/x-python",
   "name": "python",
   "nbconvert_exporter": "python",
   "pygments_lexer": "ipython3",
   "version": "3.6.5"
  }
 },
 "nbformat": 4,
 "nbformat_minor": 2
}
