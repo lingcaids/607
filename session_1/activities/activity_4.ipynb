{
 "cells": [
  {
   "cell_type": "markdown",
   "metadata": {},
   "source": [
    "## Coding activity 4: Leave one out cross validation"
   ]
  },
  {
   "cell_type": "code",
   "execution_count": null,
   "metadata": {},
   "outputs": [],
   "source": [
    "from sklearn.neighbors import KNeighborsRegressor, RadiusNeighborsRegressor\n",
    "from sklearn.model_selection import cross_val_score\n",
    "import numpy as np\n",
    "from matplotlib import pyplot as plt"
   ]
  },
  {
   "cell_type": "code",
   "execution_count": null,
   "metadata": {},
   "outputs": [],
   "source": [
    "def r(x):\n",
    "    \"\"\"A convenience function to compute values of r.\"\"\"\n",
    "    return 0.5*x*np.cos(4*np.pi*x)\n",
    "\n",
    "def make_y(x):\n",
    "    \"\"\"A convenience function to sample from N(r(x), 0.1).\"\"\"\n",
    "    return r(x) + 0.1*np.random.normal(size=len(x))"
   ]
  },
  {
   "cell_type": "markdown",
   "metadata": {},
   "source": [
    "- For our running example, plot $\\widehat R(k)$ versus $k$. Compute the $\\hat R(k)$ using\n",
    "`sklearn`'s `LeaveOneOut` class and the generator returned by its\n",
    "`split` method. For details, see <a href=\"https://scikit-learn.org/stable/modules/generated/sklearn.model_selection.LeaveOneOut.html\">the docs</a>.\n",
    "    \n",
    "- Which $k$ that minimizes $\\widehat R(k)$? Compare with the results of coding activity 2.\n",
    "\n",
    "- For this optimal value of $k$, plot $\\widehat r_k^{(-i)}(x_i)$ versus $x_i$ and $r(x)$ versus $x$ on the same axes.\n"
   ]
  },
  {
   "cell_type": "code",
   "execution_count": null,
   "metadata": {},
   "outputs": [],
   "source": [
    "from sklearn.model_selection import LeaveOneOut\n",
    "\n",
    "np.random.seed(666)\n",
    "n = 50\n",
    "X = np.sort(np.random.uniform(size=n))\n",
    "y = make_y(X)\n",
    "\n",
    "loo = LeaveOneOut()\n",
    "\n",
    "scores = [] # Collect LOOCV scores here for k=1, ..., 10\n",
    "ys_ = [] # Collect smoothers here for k=1, ..., 10\n",
    "\n",
    "for k in range(1, 15):\n",
    "    y_ = [] # accumulate y_i values here are you loop through loo.split(X)\n",
    "\n",
    "    # Your code here.\n",
    "    \n",
    "    scores.append(np.dot(y_ - y, y_ - y))\n",
    "    ys_.append(y_)\n",
    "    \n",
    "print(f\"The k giving the smallest LOOCV score is k = {np.argmin(scores) + 1}.\")\n",
    "\n",
    "plt.figure(figsize=(8, 5))\n",
    "plt.xlabel(\"$k$\", fontsize=18)\n",
    "plt.ylabel(\"LOOCV Score\", fontsize=18)\n",
    "plt.plot(range(1, 11), scores[:10])\n",
    "plt.show()\n",
    "\n",
    "plt.figure(figsize=(8, 5))\n",
    "for k in [3, 7, 11]:\n",
    "    plt.plot(X, ys_[k], label=f\"$k={k+1}$\")\n",
    "x = np.arange(0, 1, 0.01)\n",
    "plt.plot(x, r(x), 'r:', label=\"$r(x)$\")\n",
    "plt.xlabel(\"$x$\", fontsize=18)\n",
    "plt.ylabel(\"$\\widehat r_k(x)$\", fontsize=18)\n",
    "plt.legend(fontsize=18)\n",
    "plt.show()"
   ]
  }
 ],
 "metadata": {
  "kernelspec": {
   "display_name": "Python 3",
   "language": "python",
   "name": "python3"
  },
  "language_info": {
   "codemirror_mode": {
    "name": "ipython",
    "version": 3
   },
   "file_extension": ".py",
   "mimetype": "text/x-python",
   "name": "python",
   "nbconvert_exporter": "python",
   "pygments_lexer": "ipython3",
   "version": "3.6.5"
  }
 },
 "nbformat": 4,
 "nbformat_minor": 2
}
