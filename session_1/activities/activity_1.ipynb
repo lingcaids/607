{
 "cells": [
  {
   "cell_type": "markdown",
   "metadata": {},
   "source": [
    "# Coding activity 1: Nearest neighbor smoothers"
   ]
  },
  {
   "cell_type": "markdown",
   "metadata": {},
   "source": [
    "## Nearest neighbor smoothers"
   ]
  },
  {
   "cell_type": "markdown",
   "metadata": {},
   "source": [
    " Write a nearest neighbor smoother."
   ]
  },
  {
   "cell_type": "code",
   "execution_count": 2,
   "metadata": {},
   "outputs": [],
   "source": [
    "import numpy as np"
   ]
  },
  {
   "cell_type": "code",
   "execution_count": 9,
   "metadata": {},
   "outputs": [
    {
     "name": "stdout",
     "output_type": "stream",
     "text": [
      "6 666 666 6666\n"
     ]
    }
   ],
   "source": [
    "def nns(xis, yis, x):\n",
    "    \"\"\"Return yis[i], where xis[i] is the entry of xis closest to x.\"\"\"\n",
    "    \n",
    "    i = np.argmin(np.abs(xis - x))\n",
    "    \n",
    "    return yis[i]\n",
    "\n",
    "# (Check) Should print 6 666 666 6666.\n",
    "xis = np.array([0, 1, 5, 6.5])\n",
    "yis = np.array([6, 66, 666, 6666])\n",
    "print(nns(xis, yis, -1), nns(xis, yis, 4), nns(xis, yis, 5.1), nns(xis, yis, 100))"
   ]
  },
  {
   "cell_type": "code",
   "execution_count": 15,
   "metadata": {},
   "outputs": [
    {
     "ename": "TypeError",
     "evalue": "list indices must be integers or slices, not list",
     "output_type": "error",
     "traceback": [
      "\u001b[0;31m---------------------------------------------------------------------------\u001b[0m",
      "\u001b[0;31mTypeError\u001b[0m                                 Traceback (most recent call last)",
      "\u001b[0;32m<ipython-input-15-3e30e609b23c>\u001b[0m in \u001b[0;36m<module>\u001b[0;34m()\u001b[0m\n\u001b[1;32m      1\u001b[0m \u001b[0mx\u001b[0m \u001b[0;34m=\u001b[0m \u001b[0;34m[\u001b[0m\u001b[0;36m1\u001b[0m\u001b[0;34m,\u001b[0m \u001b[0;36m2\u001b[0m\u001b[0;34m,\u001b[0m \u001b[0;36m3\u001b[0m\u001b[0;34m,\u001b[0m \u001b[0;36m4\u001b[0m\u001b[0;34m,\u001b[0m \u001b[0;36m5\u001b[0m\u001b[0;34m]\u001b[0m\u001b[0;34m\u001b[0m\u001b[0m\n\u001b[0;32m----> 2\u001b[0;31m \u001b[0mx\u001b[0m\u001b[0;34m[\u001b[0m\u001b[0;34m[\u001b[0m\u001b[0;36m2\u001b[0m\u001b[0;34m,\u001b[0m \u001b[0;36m4\u001b[0m\u001b[0;34m]\u001b[0m\u001b[0;34m]\u001b[0m\u001b[0;34m\u001b[0m\u001b[0m\n\u001b[0m",
      "\u001b[0;31mTypeError\u001b[0m: list indices must be integers or slices, not list"
     ]
    }
   ],
   "source": [
    "x = [1, 2, 3, 4, 5]\n",
    "x[[2, 4]]"
   ]
  },
  {
   "cell_type": "markdown",
   "metadata": {},
   "source": [
    "Write a \"vectorized\" nearest neighbor smoother.\n",
    "\n",
    "Your solution here should be independent of your solution to the previous exercise.\n",
    "The naming clash is intentional."
   ]
  },
  {
   "cell_type": "code",
   "execution_count": 13,
   "metadata": {},
   "outputs": [
    {
     "name": "stdout",
     "output_type": "stream",
     "text": [
      "[   6  666  666 6666]\n"
     ]
    }
   ],
   "source": [
    "def nns(xis, yis, xs):\n",
    "    \"\"\"Same as nns, but returning a list of ys given a list of xs.\"\"\"\n",
    "    \n",
    "    i = [np.argmin(np.abs(xis - x)) for x in xs]\n",
    "    ys = yis[i]\n",
    "    \n",
    "    return ys\n",
    "\n",
    "# (Check) Should print [   6  666  666 6666].\n",
    "xis = np.array([0, 1, 5, 6.5])\n",
    "yis = np.array([6, 66, 666, 6666])\n",
    "print(nns(xis, yis, [-1, 4, 5.1, 100]))"
   ]
  },
  {
   "cell_type": "markdown",
   "metadata": {},
   "source": [
    "Write a \"higher order\" smoother function, i.e., a function that takes training data as input and return a function to evaluate on test data. Are there advantages to such an implementation over that of the previous exercise?"
   ]
  },
  {
   "cell_type": "code",
   "execution_count": 16,
   "metadata": {},
   "outputs": [
    {
     "name": "stdout",
     "output_type": "stream",
     "text": [
      "[   6  666  666 6666]\n"
     ]
    }
   ],
   "source": [
    "def nns_factory(xis, yis):\n",
    "    def nns(xs):\n",
    "        \n",
    "        i = [np.argmin(np.abs(xis - x)) for x in xs]\n",
    "        ys = yis[i]\n",
    "    \n",
    "        return ys\n",
    "    return nns\n",
    "\n",
    "# (Check) Should print [   6  666  666 6666].\n",
    "xis = np.array([0, 1, 5, 6.5])\n",
    "yis = np.array([6, 66, 666, 6666])\n",
    "nns = nns_factory(xis, yis)\n",
    "print(nns([-1, 4, 5.1, 100]))"
   ]
  },
  {
   "cell_type": "markdown",
   "metadata": {},
   "source": [
    "If you don't consider the \"higher order function\" pattern from the previous exercise to be particularly pythonic, you aren't alone. Let's write a class offering the same functionality, in the <code>sklearn</code> style."
   ]
  },
  {
   "cell_type": "code",
   "execution_count": 29,
   "metadata": {},
   "outputs": [
    {
     "name": "stdout",
     "output_type": "stream",
     "text": [
      "[   6  666  666 6666    6 6666   66]\n",
      "[[ 1.00e+00 -4.00e+00 -5.10e+00 -1.00e+02  0.00e+00 -3.00e+01 -2.00e+00]\n",
      " [ 2.00e+00 -3.00e+00 -4.10e+00 -9.90e+01  1.00e+00 -2.90e+01 -1.00e+00]\n",
      " [ 6.00e+00  1.00e+00 -1.00e-01 -9.50e+01  5.00e+00 -2.50e+01  3.00e+00]\n",
      " [ 7.50e+00  2.50e+00  1.40e+00 -9.35e+01  6.50e+00 -2.35e+01  4.50e+00]]\n"
     ]
    }
   ],
   "source": [
    "from sklearn.base import RegressorMixin\n",
    "from sklearn.utils.validation import check_X_y, check_array, check_is_fitted\n",
    "\n",
    "class NNS(RegressorMixin):\n",
    "    \n",
    "    def fit(self, X, y):\n",
    "        \n",
    "        # Check that X and y have compatible shapes.\n",
    "        X, y = check_X_y(X, y)\n",
    "\n",
    "        # Store the training data on the instance. (Why?)\n",
    "        self.X_ = X\n",
    "        self.y_ = y\n",
    "        \n",
    "        # Return the instance. (Why?)\n",
    "        return self\n",
    "    \n",
    "    def predict(self, X):\n",
    "        \n",
    "        # Check is fit had been called.\n",
    "        check_is_fitted(self, ['X_', 'y_'])\n",
    "        \n",
    "        # Validate input type.\n",
    "        X = check_array(X).reshape(1, -1)\n",
    "       \n",
    "        i = np.argmin(np.abs(self.X_ - X), axis=0)\n",
    "        y = self.y_[i]\n",
    "        \n",
    "        return y\n",
    "    \n",
    "# (Check) Should print [6, 666, 666, 6666].\n",
    "X = np.array([0, 1, 5, 6.5]).reshape(-1, 1)\n",
    "y = np.array([6, 66, 666, 6666])\n",
    "X_test = np.array([-1, 4, 5.1, 100, 0, 30, 2]).reshape(-1, 1)\n",
    "S = NNS()\n",
    "print(S\n",
    "      .fit(X, y)\n",
    "      .predict(X_test))\n",
    "\n",
    "print(X - X_test.reshape(1, -1))"
   ]
  },
  {
   "cell_type": "markdown",
   "metadata": {},
   "source": [
    "- What happens if you remove the `.reshape(-1, 1)` method call in the definition of `X` and run the above cell again?\n",
    "\n",
    "- If you inspect the methods available on `S` by typing `S.<tab>`, you'll notice a `score` method.\n",
    "  - Where did it come from? What does it do? Find out by typing `S.score?<ctrl+enter>` or, on a mac, `S.score?<command+enter>`. (`<command+enter>` is a jupyter keyboard shortcut for running the current cell.)\n",
    "  - Try it out! You'll need to provide `y`-values to go with the `x`-values in `X_test`.\n",
    "  - Look at the source code of `RegressorMixin`. (Where is it?) Notice that the implementation of the `score` method invokes `predict`, which we have thoughfully provided. According to the <a href=\"https://scikit-learn.org/stable/glossary.html#term-regressors\"><code>sklearn</code> docs</a>, a *regressor* is a class that implements `fit`, `predict`, and `score`. (Duck typing!)"
   ]
  }
 ],
 "metadata": {
  "kernelspec": {
   "display_name": "Python 3",
   "language": "python",
   "name": "python3"
  },
  "language_info": {
   "codemirror_mode": {
    "name": "ipython",
    "version": 3
   },
   "file_extension": ".py",
   "mimetype": "text/x-python",
   "name": "python",
   "nbconvert_exporter": "python",
   "pygments_lexer": "ipython3",
   "version": "3.6.5"
  }
 },
 "nbformat": 4,
 "nbformat_minor": 2
}
