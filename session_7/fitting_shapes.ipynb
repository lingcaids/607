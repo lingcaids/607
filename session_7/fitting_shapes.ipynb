{
 "cells": [
  {
   "cell_type": "code",
   "execution_count": 99,
   "metadata": {},
   "outputs": [],
   "source": [
    "from __future__ import absolute_import, division, print_function\n",
    "import tensorflow as tf\n",
    "from tensorflow import keras\n",
    "from tensorflow.keras import layers\n",
    "import numpy as np\n",
    "from matplotlib import pyplot as plt\n",
    "from sklearn.model_selection import train_test_split\n",
    "from sklearn.linear_model import LinearRegression"
   ]
  },
  {
   "cell_type": "code",
   "execution_count": 398,
   "metadata": {},
   "outputs": [
    {
     "name": "stdout",
     "output_type": "stream",
     "text": [
      "Epoch 1/20\n",
      "16384/16384 [==============================] - 1s 74us/sample - loss: 0.3823 - mean_squared_error: 0.3823\n",
      "Epoch 2/20\n",
      "16384/16384 [==============================] - 1s 51us/sample - loss: 0.2614 - mean_squared_error: 0.2614\n",
      "Epoch 3/20\n",
      "16384/16384 [==============================] - 1s 49us/sample - loss: 0.2337 - mean_squared_error: 0.2337\n",
      "Epoch 4/20\n",
      "16384/16384 [==============================] - 1s 49us/sample - loss: 0.2104 - mean_squared_error: 0.2104\n",
      "Epoch 5/20\n",
      "16384/16384 [==============================] - 1s 50us/sample - loss: 0.1929 - mean_squared_error: 0.1929\n",
      "Epoch 6/20\n",
      "16384/16384 [==============================] - 1s 51us/sample - loss: 0.1791 - mean_squared_error: 0.1791\n",
      "Epoch 7/20\n",
      "16384/16384 [==============================] - 1s 49us/sample - loss: 0.1678 - mean_squared_error: 0.1678\n",
      "Epoch 8/20\n",
      "16384/16384 [==============================] - 1s 51us/sample - loss: 0.1594 - mean_squared_error: 0.1594\n",
      "Epoch 9/20\n",
      "16384/16384 [==============================] - 1s 48us/sample - loss: 0.1532 - mean_squared_error: 0.1532\n",
      "Epoch 10/20\n",
      "16384/16384 [==============================] - 1s 50us/sample - loss: 0.1486 - mean_squared_error: 0.1486\n",
      "Epoch 11/20\n",
      "16384/16384 [==============================] - 1s 51us/sample - loss: 0.1449 - mean_squared_error: 0.1449\n",
      "Epoch 12/20\n",
      "16384/16384 [==============================] - 1s 50us/sample - loss: 0.1422 - mean_squared_error: 0.1422\n",
      "Epoch 13/20\n",
      "16384/16384 [==============================] - 1s 50us/sample - loss: 0.1397 - mean_squared_error: 0.1397\n",
      "Epoch 14/20\n",
      "16384/16384 [==============================] - 1s 50us/sample - loss: 0.1378 - mean_squared_error: 0.1378\n",
      "Epoch 15/20\n",
      "16384/16384 [==============================] - 1s 49us/sample - loss: 0.1360 - mean_squared_error: 0.1360\n",
      "Epoch 16/20\n",
      "16384/16384 [==============================] - 1s 50us/sample - loss: 0.1345 - mean_squared_error: 0.1345\n",
      "Epoch 17/20\n",
      "16384/16384 [==============================] - 1s 51us/sample - loss: 0.1332 - mean_squared_error: 0.1332\n",
      "Epoch 18/20\n",
      "16384/16384 [==============================] - 1s 49us/sample - loss: 0.1321 - mean_squared_error: 0.1321\n",
      "Epoch 19/20\n",
      "16384/16384 [==============================] - 1s 51us/sample - loss: 0.1310 - mean_squared_error: 0.1310\n",
      "Epoch 20/20\n",
      "16384/16384 [==============================] - 1s 51us/sample - loss: 0.1301 - mean_squared_error: 0.1301\n"
     ]
    },
    {
     "data": {
      "text/plain": [
       "<tensorflow.python.keras.callbacks.History at 0x1a79906eb8>"
      ]
     },
     "execution_count": 398,
     "metadata": {},
     "output_type": "execute_result"
    }
   ],
   "source": [
    "X = np.random.uniform(-1, 1, size=2**14)\n",
    "noise = np.random.normal(0, 0.3, size=2**14)\n",
    "y = np.sign(X) + noise\n",
    "model = tf.keras.Sequential()\n",
    "model.add(layers.Dense(6, input_dim=1, activation='relu'))\n",
    "model.add(layers.Dense(1, activation='linear'))\n",
    "model.compile(loss='mean_squared_error',\n",
    "              optimizer='nadam',\n",
    "              metrics=['mean_squared_error'])\n",
    "model.fit(X, y, batch_size=16, epochs=20)"
   ]
  },
  {
   "cell_type": "code",
   "execution_count": 399,
   "metadata": {},
   "outputs": [
    {
     "data": {
      "image/png": "[encoded data removed]",
      "text/plain": [
       "<Figure size 432x288 with 1 Axes>"
      ]
     },
     "metadata": {},
     "output_type": "display_data"
    },
    {
     "data": {
      "text/plain": [
       "[array([[ 2.2917159 ,  2.9850204 ,  1.8675524 , -0.31708732,  2.2995856 ,\n",
       "          0.19086756]], dtype=float32),\n",
       " array([-0.22797844,  0.30717757, -0.18336575,  0.3352543 ,  0.21699862,\n",
       "         0.42979273], dtype=float32),\n",
       " array([[-2.0539742],\n",
       "        [ 1.5420456],\n",
       "        [-2.8943398],\n",
       "        [-0.5701064],\n",
       "        [ 2.3883085],\n",
       "        [-0.7789296]], dtype=float32),\n",
       " array([-0.46101126], dtype=float32)]"
      ]
     },
     "execution_count": 399,
     "metadata": {},
     "output_type": "execute_result"
    }
   ],
   "source": [
    "def relu(x): return np.maximum(0, x)\n",
    "XX = np.arange(-2, 2, 0.01)\n",
    "yy = model.predict(XX)\n",
    "plt.plot(XX, yy)\n",
    "plt.plot(XX, np.sign(XX))\n",
    "plt.show()\n",
    "model.get_weights()"
   ]
  },
  {
   "cell_type": "code",
   "execution_count": 307,
   "metadata": {},
   "outputs": [
    {
     "data": {
      "text/plain": [
       "-0.004932378698647712"
      ]
     },
     "execution_count": 307,
     "metadata": {},
     "output_type": "execute_result"
    }
   ],
   "source": [
    "R = LinearRegression()\n",
    "R.fit(X.reshape(-1,1), y)\n",
    "R.coef_\n",
    "R.intercept_"
   ]
  },
  {
   "cell_type": "code",
   "execution_count": 308,
   "metadata": {},
   "outputs": [
    {
     "data": {
      "text/plain": [
       "<matplotlib.contour.QuadContourSet at 0x1a6c2e0ef0>"
      ]
     },
     "execution_count": 308,
     "metadata": {},
     "output_type": "execute_result"
    },
    {
     "data": {
      "image/png": "[encoded data removed]",
      "text/plain": [
       "<Figure size 432x288 with 1 Axes>"
      ]
     },
     "metadata": {},
     "output_type": "display_data"
    }
   ],
   "source": [
    "X = np.random.uniform(-1, 1, size=20)\n",
    "y = X**4\n",
    "a = np.arange(-2, 2, 0.1)\n",
    "b = np.arange(-3, 3, 0.1)\n",
    "A, B = np.meshgrid(a, b)\n",
    "MSE = 1/20*sum([(A + B*x_i - y_i)**2 for (x_i, y_i) in zip(X, y)])\n",
    "plt.contourf(A, B, MSE)"
   ]
  },
  {
   "cell_type": "code",
   "execution_count": 264,
   "metadata": {},
   "outputs": [
    {
     "data": {
      "image/png": "[encoded data removed]",
      "text/plain": [
       "<Figure size 432x288 with 1 Axes>"
      ]
     },
     "metadata": {},
     "output_type": "display_data"
    }
   ],
   "source": [
    "x = np.arange(-5, 5, 0.01)\n",
    "a, b, c, d, e, f, g, h, i, j = np.random.uniform(-1, 1, size=10)\n",
    "y = a + b*relu(c + d*x) + e*relu(f + g*x) + h*relu(i + j*x)\n",
    "plt.plot(x, y)\n",
    "plt.show()"
   ]
  },
  {
   "cell_type": "code",
   "execution_count": 345,
   "metadata": {},
   "outputs": [
    {
     "data": {
      "text/plain": [
       "array([[200.00164278],\n",
       "       [200.00164278],\n",
       "       [200.00164278],\n",
       "       [200.00164278],\n",
       "       [200.00164278],\n",
       "       [200.00164278],\n",
       "       [200.00164278],\n",
       "       [200.00164278],\n",
       "       [200.00164278],\n",
       "       [200.00164278],\n",
       "       [200.00164278],\n",
       "       [200.00164278],\n",
       "       [200.00164278],\n",
       "       [200.00164278],\n",
       "       [200.00164278],\n",
       "       [200.00164278],\n",
       "       [200.00164278],\n",
       "       [200.00164278],\n",
       "       [200.00164278],\n",
       "       [200.00164278],\n",
       "       [200.00164278],\n",
       "       [200.00164278],\n",
       "       [200.00164278],\n",
       "       [200.00164278],\n",
       "       [200.00164278],\n",
       "       [200.00164278],\n",
       "       [200.00164278],\n",
       "       [200.00164278],\n",
       "       [200.00164278],\n",
       "       [200.00164278],\n",
       "       [200.00164278],\n",
       "       [200.00164278],\n",
       "       [200.00164278],\n",
       "       [200.00164278],\n",
       "       [200.00164278],\n",
       "       [200.00164278],\n",
       "       [200.01003419],\n",
       "       [200.00164278],\n",
       "       [200.00164278],\n",
       "       [200.02584616],\n",
       "       [200.21070758],\n",
       "       [200.19389528],\n",
       "       [200.12250471],\n",
       "       [200.1357045 ],\n",
       "       [200.22983484],\n",
       "       [200.28471661],\n",
       "       [200.36561888],\n",
       "       [200.39467749],\n",
       "       [200.3617993 ],\n",
       "       [200.46562687],\n",
       "       [200.54428118],\n",
       "       [200.57766855],\n",
       "       [200.66798717],\n",
       "       [200.40820229],\n",
       "       [200.58158338],\n",
       "       [200.61143047],\n",
       "       [200.8684411 ],\n",
       "       [200.74963218],\n",
       "       [200.88919932],\n",
       "       [200.7133165 ],\n",
       "       [200.94537061],\n",
       "       [200.98393708],\n",
       "       [200.98161626],\n",
       "       [200.98095733],\n",
       "       [200.98225826],\n",
       "       [200.9863134 ],\n",
       "       [200.9853099 ],\n",
       "       [200.98777044],\n",
       "       [200.99111259],\n",
       "       [200.98695248],\n",
       "       [200.98952144],\n",
       "       [200.99032933],\n",
       "       [200.99081415],\n",
       "       [200.98971421],\n",
       "       [200.99247295],\n",
       "       [200.9960919 ],\n",
       "       [200.99423641],\n",
       "       [200.99806088],\n",
       "       [200.99549609],\n",
       "       [200.9993611 ],\n",
       "       [200.99822462],\n",
       "       [201.00235426],\n",
       "       [201.00095999],\n",
       "       [201.00187695],\n",
       "       [201.00472772],\n",
       "       [201.00292051],\n",
       "       [201.00710785],\n",
       "       [201.00850689],\n",
       "       [201.00443423],\n",
       "       [201.00781143],\n",
       "       [201.00972319],\n",
       "       [201.01076543],\n",
       "       [201.01114738],\n",
       "       [201.01426685],\n",
       "       [201.01492536],\n",
       "       [201.01377833],\n",
       "       [201.01068461],\n",
       "       [201.01422894],\n",
       "       [201.01670992],\n",
       "       [201.01327312],\n",
       "       [201.0202924 ],\n",
       "       [201.01935029],\n",
       "       [201.01851368],\n",
       "       [201.02434528],\n",
       "       [201.02315366],\n",
       "       [201.02540052],\n",
       "       [201.02324259],\n",
       "       [201.02218235],\n",
       "       [201.02550459],\n",
       "       [201.02865362],\n",
       "       [201.0294677 ],\n",
       "       [201.02939987],\n",
       "       [201.03094828],\n",
       "       [201.03213727],\n",
       "       [201.0312711 ],\n",
       "       [201.03286731],\n",
       "       [201.03726971],\n",
       "       [201.03735054],\n",
       "       [201.03560054],\n",
       "       [201.03890586],\n",
       "       [201.04261792],\n",
       "       [201.0410502 ],\n",
       "       [201.04310489],\n",
       "       [201.04196846],\n",
       "       [201.03966761],\n",
       "       [200.98229295],\n",
       "       [201.02562368],\n",
       "       [200.98720485],\n",
       "       [200.91272014],\n",
       "       [201.01412666],\n",
       "       [200.86299807],\n",
       "       [200.89753109],\n",
       "       [200.88613695],\n",
       "       [200.83889073],\n",
       "       [200.87650388],\n",
       "       [200.88514894],\n",
       "       [200.8029713 ],\n",
       "       [200.80638665],\n",
       "       [200.86203939],\n",
       "       [200.80873734],\n",
       "       [200.78594273],\n",
       "       [200.70400208],\n",
       "       [200.67772168],\n",
       "       [200.75707024],\n",
       "       [200.67673069],\n",
       "       [200.73327678],\n",
       "       [200.73351687],\n",
       "       [200.67108589],\n",
       "       [200.61205918],\n",
       "       [200.589724  ],\n",
       "       [200.51539487],\n",
       "       [200.59819144],\n",
       "       [200.50076562],\n",
       "       [200.54669267],\n",
       "       [200.56598288],\n",
       "       [200.50090152],\n",
       "       [200.44780427],\n",
       "       [200.44714016],\n",
       "       [200.51156515],\n",
       "       [200.45512849],\n",
       "       [200.37762314],\n",
       "       [200.4288618 ],\n",
       "       [200.36905819],\n",
       "       [200.37978119],\n",
       "       [200.4135192 ],\n",
       "       [200.31452876],\n",
       "       [200.30084759],\n",
       "       [200.29373044],\n",
       "       [200.28189248],\n",
       "       [200.24714561],\n",
       "       [200.23735984],\n",
       "       [200.24238022],\n",
       "       [200.23690255],\n",
       "       [200.18740578],\n",
       "       [200.12110372],\n",
       "       [200.18010838],\n",
       "       [200.14220817],\n",
       "       [200.09122093],\n",
       "       [200.12484165],\n",
       "       [200.11300118],\n",
       "       [200.09294815],\n",
       "       [200.04991181],\n",
       "       [200.0438909 ],\n",
       "       [199.97569533],\n",
       "       [199.98983045],\n",
       "       [199.97603483],\n",
       "       [199.94756765],\n",
       "       [199.96400173],\n",
       "       [199.89186747],\n",
       "       [199.90833993],\n",
       "       [199.91267426],\n",
       "       [199.86160727],\n",
       "       [199.84315498],\n",
       "       [199.92571075],\n",
       "       [199.83961399],\n",
       "       [199.79037805],\n",
       "       [199.80948336],\n",
       "       [199.73335356],\n",
       "       [199.8131388 ],\n",
       "       [199.69152409]])"
      ]
     },
     "execution_count": 345,
     "metadata": {},
     "output_type": "execute_result"
    }
   ],
   "source": [
    "yy + np.random.normal(0, 0.02, size=(XX.size,)).shape"
   ]
  },
  {
   "cell_type": "code",
   "execution_count": 401,
   "metadata": {},
   "outputs": [
    {
     "data": {
      "text/plain": [
       "65536"
      ]
     },
     "execution_count": 401,
     "metadata": {},
     "output_type": "execute_result"
    }
   ],
   "source": [
    "2**16"
   ]
  },
  {
   "cell_type": "code",
   "execution_count": null,
   "metadata": {},
   "outputs": [],
   "source": []
  }
 ],
 "metadata": {
  "kernelspec": {
   "display_name": "Python 3",
   "language": "python",
   "name": "python3"
  },
  "language_info": {
   "codemirror_mode": {
    "name": "ipython",
    "version": 3
   },
   "file_extension": ".py",
   "mimetype": "text/x-python",
   "name": "python",
   "nbconvert_exporter": "python",
   "pygments_lexer": "ipython3",
   "version": "3.6.5"
  }
 },
 "nbformat": 4,
 "nbformat_minor": 2
}
