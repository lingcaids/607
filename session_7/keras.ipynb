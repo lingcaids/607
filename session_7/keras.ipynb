{
 "cells": [
  {
   "cell_type": "code",
   "execution_count": 6,
   "metadata": {},
   "outputs": [],
   "source": [
    "from __future__ import absolute_import, division, print_function\n",
    "import tensorflow as tf\n",
    "from tensorflow import keras\n",
    "from tensorflow.keras import layers\n",
    "import numpy as np\n",
    "from matplotlib import pyplot as plt\n",
    "from sklearn.model_selection import train_test_split"
   ]
  },
  {
   "cell_type": "code",
   "execution_count": 234,
   "metadata": {},
   "outputs": [
    {
     "name": "stdout",
     "output_type": "stream",
     "text": [
      "Epoch 1/10\n",
      "300/300 - 0s - loss: 0.1584 - accuracy: 0.9800\n",
      "Epoch 2/10\n",
      "300/300 - 0s - loss: 0.1563 - accuracy: 0.9833\n",
      "Epoch 3/10\n",
      "300/300 - 0s - loss: 0.1546 - accuracy: 0.9833\n",
      "Epoch 4/10\n",
      "300/300 - 0s - loss: 0.1530 - accuracy: 0.9833\n",
      "Epoch 5/10\n",
      "300/300 - 0s - loss: 0.1515 - accuracy: 0.9833\n",
      "Epoch 6/10\n",
      "300/300 - 0s - loss: 0.1500 - accuracy: 0.9833\n",
      "Epoch 7/10\n",
      "300/300 - 0s - loss: 0.1486 - accuracy: 0.9833\n",
      "Epoch 8/10\n",
      "300/300 - 0s - loss: 0.1472 - accuracy: 0.9833\n",
      "Epoch 9/10\n",
      "300/300 - 0s - loss: 0.1457 - accuracy: 0.9833\n",
      "Epoch 10/10\n",
      "300/300 - 0s - loss: 0.1444 - accuracy: 0.9833\n"
     ]
    },
    {
     "data": {
      "text/plain": [
       "<tensorflow.python.keras.callbacks.History at 0x1a66adf898>"
      ]
     },
     "execution_count": 234,
     "metadata": {},
     "output_type": "execute_result"
    }
   ],
   "source": [
    "size=200\n",
    "\n",
    "X0 = np.random.multivariate_normal([0, -2], np.identity(2), size=size) \n",
    "X1 = np.random.multivariate_normal([0, 2], np.identity(2), size=size)\n",
    "X = np.concatenate([X0, X1])\n",
    "y = np.concatenate([np.zeros(size), np.ones(size)]).astype(int)\n",
    "\n",
    "X_train, X_test, y_train, y_test = train_test_split(X, y, test_size=0.25)\n",
    "\n",
    "model = tf.keras.Sequential()\n",
    "model.add(layers.Dense(1, input_dim=2, activation='sigmoid'))\n",
    "model.compile(loss='binary_crossentropy',\n",
    "              optimizer='rmsprop', # work here\n",
    "              metrics=['accuracy'])\n",
    "\n",
    "model.fit(X_train, y_train, epochs=1, verbose=2)"
   ]
  },
  {
   "cell_type": "code",
   "execution_count": 155,
   "metadata": {},
   "outputs": [],
   "source": [
    "t = np.arange(-10, 10, 0.1)\n",
    "U, V = np.meshgrid(t, t)\n",
    "UV = np.array([U, V])"
   ]
  },
  {
   "cell_type": "code",
   "execution_count": 236,
   "metadata": {},
   "outputs": [
    {
     "name": "stdout",
     "output_type": "stream",
     "text": [
      "Epoch 1/10\n",
      "300/300 - 0s - loss: 0.5901 - accuracy: 0.8167\n",
      "Epoch 2/10\n",
      "300/300 - 0s - loss: 0.5810 - accuracy: 0.9733\n",
      "Epoch 3/10\n",
      "300/300 - 0s - loss: 0.5736 - accuracy: 0.9733\n",
      "Epoch 4/10\n",
      "300/300 - 0s - loss: 0.5662 - accuracy: 0.9733\n",
      "Epoch 5/10\n",
      "300/300 - 0s - loss: 0.5593 - accuracy: 0.9733\n",
      "Epoch 6/10\n",
      "300/300 - 0s - loss: 0.5520 - accuracy: 0.9767\n",
      "Epoch 7/10\n",
      "300/300 - 0s - loss: 0.5445 - accuracy: 0.9767\n",
      "Epoch 8/10\n",
      "300/300 - 0s - loss: 0.5368 - accuracy: 0.9767\n",
      "Epoch 9/10\n",
      "300/300 - 0s - loss: 0.5291 - accuracy: 0.9733\n",
      "Epoch 10/10\n",
      "300/300 - 0s - loss: 0.5214 - accuracy: 0.9733\n"
     ]
    },
    {
     "data": {
      "text/plain": [
       "<tensorflow.python.keras.callbacks.History at 0x1a67525f60>"
      ]
     },
     "execution_count": 236,
     "metadata": {},
     "output_type": "execute_result"
    }
   ],
   "source": [
    "model = tf.keras.Sequential()\n",
    "model.add(layers.Dense(2, input_dim=2, activation='relu'))\n",
    "model.add(layers.Dense(2, activation='relu'))\n",
    "model.add(layers.Dense(1, activation='sigmoid'))\n",
    "model.compile(loss='binary_crossentropy',\n",
    "              optimizer='rmsprop',\n",
    "              metrics=['accuracy'])\n",
    "model.fit(X_train, y_train, epochs=10, verbose=2)"
   ]
  },
  {
   "cell_type": "code",
   "execution_count": 237,
   "metadata": {},
   "outputs": [
    {
     "data": {
      "text/plain": [
       "[<matplotlib.lines.Line2D at 0x1a679bea58>]"
      ]
     },
     "execution_count": 237,
     "metadata": {},
     "output_type": "execute_result"
    },
    {
     "data": {
      "image/png": "[encoded data removed]",
      "text/plain": [
       "<Figure size 432x288 with 1 Axes>"
      ]
     },
     "metadata": {},
     "output_type": "display_data"
    }
   ],
   "source": [
    "W = np.array([model.predict_proba(UV[:, i, :].T).reshape(-1) for i in range(len(U))])\n",
    "plt.xlim(-3, 3)\n",
    "plt.ylim(-5, 5)\n",
    "plt.contourf(t, t, W, levels=[0, 0.5, 1])\n",
    "plt.plot(X0[:, 0], X0[:, 1], 'ro', markeredgecolor='k')\n",
    "plt.plot(X1[:, 0], X1[:, 1], 'bo', markeredgecolor='k')"
   ]
  },
  {
   "cell_type": "code",
   "execution_count": 333,
   "metadata": {},
   "outputs": [
    {
     "data": {
      "image/png": "[encoded data removed]",
      "text/plain": [
       "<Figure size 720x720 with 1 Axes>"
      ]
     },
     "metadata": {},
     "output_type": "display_data"
    }
   ],
   "source": [
    "# size=1000\n",
    "\n",
    "# X0 = np.random.multivariate_normal([0, -2.5], np.identity(2), size=size) \n",
    "# X1 = np.random.multivariate_normal([2.5, 1], np.identity(2), size=size)\n",
    "# X2 = np.random.multivariate_normal([-2.5, 1], np.identity(2), size=size)\n",
    "# X3 = np.random.multivariate_normal([0, 2], np.diag([0.5, 3]), size=3*size)\n",
    "# X = np.concatenate([X0, X1, X2, X3])\n",
    "# y = np.concatenate([np.zeros(size), np.zeros(size), np.zeros(size), np.ones(3*size)]).astype(int)\n",
    "\n",
    "\n",
    "# model = tf.keras.Sequential()\n",
    "# model.add(layers.Dense(2, input_dim=2, activation='relu'))\n",
    "# model.add(layers.Dense(3, activation='relu'))\n",
    "# model.add(layers.Dense(3, activation='relu'))\n",
    "# model.add(layers.Dense(1, activation='sigmoid'))\n",
    "# model.compile(loss='binary_crossentropy',\n",
    "#               optimizer='rmsprop',\n",
    "#               metrics=['accuracy'])\n",
    "\n",
    "# X_train, X_test, y_train, y_test = train_test_split(X, y, test_size=0.25)\n",
    "# model.fit(X_train, y_train, epochs=50, verbose=0)\n",
    "\n",
    "# W = np.array([model.predict_proba(UV[:, i, :].T).reshape(-1) for i in range(len(U))])\n",
    "plt.figure(figsize=(10, 10))\n",
    "plt.contourf(t, t, W, levels=[0, 0.5, 1])\n",
    "# plt.plot(X[y == 0, 0], X[y == 0, 1], 'ro')\n",
    "# plt.plot(X[y == 1, 0], X[y == 1, 1], 'bo')\n",
    "plt.xlim(-5, 5)\n",
    "plt.ylim(-5, 5)\n",
    "plt.show()"
   ]
  },
  {
   "cell_type": "code",
   "execution_count": null,
   "metadata": {},
   "outputs": [],
   "source": []
  }
 ],
 "metadata": {
  "kernelspec": {
   "display_name": "Python 3",
   "language": "python",
   "name": "python3"
  },
  "language_info": {
   "codemirror_mode": {
    "name": "ipython",
    "version": 3
   },
   "file_extension": ".py",
   "mimetype": "text/x-python",
   "name": "python",
   "nbconvert_exporter": "python",
   "pygments_lexer": "ipython3",
   "version": "3.6.5"
  }
 },
 "nbformat": 4,
 "nbformat_minor": 2
}
