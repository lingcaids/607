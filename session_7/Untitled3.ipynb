{
 "cells": [
  {
   "cell_type": "code",
   "execution_count": 1,
   "metadata": {},
   "outputs": [],
   "source": [
    "from __future__ import absolute_import, division, print_function\n",
    "import tensorflow as tf\n",
    "from tensorflow import keras\n",
    "from tensorflow.keras import layers\n",
    "import numpy as np\n",
    "from matplotlib import pyplot as plt\n",
    "from sklearn.model_selection import train_test_split"
   ]
  },
  {
   "cell_type": "code",
   "execution_count": 139,
   "metadata": {},
   "outputs": [
    {
     "name": "stdout",
     "output_type": "stream",
     "text": [
      "0.49798583984375\n"
     ]
    },
    {
     "data": {
      "image/png": "[encoded data removed]",
      "text/plain": [
       "<Figure size 432x288 with 1 Axes>"
      ]
     },
     "metadata": {},
     "output_type": "display_data"
    }
   ],
   "source": [
    "n = 2**14\n",
    "X = np.random.uniform(size=2*n).reshape(n, 2)\n",
    "# y = np.logical_or((X[:, 0] <= 0.5)*(X[:, 1] <= 0.5), (X[:, 0] >= 0.5)*(X[:, 1] >= 0.5))\n",
    "y = np.linalg.norm(X - np.array([0.5, 0.5]), axis=1) < 0.4\n",
    "plt.plot(X[y == 0, 0], X[y == 0, 1], 'bo')\n",
    "plt.plot(X[y == 1, 0], X[y == 1, 1], 'ro')\n",
    "plt.plot()\n",
    "print(np.sum(y)/len(y))"
   ]
  },
  {
   "cell_type": "code",
   "execution_count": 156,
   "metadata": {},
   "outputs": [
    {
     "name": "stdout",
     "output_type": "stream",
     "text": [
      "Epoch 1/30\n",
      "16384/16384 [==============================] - 1s 33us/sample - loss: 0.6724 - accuracy: 0.6393\n",
      "Epoch 2/30\n",
      "16384/16384 [==============================] - 0s 22us/sample - loss: 0.6244 - accuracy: 0.7244\n",
      "Epoch 3/30\n",
      "16384/16384 [==============================] - 0s 22us/sample - loss: 0.5566 - accuracy: 0.7766\n",
      "Epoch 4/30\n",
      "16384/16384 [==============================] - 0s 22us/sample - loss: 0.4764 - accuracy: 0.8418\n",
      "Epoch 5/30\n",
      "16384/16384 [==============================] - 0s 22us/sample - loss: 0.3996 - accuracy: 0.8833\n",
      "Epoch 6/30\n",
      "16384/16384 [==============================] - 0s 22us/sample - loss: 0.3251 - accuracy: 0.9304\n",
      "Epoch 7/30\n",
      "16384/16384 [==============================] - 0s 22us/sample - loss: 0.2649 - accuracy: 0.9493\n",
      "Epoch 8/30\n",
      "16384/16384 [==============================] - 0s 22us/sample - loss: 0.2230 - accuracy: 0.9601\n",
      "Epoch 9/30\n",
      "16384/16384 [==============================] - 0s 22us/sample - loss: 0.1930 - accuracy: 0.9651\n",
      "Epoch 10/30\n",
      "16384/16384 [==============================] - 0s 22us/sample - loss: 0.1705 - accuracy: 0.9672\n",
      "Epoch 11/30\n",
      "16384/16384 [==============================] - 0s 22us/sample - loss: 0.1535 - accuracy: 0.9697\n",
      "Epoch 12/30\n",
      "16384/16384 [==============================] - 0s 22us/sample - loss: 0.1398 - accuracy: 0.9719\n",
      "Epoch 13/30\n",
      "16384/16384 [==============================] - 0s 22us/sample - loss: 0.1294 - accuracy: 0.9733\n",
      "Epoch 14/30\n",
      "16384/16384 [==============================] - 0s 24us/sample - loss: 0.1211 - accuracy: 0.9753\n",
      "Epoch 15/30\n",
      "16384/16384 [==============================] - 0s 22us/sample - loss: 0.1135 - accuracy: 0.9771\n",
      "Epoch 16/30\n",
      "16384/16384 [==============================] - 0s 22us/sample - loss: 0.1069 - accuracy: 0.9777\n",
      "Epoch 17/30\n",
      "16384/16384 [==============================] - 0s 22us/sample - loss: 0.1017 - accuracy: 0.9788\n",
      "Epoch 18/30\n",
      "16384/16384 [==============================] - 0s 22us/sample - loss: 0.0973 - accuracy: 0.9781\n",
      "Epoch 19/30\n",
      "16384/16384 [==============================] - 0s 22us/sample - loss: 0.0933 - accuracy: 0.9780\n",
      "Epoch 20/30\n",
      "16384/16384 [==============================] - 0s 22us/sample - loss: 0.0899 - accuracy: 0.9800\n",
      "Epoch 21/30\n",
      "16384/16384 [==============================] - 0s 22us/sample - loss: 0.0867 - accuracy: 0.9802\n",
      "Epoch 22/30\n",
      "16384/16384 [==============================] - 0s 22us/sample - loss: 0.0840 - accuracy: 0.9811\n",
      "Epoch 23/30\n",
      "16384/16384 [==============================] - 0s 22us/sample - loss: 0.0815 - accuracy: 0.9798\n",
      "Epoch 24/30\n",
      "16384/16384 [==============================] - 0s 22us/sample - loss: 0.0793 - accuracy: 0.9810\n",
      "Epoch 25/30\n",
      "16384/16384 [==============================] - 0s 23us/sample - loss: 0.0770 - accuracy: 0.9811\n",
      "Epoch 26/30\n",
      "16384/16384 [==============================] - 0s 23us/sample - loss: 0.0750 - accuracy: 0.9819\n",
      "Epoch 27/30\n",
      "16384/16384 [==============================] - 0s 23us/sample - loss: 0.0734 - accuracy: 0.9822\n",
      "Epoch 28/30\n",
      "16384/16384 [==============================] - 0s 22us/sample - loss: 0.0716 - accuracy: 0.9813\n",
      "Epoch 29/30\n",
      "16384/16384 [==============================] - 0s 23us/sample - loss: 0.0705 - accuracy: 0.9810\n",
      "Epoch 30/30\n",
      "16384/16384 [==============================] - 0s 23us/sample - loss: 0.0689 - accuracy: 0.9829\n"
     ]
    },
    {
     "data": {
      "text/plain": [
       "<tensorflow.python.keras.callbacks.History at 0x1a4a338da0>"
      ]
     },
     "execution_count": 156,
     "metadata": {},
     "output_type": "execute_result"
    }
   ],
   "source": [
    "n = 2**14\n",
    "X = np.random.uniform(size=2*n).reshape(n, 2)\n",
    "# y = np.logical_or((X[:, 0] <= 0.5)*(X[:, 1] <= 0.5), (X[:, 0] >= 0.5)*(X[:, 1] >= 0.5))\n",
    "y = np.linalg.norm(X - np.array([0.5, 0.5]), axis=1) < 0.4\n",
    "# I = np.random.uniform(size=n)>0.90\n",
    "# y[I] = np.logical_not(y[I])\n",
    "\n",
    "model = tf.keras.Sequential()\n",
    "model.add(layers.Dense(5, input_dim=2, activation='relu'))\n",
    "model.add(layers.Dense(5, activation='relu'))\n",
    "model.add(layers.Dense(1, activation='sigmoid'))\n",
    "model.compile(loss='binary_crossentropy',\n",
    "              optimizer='rmsprop', # work here\n",
    "              metrics=['accuracy'])\n",
    "model.fit(X, y, epochs=30)"
   ]
  },
  {
   "cell_type": "code",
   "execution_count": 157,
   "metadata": {},
   "outputs": [
    {
     "data": {
      "text/plain": [
       "[]"
      ]
     },
     "execution_count": 157,
     "metadata": {},
     "output_type": "execute_result"
    },
    {
     "data": {
      "image/png": "[encoded data removed]",
      "text/plain": [
       "<Figure size 432x288 with 1 Axes>"
      ]
     },
     "metadata": {},
     "output_type": "display_data"
    }
   ],
   "source": [
    "n = 2**10\n",
    "X = np.random.uniform(size=2*n).reshape(n, 2)\n",
    "y = np.logical_or((X[:, 0] <= 0.5)*(X[:, 1] <= 0.5), (X[:, 0] >= 0.5)*(X[:, 1] >= 0.5))\n",
    "y_p = model.predict_classes(X).reshape(-1)\n",
    "\n",
    "plt.plot(X[y_p == 0, 0], X[y_p == 0, 1], 'bo')\n",
    "plt.plot(X[y_p == 1, 0], X[y_p == 1, 1], 'ro')\n",
    "plt.plot()"
   ]
  },
  {
   "cell_type": "code",
   "execution_count": 152,
   "metadata": {},
   "outputs": [
    {
     "name": "stdout",
     "output_type": "stream",
     "text": [
      "Epoch 1/20\n",
      "1024/1024 [==============================] - 0s 32us/sample - loss: 2.0187 - accuracy: 0.5049\n",
      "Epoch 2/20\n",
      "1024/1024 [==============================] - 0s 33us/sample - loss: 1.9125 - accuracy: 0.5195\n",
      "Epoch 3/20\n",
      "1024/1024 [==============================] - 0s 34us/sample - loss: 1.8258 - accuracy: 0.5332\n",
      "Epoch 4/20\n",
      "1024/1024 [==============================] - 0s 36us/sample - loss: 1.7475 - accuracy: 0.5420\n",
      "Epoch 5/20\n",
      "1024/1024 [==============================] - 0s 33us/sample - loss: 1.6736 - accuracy: 0.5439\n",
      "Epoch 6/20\n",
      "1024/1024 [==============================] - 0s 34us/sample - loss: 1.6045 - accuracy: 0.5547\n",
      "Epoch 7/20\n",
      "1024/1024 [==============================] - 0s 32us/sample - loss: 1.5410 - accuracy: 0.5625\n",
      "Epoch 8/20\n",
      "1024/1024 [==============================] - 0s 33us/sample - loss: 1.4808 - accuracy: 0.5762\n",
      "Epoch 9/20\n",
      "1024/1024 [==============================] - 0s 31us/sample - loss: 1.4230 - accuracy: 0.5869\n",
      "Epoch 10/20\n",
      "1024/1024 [==============================] - 0s 32us/sample - loss: 1.3702 - accuracy: 0.5918\n",
      "Epoch 11/20\n",
      "1024/1024 [==============================] - 0s 32us/sample - loss: 1.3174 - accuracy: 0.6035\n",
      "Epoch 12/20\n",
      "1024/1024 [==============================] - 0s 34us/sample - loss: 1.2652 - accuracy: 0.6133\n",
      "Epoch 13/20\n",
      "1024/1024 [==============================] - 0s 34us/sample - loss: 1.2211 - accuracy: 0.6201\n",
      "Epoch 14/20\n",
      "1024/1024 [==============================] - 0s 30us/sample - loss: 1.1759 - accuracy: 0.6348\n",
      "Epoch 15/20\n",
      "1024/1024 [==============================] - 0s 31us/sample - loss: 1.1320 - accuracy: 0.6406\n",
      "Epoch 16/20\n",
      "1024/1024 [==============================] - 0s 34us/sample - loss: 1.0909 - accuracy: 0.7119\n",
      "Epoch 17/20\n",
      "1024/1024 [==============================] - 0s 31us/sample - loss: 1.0541 - accuracy: 0.7129\n",
      "Epoch 18/20\n",
      "1024/1024 [==============================] - 0s 30us/sample - loss: 1.0228 - accuracy: 0.7285\n",
      "Epoch 19/20\n",
      "1024/1024 [==============================] - 0s 30us/sample - loss: 0.9949 - accuracy: 0.7363\n",
      "Epoch 20/20\n",
      "1024/1024 [==============================] - 0s 30us/sample - loss: 0.9696 - accuracy: 0.7451\n"
     ]
    },
    {
     "data": {
      "text/plain": [
       "<tensorflow.python.keras.callbacks.History at 0x1a48be3320>"
      ]
     },
     "execution_count": 152,
     "metadata": {},
     "output_type": "execute_result"
    }
   ],
   "source": [
    "model.fit(X, y, epochs=20)"
   ]
  },
  {
   "cell_type": "code",
   "execution_count": 146,
   "metadata": {},
   "outputs": [
    {
     "name": "stdout",
     "output_type": "stream",
     "text": [
      "Epoch 1/20\n",
      "16384/16384 [==============================] - 0s 23us/sample - loss: 0.3113 - accuracy: 0.8562\n",
      "Epoch 2/20\n",
      "16384/16384 [==============================] - 0s 22us/sample - loss: 0.3057 - accuracy: 0.8572\n",
      "Epoch 3/20\n",
      "16384/16384 [==============================] - 0s 22us/sample - loss: 0.3006 - accuracy: 0.8609\n",
      "Epoch 4/20\n",
      "16384/16384 [==============================] - 0s 22us/sample - loss: 0.2961 - accuracy: 0.8618\n",
      "Epoch 5/20\n",
      "16384/16384 [==============================] - 0s 22us/sample - loss: 0.2913 - accuracy: 0.8640\n",
      "Epoch 6/20\n",
      "16384/16384 [==============================] - 0s 24us/sample - loss: 0.2870 - accuracy: 0.8661\n",
      "Epoch 7/20\n",
      "16384/16384 [==============================] - 0s 22us/sample - loss: 0.2828 - accuracy: 0.8699\n",
      "Epoch 8/20\n",
      "16384/16384 [==============================] - 0s 22us/sample - loss: 0.2786 - accuracy: 0.8709\n",
      "Epoch 9/20\n",
      "16384/16384 [==============================] - 0s 22us/sample - loss: 0.2744 - accuracy: 0.8738\n",
      "Epoch 10/20\n",
      "16384/16384 [==============================] - 0s 22us/sample - loss: 0.2700 - accuracy: 0.8742\n",
      "Epoch 11/20\n",
      "16384/16384 [==============================] - 0s 22us/sample - loss: 0.2623 - accuracy: 0.8806\n",
      "Epoch 12/20\n",
      "16384/16384 [==============================] - 0s 22us/sample - loss: 0.2366 - accuracy: 0.8979\n",
      "Epoch 13/20\n",
      "16384/16384 [==============================] - 0s 22us/sample - loss: 0.2063 - accuracy: 0.9171\n",
      "Epoch 14/20\n",
      "16384/16384 [==============================] - 0s 22us/sample - loss: 0.1864 - accuracy: 0.9288\n",
      "Epoch 15/20\n",
      "16384/16384 [==============================] - 0s 22us/sample - loss: 0.1769 - accuracy: 0.9326\n",
      "Epoch 16/20\n",
      "16384/16384 [==============================] - 0s 23us/sample - loss: 0.1713 - accuracy: 0.9335\n",
      "Epoch 17/20\n",
      "16384/16384 [==============================] - 0s 23us/sample - loss: 0.1666 - accuracy: 0.9362\n",
      "Epoch 18/20\n",
      "16384/16384 [==============================] - 0s 22us/sample - loss: 0.1637 - accuracy: 0.9359\n",
      "Epoch 19/20\n",
      "16384/16384 [==============================] - 0s 22us/sample - loss: 0.1607 - accuracy: 0.9375\n",
      "Epoch 20/20\n",
      "16384/16384 [==============================] - 0s 22us/sample - loss: 0.1583 - accuracy: 0.9378\n"
     ]
    },
    {
     "data": {
      "text/plain": [
       "<tensorflow.python.keras.callbacks.History at 0x1a47b79b38>"
      ]
     },
     "execution_count": 146,
     "metadata": {},
     "output_type": "execute_result"
    }
   ],
   "source": [
    "model.fit(X, y, epochs=20)"
   ]
  },
  {
   "cell_type": "code",
   "execution_count": 147,
   "metadata": {},
   "outputs": [
    {
     "name": "stdout",
     "output_type": "stream",
     "text": [
      "Epoch 1/20\n",
      "16384/16384 [==============================] - 0s 23us/sample - loss: 0.1557 - accuracy: 0.9385\n",
      "Epoch 2/20\n",
      "16384/16384 [==============================] - 0s 22us/sample - loss: 0.1533 - accuracy: 0.9413\n",
      "Epoch 3/20\n",
      "16384/16384 [==============================] - 0s 22us/sample - loss: 0.1513 - accuracy: 0.9410\n",
      "Epoch 4/20\n",
      "16384/16384 [==============================] - 0s 22us/sample - loss: 0.1493 - accuracy: 0.9412\n",
      "Epoch 5/20\n",
      "16384/16384 [==============================] - 0s 22us/sample - loss: 0.1477 - accuracy: 0.9426\n",
      "Epoch 6/20\n",
      "16384/16384 [==============================] - 0s 22us/sample - loss: 0.1455 - accuracy: 0.9436\n",
      "Epoch 7/20\n",
      "16384/16384 [==============================] - 0s 23us/sample - loss: 0.1439 - accuracy: 0.9446\n",
      "Epoch 8/20\n",
      "16384/16384 [==============================] - 0s 22us/sample - loss: 0.1427 - accuracy: 0.9440\n",
      "Epoch 9/20\n",
      "16384/16384 [==============================] - 0s 22us/sample - loss: 0.1406 - accuracy: 0.9450\n",
      "Epoch 10/20\n",
      "16384/16384 [==============================] - 0s 22us/sample - loss: 0.1392 - accuracy: 0.9462\n",
      "Epoch 11/20\n",
      "16384/16384 [==============================] - 0s 22us/sample - loss: 0.1379 - accuracy: 0.9459s - loss: 0.1370 - accuracy: \n",
      "Epoch 12/20\n",
      "16384/16384 [==============================] - 0s 22us/sample - loss: 0.1361 - accuracy: 0.9479\n",
      "Epoch 13/20\n",
      "16384/16384 [==============================] - 0s 22us/sample - loss: 0.1353 - accuracy: 0.9476\n",
      "Epoch 14/20\n",
      "16384/16384 [==============================] - 0s 22us/sample - loss: 0.1337 - accuracy: 0.9478\n",
      "Epoch 15/20\n",
      "16384/16384 [==============================] - 0s 22us/sample - loss: 0.1325 - accuracy: 0.9490\n",
      "Epoch 16/20\n",
      "16384/16384 [==============================] - 0s 22us/sample - loss: 0.1313 - accuracy: 0.9484\n",
      "Epoch 17/20\n",
      "16384/16384 [==============================] - 0s 24us/sample - loss: 0.1300 - accuracy: 0.9506\n",
      "Epoch 18/20\n",
      "16384/16384 [==============================] - 0s 24us/sample - loss: 0.1290 - accuracy: 0.9492\n",
      "Epoch 19/20\n",
      "16384/16384 [==============================] - 0s 22us/sample - loss: 0.1277 - accuracy: 0.9509\n",
      "Epoch 20/20\n",
      "16384/16384 [==============================] - 0s 22us/sample - loss: 0.1268 - accuracy: 0.9516\n"
     ]
    },
    {
     "data": {
      "text/plain": [
       "<tensorflow.python.keras.callbacks.History at 0x1a483d9550>"
      ]
     },
     "execution_count": 147,
     "metadata": {},
     "output_type": "execute_result"
    }
   ],
   "source": [
    "model.fit(X, y, epochs=20)"
   ]
  },
  {
   "cell_type": "code",
   "execution_count": 148,
   "metadata": {},
   "outputs": [
    {
     "name": "stdout",
     "output_type": "stream",
     "text": [
      "Epoch 1/20\n",
      "16384/16384 [==============================] - 0s 23us/sample - loss: 0.1254 - accuracy: 0.9515\n",
      "Epoch 2/20\n",
      "16384/16384 [==============================] - 0s 22us/sample - loss: 0.1246 - accuracy: 0.9511\n",
      "Epoch 3/20\n",
      "16384/16384 [==============================] - 0s 22us/sample - loss: 0.1239 - accuracy: 0.9518\n",
      "Epoch 4/20\n",
      "16384/16384 [==============================] - 0s 22us/sample - loss: 0.1225 - accuracy: 0.9522\n",
      "Epoch 5/20\n",
      "16384/16384 [==============================] - 0s 22us/sample - loss: 0.1216 - accuracy: 0.9524\n",
      "Epoch 6/20\n",
      "16384/16384 [==============================] - 0s 22us/sample - loss: 0.1210 - accuracy: 0.9528\n",
      "Epoch 7/20\n",
      "16384/16384 [==============================] - 0s 22us/sample - loss: 0.1202 - accuracy: 0.9545\n",
      "Epoch 8/20\n",
      "16384/16384 [==============================] - 0s 23us/sample - loss: 0.1194 - accuracy: 0.9534\n",
      "Epoch 9/20\n",
      "16384/16384 [==============================] - 0s 22us/sample - loss: 0.1185 - accuracy: 0.9539\n",
      "Epoch 10/20\n",
      "16384/16384 [==============================] - 0s 22us/sample - loss: 0.1176 - accuracy: 0.9545\n",
      "Epoch 11/20\n",
      "16384/16384 [==============================] - 0s 22us/sample - loss: 0.1170 - accuracy: 0.9540\n",
      "Epoch 12/20\n",
      "16384/16384 [==============================] - 0s 22us/sample - loss: 0.1161 - accuracy: 0.9554\n",
      "Epoch 13/20\n",
      "16384/16384 [==============================] - 0s 22us/sample - loss: 0.1155 - accuracy: 0.9552\n",
      "Epoch 14/20\n",
      "16384/16384 [==============================] - 0s 22us/sample - loss: 0.1147 - accuracy: 0.9543\n",
      "Epoch 15/20\n",
      "16384/16384 [==============================] - 0s 22us/sample - loss: 0.1140 - accuracy: 0.9554\n",
      "Epoch 16/20\n",
      "16384/16384 [==============================] - 0s 22us/sample - loss: 0.1134 - accuracy: 0.9551\n",
      "Epoch 17/20\n",
      "16384/16384 [==============================] - 0s 22us/sample - loss: 0.1129 - accuracy: 0.9553\n",
      "Epoch 18/20\n",
      "16384/16384 [==============================] - 0s 23us/sample - loss: 0.1122 - accuracy: 0.9557\n",
      "Epoch 19/20\n",
      "16384/16384 [==============================] - 0s 22us/sample - loss: 0.1120 - accuracy: 0.9557\n",
      "Epoch 20/20\n",
      "16384/16384 [==============================] - 0s 22us/sample - loss: 0.1115 - accuracy: 0.9551\n"
     ]
    },
    {
     "data": {
      "text/plain": [
       "<tensorflow.python.keras.callbacks.History at 0x1a483d9fd0>"
      ]
     },
     "execution_count": 148,
     "metadata": {},
     "output_type": "execute_result"
    }
   ],
   "source": [
    "model.fit(X, y, epochs=20)"
   ]
  },
  {
   "cell_type": "markdown",
   "metadata": {},
   "source": [
    "## XNOR"
   ]
  },
  {
   "cell_type": "code",
   "execution_count": 288,
   "metadata": {},
   "outputs": [
    {
     "data": {
      "text/plain": [
       "[]"
      ]
     },
     "execution_count": 288,
     "metadata": {},
     "output_type": "execute_result"
    },
    {
     "data": {
      "image/png": "[encoded data removed]",
      "text/plain": [
       "<Figure size 432x288 with 1 Axes>"
      ]
     },
     "metadata": {},
     "output_type": "display_data"
    }
   ],
   "source": [
    "def xnor(x): return np.logical_not(np.logical_xor(X[:, 0], X[:, 1]))\n",
    "\n",
    "n = 2**8\n",
    "X = np.random.randint(2, size=(n, 2))\n",
    "y = xnor(X)\n",
    "X = X + np.random.normal(0, 0.3, size=(n, 2))\n",
    "\n",
    "model = tf.keras.Sequential()\n",
    "model.add(layers.Dense(5, input_dim=2, activation='relu'))\n",
    "model.add(layers.Dense(5, activation='relu'))\n",
    "model.add(layers.Dense(1, activation='sigmoid'))\n",
    "model.compile(loss='binary_crossentropy',\n",
    "              optimizer='rmsprop', # work here\n",
    "              metrics=['accuracy'])\n",
    "model.fit(X, y, epochs=30, verbose=0)\n",
    "\n",
    "plt.plot(X[y == 0, 0], X[y == 0, 1], 'bo')\n",
    "plt.plot(X[y == 1, 0], X[y == 1, 1], 'ro')\n",
    "plt.plot()"
   ]
  },
  {
   "cell_type": "code",
   "execution_count": 289,
   "metadata": {
    "slideshow": {
     "slide_type": "slide"
    }
   },
   "outputs": [
    {
     "data": {
      "text/plain": [
       "array([[1],\n",
       "       [0],\n",
       "       [0],\n",
       "       [1]], dtype=int32)"
      ]
     },
     "execution_count": 289,
     "metadata": {},
     "output_type": "execute_result"
    }
   ],
   "source": [
    "X = np.array([[0, 0, 1, 1], [0, 1, 0, 1]]).T\n",
    "model.predict_classes(X)"
   ]
  },
  {
   "cell_type": "code",
   "execution_count": 290,
   "metadata": {},
   "outputs": [
    {
     "data": {
      "text/plain": [
       "[]"
      ]
     },
     "execution_count": 290,
     "metadata": {},
     "output_type": "execute_result"
    },
    {
     "data": {
      "image/png": "[encoded data removed]",
      "text/plain": [
       "<Figure size 432x288 with 1 Axes>"
      ]
     },
     "metadata": {},
     "output_type": "display_data"
    }
   ],
   "source": [
    "X = np.random.uniform(size=(500, 2))\n",
    "y = model.predict_classes(X).reshape(-1)\n",
    "\n",
    "plt.plot(X[y == 0, 0], X[y == 0, 1], 'bo')\n",
    "plt.plot(X[y == 1, 0], X[y == 1, 1], 'ro')\n",
    "plt.plot()\n"
   ]
  },
  {
   "cell_type": "code",
   "execution_count": 297,
   "metadata": {},
   "outputs": [],
   "source": [
    "def relu(X): return np.maximum(0, X)\n",
    "def sigmoid(X): return 1/(1 + np.exp(-X))\n",
    "X = np.array([[0, 0], [0, 1], [1, 0], [1, 1]])\n",
    "W1 = np.array([[20, -20], [20, -20]])\n",
    "b1 = np.array([[-30, 10]])"
   ]
  },
  {
   "cell_type": "code",
   "execution_count": 317,
   "metadata": {},
   "outputs": [],
   "source": [
    "W2 = np.array([[20], [20]])\n",
    "b2 = np.array([-10])\n",
    "z2 = a1 @ W2 + b2\n",
    "a2 = sigmoid(z2)\n",
    "yhat = np.round(a2)"
   ]
  },
  {
   "cell_type": "code",
   "execution_count": 318,
   "metadata": {},
   "outputs": [
    {
     "data": {
      "text/plain": [
       "array([[1.],\n",
       "       [0.],\n",
       "       [0.],\n",
       "       [1.]])"
      ]
     },
     "execution_count": 318,
     "metadata": {},
     "output_type": "execute_result"
    }
   ],
   "source": [
    "yhat"
   ]
  },
  {
   "cell_type": "code",
   "execution_count": 320,
   "metadata": {},
   "outputs": [
    {
     "data": {
      "text/plain": [
       "array([[190],\n",
       "       [-10],\n",
       "       [-10],\n",
       "       [190]])"
      ]
     },
     "execution_count": 320,
     "metadata": {},
     "output_type": "execute_result"
    }
   ],
   "source": [
    "z2"
   ]
  },
  {
   "cell_type": "code",
   "execution_count": null,
   "metadata": {},
   "outputs": [],
   "source": []
  }
 ],
 "metadata": {
  "kernelspec": {
   "display_name": "Python 3",
   "language": "python",
   "name": "python3"
  },
  "language_info": {
   "codemirror_mode": {
    "name": "ipython",
    "version": 3
   },
   "file_extension": ".py",
   "mimetype": "text/x-python",
   "name": "python",
   "nbconvert_exporter": "python",
   "pygments_lexer": "ipython3",
   "version": "3.6.5"
  }
 },
 "nbformat": 4,
 "nbformat_minor": 2
}
