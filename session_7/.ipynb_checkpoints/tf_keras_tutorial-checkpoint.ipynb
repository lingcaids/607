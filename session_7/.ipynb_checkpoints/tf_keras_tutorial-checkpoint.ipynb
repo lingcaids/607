{
 "cells": [
  {
   "cell_type": "markdown",
   "metadata": {},
   "source": [
    "## Tensorflow/Keras Tutorial"
   ]
  },
  {
   "cell_type": "code",
   "execution_count": 52,
   "metadata": {},
   "outputs": [],
   "source": [
    "from __future__ import absolute_import, division, print_function\n",
    "import tensorflow as tf\n",
    "from tensorflow import keras\n",
    "import numpy as np\n",
    "from matplotlib import pyplot as plt\n",
    "from sklearn.model_selection import train_test_split"
   ]
  },
  {
   "cell_type": "markdown",
   "metadata": {},
   "source": [
    "### Sequential networks; layers\n",
    "- A **feed-forward** or **sequential** neural network is constructed using the `tf.keras.Sequential` class construtor.\n",
    "It takes a list of **layers** as input. The last layer in the list is the output layer. The rest are hidden layers.\n",
    "- Layers are defined in the `tf.layers.keras` module.\n",
    "- In a **dense** layer, a unit is connected with every unit in the previous layer.\n",
    "- The first layer in a sequential network is responsible for specifying the dimension of the data, i.e., the number of columns of the data matrix, in the `input_dim` keyword argument.\n",
    "- A sequential model stores its list of layers in its `layers` attribute."
   ]
  },
  {
   "cell_type": "code",
   "execution_count": 53,
   "metadata": {},
   "outputs": [
    {
     "name": "stdout",
     "output_type": "stream",
     "text": [
      "Layers: [<tensorflow.python.keras.layers.core.Dense object at 0x1a2d2b8a20>, <tensorflow.python.keras.layers.core.Dense object at 0x1a2d312518>]\n",
      "Model: \"sequential_7\"\n",
      "_________________________________________________________________\n",
      "Layer (type)                 Output Shape              Param #   \n",
      "=================================================================\n",
      "dense_10 (Dense)             (None, 3)                 9         \n",
      "_________________________________________________________________\n",
      "dense_11 (Dense)             (None, 1)                 4         \n",
      "=================================================================\n",
      "Total params: 13\n",
      "Trainable params: 13\n",
      "Non-trainable params: 0\n",
      "_________________________________________________________________\n"
     ]
    }
   ],
   "source": [
    "model = tf.keras.Sequential([\n",
    "    tf.keras.layers.Dense(3, input_dim=2, activation='relu'),\n",
    "    tf.keras.layers.Dense(1, activation='sigmoid')\n",
    "])\n",
    "print(f\"Layers: {model.layers}\")\n",
    "model.summary()"
   ]
  },
  {
   "cell_type": "markdown",
   "metadata": {},
   "source": [
    "### Weights\n",
    "- Weights associated to connections between units are initialized randomly. Biases are initialized to zero.\n",
    "- Inspect the weights using the `get_weights` method.\n",
    "- It returns a list of length $2L$, $L$ being the number of layers, containing the weight matrices and bias vectors of each layer.\n",
    "- The weight matrix of dense layer $\\ell$ has size $p_{\\ell - 1}\\times p_\\ell$, where $p_\\ell$ is the number of units in the $\\ell$-th layer."
   ]
  },
  {
   "cell_type": "code",
   "execution_count": 54,
   "metadata": {},
   "outputs": [
    {
     "name": "stdout",
     "output_type": "stream",
     "text": [
      "[array([[0., 0., 0.],\n",
      "       [0., 0., 0.]], dtype=float32), array([0., 0., 0.], dtype=float32), array([[0.],\n",
      "       [0.],\n",
      "       [0.]], dtype=float32), array([0.], dtype=float32)]\n"
     ]
    }
   ],
   "source": [
    "w1, b1, w2, b2 = model.get_weights()\n",
    "model.set_weights([np.zeros_like(w1), b1, np.zeros_like(w2), b2])\n",
    "print(model.get_weights())\n",
    "model.set_weights([w1, np.ones_like(b1), w2, np.ones_like(b2)])"
   ]
  },
  {
   "cell_type": "markdown",
   "metadata": {},
   "source": [
    "### Forward propagation; prediction\n",
    "- If $W^{[\\ell]}$, $b^{[\\ell]}$, and $A_\\ell$ are the weight matrix, and bias vector and activation function of layer $\\ell$ and $a^{[\\ell]}$ and $a^{[\\ell-1]}$ is the vector of activations of layers $\\ell$ and $\\ell - 1$, then $$a^{[\\ell]} = A_\\ell(a^{[\\ell - 1]}W^{[\\ell]} + b^{[\\ell]}).$$\n",
    "- We define the activations of the input layer to be the input values, themselves.\n",
    "- To propagate data through a network, use the `predict` method.\n",
    "- To check our understanding, we can do this manually."
   ]
  },
  {
   "cell_type": "code",
   "execution_count": 69,
   "metadata": {},
   "outputs": [
    {
     "name": "stdout",
     "output_type": "stream",
     "text": [
      "[[0.88107616]\n",
      " [0.755816  ]\n",
      " [0.73215616]\n",
      " [0.90062785]\n",
      " [0.8907727 ]\n",
      " [0.8384137 ]\n",
      " [0.80517995]\n",
      " [0.7444783 ]\n",
      " [0.74619466]\n",
      " [0.7786551 ]]\n",
      "tf.Tensor(\n",
      "[[0.88107616]\n",
      " [0.75581599]\n",
      " [0.7321562 ]\n",
      " [0.90062782]\n",
      " [0.89077264]\n",
      " [0.83841366]\n",
      " [0.80517999]\n",
      " [0.74447825]\n",
      " [0.7461947 ]\n",
      " [0.77865512]], shape=(10, 1), dtype=float64)\n"
     ]
    }
   ],
   "source": [
    "X = np.random.normal(size=(10, 2))\n",
    "print(model.predict(X))\n",
    "\n",
    "relu = tf.keras.activations.relu\n",
    "sigmoid = tf.keras.activations.sigmoid\n",
    "\n",
    "w1, b1, w2, b2 = model.get_weights()\n",
    "a0 = X\n",
    "a1 = relu(a0.dot(w1) + b1).numpy()\n",
    "a2 = sigmoid(a1.dot(w2) + b2)\n",
    "\n",
    "print(a2)"
   ]
  },
  {
   "cell_type": "markdown",
   "metadata": {},
   "source": [
    "### Exercise\n",
    "\n",
    "- Encode this 1-layer neural network with sigmoid activation as a Keras sequential model. Set the weights and bias as indicated.\n",
    "- Predict the values for $(0, 0)$, $(1, 0)$,  $(0, 1)$, and $(1, 1)$.\n",
    "\n",
    "<img src=\"one_and_three_nn.png\" height=\"50%\" width=\"50%\" />"
   ]
  },
  {
   "cell_type": "code",
   "execution_count": null,
   "metadata": {},
   "outputs": [],
   "source": []
  },
  {
   "cell_type": "markdown",
   "metadata": {},
   "source": [
    "### Exercise\n",
    "\n",
    "- Encode this 2-layer neural network as a Keras sequential model. Set the weights and bias as indicated.\n",
    "- Predict the values for $(0, 0)$, $(1, 0)$,  $(0, 1)$, and $(1, 1)$.\n",
    "\n",
    "<img src=\"xnor.png\" height=\"50%\" width=\"50%\" />"
   ]
  },
  {
   "cell_type": "markdown",
   "metadata": {},
   "source": [
    "### Training\n",
    "\n",
    "- In practice we don't assign weights; the network **learns** the weights from **training data**.\n",
    "- Given a data point $(\\boldsymbol{x}, y)$, can feed $\\boldsymbol{x}$ into the network which returns a quantity $\\widehat y$.\n",
    "- Error in approimating of $y$ by $\\widehat y$ is encoded in a **loss function** $L(y, \\widehat{y})$.\n",
    "- Which loss function to use is part of the design of your machine learning algorithm. It is not intrinsic to the neural network; you must provide it to the `compile` method.\n",
    "- By **backpropagating** this error through the network, `tensorflow` systematically adjusts the weights and biases to reduce the error.\n",
    "Specity the **optimizer**, the numerical algorithm used to adjust the weights and biases, as the `optimizer` argument of the model's `compile` method.\n",
    "- A training loop can makes multiple passes over the training date. Each pass through an **epoch**. Specify the number of training epochs to the `compile` method as the `epochs` argument."
   ]
  },
  {
   "cell_type": "code",
   "execution_count": 154,
   "metadata": {},
   "outputs": [
    {
     "name": "stdout",
     "output_type": "stream",
     "text": [
      "[[3.1560889  2.34395599]] [1] \n",
      "\n",
      "The cross entropy loss should be: [0.10912164]\n",
      "\n",
      "1/1 [==============================] - 0s 80ms/sample - loss: 0.1091 - accuracy: 1.0000\n"
     ]
    }
   ],
   "source": [
    "model = tf.keras.Sequential([\n",
    "    tf.keras.layers.Dense(3, input_dim=2, activation='relu'),\n",
    "    tf.keras.layers.Dense(1, activation='sigmoid')\n",
    "])\n",
    "\n",
    "model.compile(loss='binary_crossentropy',\n",
    "              optimizer='sgd',\n",
    "              metrics=['accuracy'])\n",
    "\n",
    "X = np.random.normal(size=(1, 2))\n",
    "y = np.random.randint(2, size=(1,))\n",
    "print(X, y, \"\\n\")\n",
    "\n",
    "y_p = model.predict(X)\n",
    "\n",
    "loss_should_be = tf.keras.losses.binary_crossentropy(y, y_p)\n",
    "print(f\"The cross entropy loss should be: {loss_should_be}\\n\")\n",
    "\n",
    "h = model.fit(X, y)"
   ]
  },
  {
   "cell_type": "code",
   "execution_count": 166,
   "metadata": {},
   "outputs": [
    {
     "name": "stdout",
     "output_type": "stream",
     "text": [
      "Expected training accuracy: 0.6\n",
      "\n",
      "\r",
      "20/20 [==============================] - 0s 55us/sample - loss: 0.6967 - accuracy: 0.6000\n"
     ]
    },
    {
     "data": {
      "text/plain": [
       "<tensorflow.python.keras.callbacks.History at 0x1a374b8ba8>"
      ]
     },
     "execution_count": 166,
     "metadata": {},
     "output_type": "execute_result"
    }
   ],
   "source": [
    "X = np.random.normal(size=(20, 2))\n",
    "y = np.random.randint(2, size=(20,))\n",
    "expected_training_accuracy = np.sum(model.predict_classes(X).reshape(-1) == y)/len(y)\n",
    "print(f\"Expected training accuracy: {expected_training_accuracy}\\n\")\n",
    "model.fit(X, y)"
   ]
  },
  {
   "cell_type": "code",
   "execution_count": 217,
   "metadata": {},
   "outputs": [
    {
     "data": {
      "image/png": "[encoded data removed]",
      "text/plain": [
       "<Figure size 432x288 with 1 Axes>"
      ]
     },
     "metadata": {},
     "output_type": "display_data"
    },
    {
     "name": "stdout",
     "output_type": "stream",
     "text": [
      "Train on 10000 samples, validate on 1000 samples\n",
      "Epoch 1/30\n",
      "10000/10000 [==============================] - 0s 39us/sample - loss: 0.6891 - accuracy: 0.4972 - val_loss: 0.6848 - val_accuracy: 0.5100\n",
      "Epoch 2/30\n",
      "10000/10000 [==============================] - 0s 21us/sample - loss: 0.6829 - accuracy: 0.5297 - val_loss: 0.6786 - val_accuracy: 0.5540\n",
      "Epoch 3/30\n",
      "10000/10000 [==============================] - 0s 22us/sample - loss: 0.6769 - accuracy: 0.5712 - val_loss: 0.6724 - val_accuracy: 0.5860\n",
      "Epoch 4/30\n",
      "10000/10000 [==============================] - 0s 22us/sample - loss: 0.6710 - accuracy: 0.6040 - val_loss: 0.6665 - val_accuracy: 0.6180\n",
      "Epoch 5/30\n",
      "10000/10000 [==============================] - 0s 21us/sample - loss: 0.6653 - accuracy: 0.6312 - val_loss: 0.6609 - val_accuracy: 0.6420\n",
      "Epoch 6/30\n",
      "10000/10000 [==============================] - 0s 22us/sample - loss: 0.6599 - accuracy: 0.6496 - val_loss: 0.6555 - val_accuracy: 0.6690\n",
      "Epoch 7/30\n",
      "10000/10000 [==============================] - 0s 22us/sample - loss: 0.6546 - accuracy: 0.6708 - val_loss: 0.6503 - val_accuracy: 0.6880\n",
      "Epoch 8/30\n",
      "10000/10000 [==============================] - 0s 21us/sample - loss: 0.6496 - accuracy: 0.7066 - val_loss: 0.6454 - val_accuracy: 0.7310\n",
      "Epoch 9/30\n",
      "10000/10000 [==============================] - 0s 22us/sample - loss: 0.6448 - accuracy: 0.7554 - val_loss: 0.6406 - val_accuracy: 0.7740\n",
      "Epoch 10/30\n",
      "10000/10000 [==============================] - 0s 21us/sample - loss: 0.6403 - accuracy: 0.7910 - val_loss: 0.6361 - val_accuracy: 0.8040\n",
      "Epoch 11/30\n",
      "10000/10000 [==============================] - 0s 22us/sample - loss: 0.6361 - accuracy: 0.8182 - val_loss: 0.6319 - val_accuracy: 0.8280\n",
      "Epoch 12/30\n",
      "10000/10000 [==============================] - 0s 22us/sample - loss: 0.6320 - accuracy: 0.8376 - val_loss: 0.6278 - val_accuracy: 0.8440\n",
      "Epoch 13/30\n",
      "10000/10000 [==============================] - 0s 22us/sample - loss: 0.6282 - accuracy: 0.8541 - val_loss: 0.6239 - val_accuracy: 0.8580\n",
      "Epoch 14/30\n",
      "10000/10000 [==============================] - 0s 23us/sample - loss: 0.6244 - accuracy: 0.8662 - val_loss: 0.6202 - val_accuracy: 0.8690\n",
      "Epoch 15/30\n",
      "10000/10000 [==============================] - 0s 22us/sample - loss: 0.6208 - accuracy: 0.8778 - val_loss: 0.6166 - val_accuracy: 0.8830\n",
      "Epoch 16/30\n",
      "10000/10000 [==============================] - 0s 22us/sample - loss: 0.6174 - accuracy: 0.8884 - val_loss: 0.6131 - val_accuracy: 0.8910\n",
      "Epoch 17/30\n",
      "10000/10000 [==============================] - 0s 22us/sample - loss: 0.6140 - accuracy: 0.8957 - val_loss: 0.6096 - val_accuracy: 0.8970\n",
      "Epoch 18/30\n",
      "10000/10000 [==============================] - 0s 22us/sample - loss: 0.6106 - accuracy: 0.9006 - val_loss: 0.6062 - val_accuracy: 0.9030\n",
      "Epoch 19/30\n",
      "10000/10000 [==============================] - 0s 23us/sample - loss: 0.6073 - accuracy: 0.9054 - val_loss: 0.6028 - val_accuracy: 0.9080\n",
      "Epoch 20/30\n",
      "10000/10000 [==============================] - 0s 22us/sample - loss: 0.6040 - accuracy: 0.9090 - val_loss: 0.5994 - val_accuracy: 0.9140\n",
      "Epoch 21/30\n",
      "10000/10000 [==============================] - 0s 23us/sample - loss: 0.6007 - accuracy: 0.9126 - val_loss: 0.5960 - val_accuracy: 0.9200\n",
      "Epoch 22/30\n",
      "10000/10000 [==============================] - 0s 24us/sample - loss: 0.5974 - accuracy: 0.9161 - val_loss: 0.5926 - val_accuracy: 0.9190\n",
      "Epoch 23/30\n",
      "10000/10000 [==============================] - 0s 23us/sample - loss: 0.5941 - accuracy: 0.9196 - val_loss: 0.5892 - val_accuracy: 0.9210\n",
      "Epoch 24/30\n",
      "10000/10000 [==============================] - 0s 25us/sample - loss: 0.5908 - accuracy: 0.9207 - val_loss: 0.5857 - val_accuracy: 0.9220\n",
      "Epoch 25/30\n",
      "10000/10000 [==============================] - 0s 23us/sample - loss: 0.5875 - accuracy: 0.9235 - val_loss: 0.5823 - val_accuracy: 0.9250\n",
      "Epoch 26/30\n",
      "10000/10000 [==============================] - 0s 24us/sample - loss: 0.5841 - accuracy: 0.9254 - val_loss: 0.5787 - val_accuracy: 0.9260\n",
      "Epoch 27/30\n",
      "10000/10000 [==============================] - 0s 24us/sample - loss: 0.5806 - accuracy: 0.9274 - val_loss: 0.5752 - val_accuracy: 0.9250\n",
      "Epoch 28/30\n",
      "10000/10000 [==============================] - 0s 23us/sample - loss: 0.5772 - accuracy: 0.9283 - val_loss: 0.5716 - val_accuracy: 0.9270\n",
      "Epoch 29/30\n",
      "10000/10000 [==============================] - 0s 23us/sample - loss: 0.5737 - accuracy: 0.9283 - val_loss: 0.5680 - val_accuracy: 0.9280\n",
      "Epoch 30/30\n",
      "10000/10000 [==============================] - 0s 23us/sample - loss: 0.5702 - accuracy: 0.9290 - val_loss: 0.5644 - val_accuracy: 0.9320\n"
     ]
    },
    {
     "data": {
      "text/plain": [
       "<tensorflow.python.keras.callbacks.History at 0x1a3c316da0>"
      ]
     },
     "execution_count": 217,
     "metadata": {},
     "output_type": "execute_result"
    }
   ],
   "source": [
    "n_train = 10000\n",
    "n_test = 1000\n",
    "X_train = np.random.randint(2, size=(n_train, 2))\n",
    "X_test = np.random.randint(2, size=(n_test, 2))\n",
    "y_train = np.logical_not(np.logical_xor(X_train[:, 0], X_train[:, 1]))*1\n",
    "y_test = np.logical_not(np.logical_xor(X_test[:, 0], X_test[:, 1]))*1\n",
    "X_train = X_train + np.random.normal(0, 0.2, size=(n_train, 2))\n",
    "X_test = X_test + np.random.normal(0, 0.2, size=(n_test, 2))\n",
    "plt.plot(X_train[y_train == 0, 0], X_train[y_train == 0, 1], 'ro')\n",
    "plt.plot(X_train[y_train == 1, 0], X_train[y_train == 1, 1], 'bo')\n",
    "plt.show()\n",
    "\n",
    "model = tf.keras.Sequential([\n",
    "    tf.keras.layers.Dense(3, input_dim=2, activation='relu'),\n",
    "    tf.keras.layers.Dense(1, activation='sigmoid')\n",
    "])\n",
    "\n",
    "model.compile(loss='binary_crossentropy',\n",
    "              optimizer='sgd',\n",
    "              metrics=['accuracy'])\n",
    "\n",
    "model.fit(X_train, y_train, validation_data=(X_test, y_test), epochs=30)"
   ]
  },
  {
   "cell_type": "code",
   "execution_count": 218,
   "metadata": {},
   "outputs": [
    {
     "data": {
      "text/plain": [
       "0.932"
      ]
     },
     "execution_count": 218,
     "metadata": {},
     "output_type": "execute_result"
    }
   ],
   "source": [
    "y_p = model.predict_classes(X_test).reshape(-1)\n",
    "sum(y_p == y_test)/len(y_p)"
   ]
  },
  {
   "cell_type": "code",
   "execution_count": 219,
   "metadata": {},
   "outputs": [
    {
     "data": {
      "image/png": "[encoded data removed]",
      "text/plain": [
       "<Figure size 432x288 with 1 Axes>"
      ]
     },
     "metadata": {},
     "output_type": "display_data"
    }
   ],
   "source": [
    "U = np.random.uniform(size=(1000, 2))\n",
    "v = model.predict_classes(U).reshape(-1)\n",
    "plt.plot(U[v == 0, 0], U[v == 0, 1], 'ro')\n",
    "plt.plot(U[v == 1, 0], U[v == 1, 1], 'bo')\n",
    "plt.show()\n"
   ]
  },
  {
   "cell_type": "markdown",
   "metadata": {},
   "source": [
    "### Exercise\n",
    "Build a network that can recognize this pattern"
   ]
  },
  {
   "cell_type": "code",
   "execution_count": 222,
   "metadata": {},
   "outputs": [
    {
     "data": {
      "image/png": "[encoded data removed]",
      "text/plain": [
       "<Figure size 432x288 with 1 Axes>"
      ]
     },
     "metadata": {},
     "output_type": "display_data"
    }
   ],
   "source": [
    "plt.plot(range(30), h[\"val_loss\"], range(30), h[\"loss\"], range(30),  h[\"val_accuracy\"], range(30), h[\"accuracy\"])\n",
    "plt.show()"
   ]
  },
  {
   "cell_type": "markdown",
   "metadata": {},
   "source": [
    "### Exercise\n",
    "\n",
    "- Construct a sequential neural network that can learn the pattern depicted below.\n",
    "- Experiment with numbers of layers, numbers of units in each layer, optimizer (`optimizer=\"rmsprop\"`) typically works well), etc.\n",
    "- Note any interesting misclassification patterns you find. \n",
    "\n",
    "<img src=\"boxed_circle.png\" />\n"
   ]
  },
  {
   "cell_type": "code",
   "execution_count": 239,
   "metadata": {},
   "outputs": [
    {
     "name": "stdout",
     "output_type": "stream",
     "text": [
      "509\n"
     ]
    }
   ],
   "source": [
    "# Here's how to generate data like this:\n",
    "n = 2**10\n",
    "X = np.random.uniform(size=(n, 2))\n",
    "y = np.linalg.norm(X - np.array([0.5, 0.5]), axis=1) < 0.4"
   ]
  },
  {
   "cell_type": "code",
   "execution_count": 235,
   "metadata": {},
   "outputs": [
    {
     "name": "stdout",
     "output_type": "stream",
     "text": [
      "Train on 13107 samples, validate on 3277 samples\n",
      "Epoch 1/30\n",
      "13107/13107 [==============================] - 1s 50us/sample - loss: 0.6879 - accuracy: 0.5698 - val_loss: 0.6792 - val_accuracy: 0.6140\n",
      "Epoch 2/30\n",
      "13107/13107 [==============================] - 0s 29us/sample - loss: 0.6646 - accuracy: 0.6683 - val_loss: 0.6508 - val_accuracy: 0.6155\n",
      "Epoch 3/30\n",
      "13107/13107 [==============================] - 0s 27us/sample - loss: 0.6284 - accuracy: 0.6913 - val_loss: 0.6150 - val_accuracy: 0.7391\n",
      "Epoch 4/30\n",
      "13107/13107 [==============================] - 0s 28us/sample - loss: 0.5912 - accuracy: 0.7258 - val_loss: 0.5821 - val_accuracy: 0.7070\n",
      "Epoch 5/30\n",
      "13107/13107 [==============================] - 0s 28us/sample - loss: 0.5607 - accuracy: 0.7370 - val_loss: 0.5576 - val_accuracy: 0.7376\n",
      "Epoch 6/30\n",
      "13107/13107 [==============================] - 0s 28us/sample - loss: 0.5372 - accuracy: 0.7441 - val_loss: 0.5381 - val_accuracy: 0.7327\n",
      "Epoch 7/30\n",
      "13107/13107 [==============================] - 0s 30us/sample - loss: 0.5168 - accuracy: 0.7565 - val_loss: 0.5186 - val_accuracy: 0.7556\n",
      "Epoch 8/30\n",
      "13107/13107 [==============================] - 0s 27us/sample - loss: 0.4984 - accuracy: 0.7743 - val_loss: 0.5018 - val_accuracy: 0.7647\n",
      "Epoch 9/30\n",
      "13107/13107 [==============================] - 0s 28us/sample - loss: 0.4823 - accuracy: 0.7820 - val_loss: 0.4875 - val_accuracy: 0.7666\n",
      "Epoch 10/30\n",
      "13107/13107 [==============================] - 0s 28us/sample - loss: 0.4673 - accuracy: 0.7901 - val_loss: 0.4754 - val_accuracy: 0.7843\n",
      "Epoch 11/30\n",
      "13107/13107 [==============================] - 0s 28us/sample - loss: 0.4534 - accuracy: 0.7976 - val_loss: 0.4615 - val_accuracy: 0.7855\n",
      "Epoch 12/30\n",
      "13107/13107 [==============================] - 0s 28us/sample - loss: 0.4393 - accuracy: 0.8043 - val_loss: 0.4492 - val_accuracy: 0.7934\n",
      "Epoch 13/30\n",
      "13107/13107 [==============================] - 0s 28us/sample - loss: 0.4250 - accuracy: 0.8155 - val_loss: 0.4348 - val_accuracy: 0.8020\n",
      "Epoch 14/30\n",
      "13107/13107 [==============================] - 0s 30us/sample - loss: 0.4098 - accuracy: 0.8231 - val_loss: 0.4193 - val_accuracy: 0.8135\n",
      "Epoch 15/30\n",
      "13107/13107 [==============================] - 0s 28us/sample - loss: 0.3934 - accuracy: 0.8305 - val_loss: 0.4027 - val_accuracy: 0.8233\n",
      "Epoch 16/30\n",
      "13107/13107 [==============================] - 0s 28us/sample - loss: 0.3743 - accuracy: 0.8404 - val_loss: 0.3831 - val_accuracy: 0.8355\n",
      "Epoch 17/30\n",
      "13107/13107 [==============================] - 0s 28us/sample - loss: 0.3530 - accuracy: 0.8515 - val_loss: 0.3627 - val_accuracy: 0.8413\n",
      "Epoch 18/30\n",
      "13107/13107 [==============================] - 0s 28us/sample - loss: 0.3321 - accuracy: 0.8602 - val_loss: 0.3446 - val_accuracy: 0.8486\n",
      "Epoch 19/30\n",
      "13107/13107 [==============================] - 0s 28us/sample - loss: 0.3140 - accuracy: 0.8676 - val_loss: 0.3286 - val_accuracy: 0.8608\n",
      "Epoch 20/30\n",
      "13107/13107 [==============================] - 0s 28us/sample - loss: 0.2978 - accuracy: 0.8762 - val_loss: 0.3130 - val_accuracy: 0.8685\n",
      "Epoch 21/30\n",
      "13107/13107 [==============================] - 0s 29us/sample - loss: 0.2817 - accuracy: 0.8820 - val_loss: 0.2931 - val_accuracy: 0.8737\n",
      "Epoch 22/30\n",
      "13107/13107 [==============================] - 0s 29us/sample - loss: 0.2639 - accuracy: 0.8893 - val_loss: 0.2738 - val_accuracy: 0.8798\n",
      "Epoch 23/30\n",
      "13107/13107 [==============================] - 0s 28us/sample - loss: 0.2407 - accuracy: 0.8972 - val_loss: 0.2445 - val_accuracy: 0.8901\n",
      "Epoch 24/30\n",
      "13107/13107 [==============================] - 0s 28us/sample - loss: 0.1917 - accuracy: 0.9192 - val_loss: 0.1608 - val_accuracy: 0.9371\n",
      "Epoch 25/30\n",
      "13107/13107 [==============================] - 0s 29us/sample - loss: 0.1392 - accuracy: 0.9525 - val_loss: 0.1329 - val_accuracy: 0.9530\n",
      "Epoch 26/30\n",
      "13107/13107 [==============================] - 0s 30us/sample - loss: 0.1230 - accuracy: 0.9587 - val_loss: 0.1251 - val_accuracy: 0.9509\n",
      "Epoch 27/30\n",
      "13107/13107 [==============================] - 0s 29us/sample - loss: 0.1161 - accuracy: 0.9611 - val_loss: 0.1215 - val_accuracy: 0.9554\n",
      "Epoch 28/30\n",
      "13107/13107 [==============================] - 0s 29us/sample - loss: 0.1120 - accuracy: 0.9617 - val_loss: 0.1200 - val_accuracy: 0.9518\n",
      "Epoch 29/30\n",
      "13107/13107 [==============================] - 0s 30us/sample - loss: 0.1082 - accuracy: 0.9623 - val_loss: 0.1146 - val_accuracy: 0.9567\n",
      "Epoch 30/30\n",
      "13107/13107 [==============================] - 0s 30us/sample - loss: 0.1056 - accuracy: 0.9611 - val_loss: 0.1117 - val_accuracy: 0.9545\n"
     ]
    },
    {
     "data": {
      "text/plain": [
       "<tensorflow.python.keras.callbacks.History at 0x1a3d2e6f98>"
      ]
     },
     "execution_count": 235,
     "metadata": {},
     "output_type": "execute_result"
    }
   ],
   "source": [
    "model = tf.keras.Sequential()\n",
    "model.add(layers.Dense(5, input_dim=2, activation='relu'))\n",
    "model.add(layers.Dense(5, activation='relu'))\n",
    "model.add(layers.Dense(1, activation='sigmoid'))\n",
    "model.compile(loss='binary_crossentropy',\n",
    "              optimizer='rmsprop', # work here\n",
    "              metrics=['accuracy'])\n",
    "model.fit(X, y, epochs=30, validation_split=0.2)"
   ]
  },
  {
   "cell_type": "code",
   "execution_count": 232,
   "metadata": {},
   "outputs": [
    {
     "data": {
      "text/plain": [
       "[]"
      ]
     },
     "execution_count": 232,
     "metadata": {},
     "output_type": "execute_result"
    },
    {
     "data": {
      "image/png": "[encoded data removed]",
      "text/plain": [
       "<Figure size 432x288 with 1 Axes>"
      ]
     },
     "metadata": {},
     "output_type": "display_data"
    }
   ],
   "source": [
    "X = np.random.uniform(size=(1000, 2))\n",
    "y = model.predict_classes(X).reshape(-1)\n",
    "\n",
    "plt.plot(X[y == 0, 0], X[y == 0, 1], 'bo')\n",
    "plt.plot(X[y == 1, 0], X[y == 1, 1], 'ro')\n",
    "plt.plot()"
   ]
  },
  {
   "cell_type": "code",
   "execution_count": null,
   "metadata": {},
   "outputs": [],
   "source": []
  }
 ],
 "metadata": {
  "kernelspec": {
   "display_name": "Python 3",
   "language": "python",
   "name": "python3"
  },
  "language_info": {
   "codemirror_mode": {
    "name": "ipython",
    "version": 3
   },
   "file_extension": ".py",
   "mimetype": "text/x-python",
   "name": "python",
   "nbconvert_exporter": "python",
   "pygments_lexer": "ipython3",
   "version": "3.6.5"
  }
 },
 "nbformat": 4,
 "nbformat_minor": 2
}
