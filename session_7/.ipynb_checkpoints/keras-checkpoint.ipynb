{
 "cells": [
  {
   "cell_type": "code",
   "execution_count": 6,
   "metadata": {},
   "outputs": [],
   "source": [
    "from __future__ import absolute_import, division, print_function\n",
    "import tensorflow as tf\n",
    "from tensorflow import keras\n",
    "from tensorflow.keras import layers\n",
    "import numpy as np\n",
    "from matplotlib import pyplot as plt\n",
    "from sklearn.model_selection import train_test_split"
   ]
  },
  {
   "cell_type": "code",
   "execution_count": 7,
   "metadata": {},
   "outputs": [
    {
     "name": "stdout",
     "output_type": "stream",
     "text": [
      "1200/1200 [==============================] - 0s 94us/sample - loss: 0.7536 - accuracy: 0.5633\n"
     ]
    },
    {
     "data": {
      "text/plain": [
       "<tensorflow.python.keras.callbacks.History at 0x1a3873be80>"
      ]
     },
     "execution_count": 7,
     "metadata": {},
     "output_type": "execute_result"
    }
   ],
   "source": [
    "size=800\n",
    "X0 = np.random.multivariate_normal([0, -2.5], np.identity(2), size=size) \n",
    "X1 = np.random.multivariate_normal([0, 2.5], np.identity(2), size=size)\n",
    "# plt.figure(figsize=(4, 8))\n",
    "# plt.xlim(-3, 3)\n",
    "# plt.xlim(-6, 6)\n",
    "# plt.plot(X0[:, 0], X0[:, 1], 'bo')\n",
    "# plt.plot(X1[:, 0], X1[:, 1], 'ro')\n",
    "# plt.show()\n",
    "X = np.concatenate([X0, X1])\n",
    "y = np.concatenate([np.zeros(size), np.ones(size)]).astype(int)\n",
    "\n",
    "X_train, X_test, y_train, y_test = train_test_split(X, y, test_size=0.25)\n",
    "\n",
    "model = tf.keras.Sequential()\n",
    "model.add(layers.Dense(1, input_dim=2, activation='sigmoid'))\n",
    "model.compile(loss='binary_crossentropy',\n",
    "              optimizer='rmsprop', # work here\n",
    "              metrics=['accuracy'])\n",
    "\n",
    "model.fit(X_train, y_train)"
   ]
  },
  {
   "cell_type": "code",
   "execution_count": 5,
   "metadata": {},
   "outputs": [
    {
     "name": "stdout",
     "output_type": "stream",
     "text": [
      "Epoch 1/10\n",
      "1200/1200 - 0s - loss: 0.1920 - accuracy: 0.9942\n",
      "Epoch 2/10\n",
      "1200/1200 - 0s - loss: 0.1793 - accuracy: 0.9942\n",
      "Epoch 3/10\n",
      "1200/1200 - 0s - loss: 0.1683 - accuracy: 0.9942\n",
      "Epoch 4/10\n",
      "1200/1200 - 0s - loss: 0.1581 - accuracy: 0.9942\n",
      "Epoch 5/10\n",
      "1200/1200 - 0s - loss: 0.1487 - accuracy: 0.9942\n",
      "Epoch 6/10\n",
      "1200/1200 - 0s - loss: 0.1400 - accuracy: 0.9942\n",
      "Epoch 7/10\n",
      "1200/1200 - 0s - loss: 0.1319 - accuracy: 0.9942\n",
      "Epoch 8/10\n",
      "1200/1200 - 0s - loss: 0.1244 - accuracy: 0.9942\n",
      "Epoch 9/10\n",
      "1200/1200 - 0s - loss: 0.1175 - accuracy: 0.9942\n",
      "Epoch 10/10\n",
      "1200/1200 - 0s - loss: 0.1111 - accuracy: 0.9942\n"
     ]
    },
    {
     "data": {
      "text/plain": [
       "<tensorflow.python.keras.callbacks.History at 0x1a382b6cf8>"
      ]
     },
     "execution_count": 5,
     "metadata": {},
     "output_type": "execute_result"
    }
   ],
   "source": [
    "model = tf.keras.Sequential()\n",
    "model.add(layers.Dense(1, input_dim=2, activation='sigmoid'))\n",
    "model.compile(loss='binary_crossentropy',\n",
    "              optimizer='rmsprop', # work here\n",
    "              metrics=['accuracy'])\n",
    "\n",
    "model.fit(X_train, y_train, verbose=2, epochs=10)"
   ]
  },
  {
   "cell_type": "code",
   "execution_count": 30,
   "metadata": {},
   "outputs": [
    {
     "name": "stdout",
     "output_type": "stream",
     "text": [
      "Number of misclassifications: 2\n"
     ]
    }
   ],
   "source": [
    "y_pred = model.predict_classes(X_test).reshape(y_test.shape)\n",
    "print(f\"Number of misclassifications: {np.sum(y_pred != y_test)}\")"
   ]
  },
  {
   "cell_type": "code",
   "execution_count": 31,
   "metadata": {},
   "outputs": [
    {
     "name": "stdout",
     "output_type": "stream",
     "text": [
      "Parameters:\n",
      "w[0] = 0.81, w[1] = 1.33, b = 0.003530\n"
     ]
    }
   ],
   "source": [
    "w, b = model.layers[0].get_weights()\n",
    "print(\"Parameters:\")\n",
    "print(f\"w[0] = {w[0][0]:.2f}, w[1] = {w[1][0]:.2f}, b = {b[0]:2f}\")"
   ]
  },
  {
   "cell_type": "code",
   "execution_count": 24,
   "metadata": {},
   "outputs": [],
   "source": [
    "def sigmoid(x):\n",
    "    return 1/(1 + np.exp(-x))"
   ]
  },
  {
   "cell_type": "code",
   "execution_count": 32,
   "metadata": {},
   "outputs": [
    {
     "data": {
      "text/plain": [
       "array([48])"
      ]
     },
     "execution_count": 32,
     "metadata": {},
     "output_type": "execute_result"
    }
   ],
   "source": [
    "sum(sigmoid(X_test.dot(w) + b)< 0.5)"
   ]
  },
  {
   "cell_type": "code",
   "execution_count": 29,
   "metadata": {},
   "outputs": [
    {
     "data": {
      "text/plain": [
       "array([ True,  True,  True,  True,  True,  True,  True,  True,  True,\n",
       "        True,  True,  True,  True,  True,  True,  True,  True,  True,\n",
       "        True,  True,  True,  True,  True,  True,  True,  True,  True,\n",
       "        True,  True,  True,  True,  True,  True,  True,  True,  True,\n",
       "        True,  True,  True,  True,  True,  True,  True,  True,  True,\n",
       "        True,  True,  True,  True,  True,  True,  True,  True,  True,\n",
       "        True,  True,  True,  True,  True,  True,  True,  True,  True,\n",
       "        True,  True,  True,  True,  True,  True,  True,  True,  True,\n",
       "        True,  True,  True,  True,  True,  True,  True,  True,  True,\n",
       "        True,  True,  True,  True,  True,  True,  True,  True,  True,\n",
       "        True,  True,  True,  True,  True,  True,  True,  True,  True,\n",
       "        True])"
      ]
     },
     "execution_count": 29,
     "metadata": {},
     "output_type": "execute_result"
    }
   ],
   "source": [
    "y_pred == (sigmoid(X_test.dot(w) + b) > 0.5).reshape(-1,)"
   ]
  },
  {
   "cell_type": "code",
   "execution_count": 33,
   "metadata": {},
   "outputs": [],
   "source": [
    "z = model.predict_proba(X_test)[:, 0]"
   ]
  },
  {
   "cell_type": "code",
   "execution_count": 34,
   "metadata": {},
   "outputs": [
    {
     "data": {
      "text/plain": [
       "array([0.00870064, 0.15262914, 0.04882598, 0.93099356, 0.8685206 ,\n",
       "       0.0136646 , 0.99620384, 0.02151397, 0.98965806, 0.98365355],\n",
       "      dtype=float32)"
      ]
     },
     "execution_count": 34,
     "metadata": {},
     "output_type": "execute_result"
    }
   ],
   "source": [
    "z[:10]"
   ]
  },
  {
   "cell_type": "code",
   "execution_count": 35,
   "metadata": {},
   "outputs": [
    {
     "data": {
      "text/plain": [
       "array([0.00870063, 0.15262915, 0.04882601, 0.93099351, 0.8685206 ,\n",
       "       0.0136646 , 0.99620382, 0.02151399, 0.98965805, 0.98365355])"
      ]
     },
     "execution_count": 35,
     "metadata": {},
     "output_type": "execute_result"
    }
   ],
   "source": [
    "sigmoid(X_test.dot(w) + b)[:10].reshape(-1)"
   ]
  },
  {
   "cell_type": "code",
   "execution_count": 38,
   "metadata": {},
   "outputs": [],
   "source": [
    "model = tf.keras.Sequential()\n",
    "model.add(layers.Dense(2, input_dim=2, activation='relu'))\n",
    "model.add(layers.Dense(1, input_dim=2, activation='sigmoid'))\n",
    "\n",
    "\n",
    "# model.compile(loss='binary_crossentropy',\n",
    "#               optimizer='rmsprop', # work here\n",
    "#               metrics=['accuracy'])\n"
   ]
  },
  {
   "cell_type": "code",
   "execution_count": 39,
   "metadata": {},
   "outputs": [
    {
     "name": "stdout",
     "output_type": "stream",
     "text": [
      "Model: \"sequential_6\"\n",
      "_________________________________________________________________\n",
      "Layer (type)                 Output Shape              Param #   \n",
      "=================================================================\n",
      "dense_6 (Dense)              (None, 2)                 6         \n",
      "_________________________________________________________________\n",
      "dense_7 (Dense)              (None, 1)                 3         \n",
      "=================================================================\n",
      "Total params: 9\n",
      "Trainable params: 9\n",
      "Non-trainable params: 0\n",
      "_________________________________________________________________\n"
     ]
    }
   ],
   "source": [
    "model.summary()"
   ]
  },
  {
   "cell_type": "code",
   "execution_count": null,
   "metadata": {},
   "outputs": [],
   "source": []
  }
 ],
 "metadata": {
  "kernelspec": {
   "display_name": "Python 3",
   "language": "python",
   "name": "python3"
  },
  "language_info": {
   "codemirror_mode": {
    "name": "ipython",
    "version": 3
   },
   "file_extension": ".py",
   "mimetype": "text/x-python",
   "name": "python",
   "nbconvert_exporter": "python",
   "pygments_lexer": "ipython3",
   "version": "3.6.5"
  }
 },
 "nbformat": 4,
 "nbformat_minor": 2
}
