{
 "cells": [
  {
   "cell_type": "markdown",
   "metadata": {},
   "source": [
    "## Tensorflow/Keras Tutorial"
   ]
  },
  {
   "cell_type": "code",
   "execution_count": 2,
   "metadata": {},
   "outputs": [],
   "source": [
    "from __future__ import absolute_import, division, print_function\n",
    "import tensorflow as tf\n",
    "from tensorflow import keras\n",
    "import numpy as np\n",
    "from matplotlib import pyplot as plt\n",
    "from sklearn.model_selection import train_test_split"
   ]
  },
  {
   "cell_type": "markdown",
   "metadata": {},
   "source": [
    "### Sequential networks; layers\n",
    "- A **feed-forward** or **sequential** neural network is constructed using the `tf.keras.Sequential` class construtor.\n",
    "It takes a list of **layers** as input. The last layer in the list is the output layer. The rest are hidden layers.\n",
    "- Layers are defined in the `tf.keras.layers` module.\n",
    "- In a **dense** layer, a unit is connected with every unit in the previous layer.\n",
    "- The first layer in a sequential network is responsible for specifying the dimension of the data, i.e., the number of columns of the data matrix, in the `input_dim` keyword argument.\n",
    "- A sequential model stores its list of layers in its `layers` attribute."
   ]
  },
  {
   "cell_type": "code",
   "execution_count": 15,
   "metadata": {},
   "outputs": [
    {
     "name": "stdout",
     "output_type": "stream",
     "text": [
      "Layers: [<tensorflow.python.keras.layers.core.Dense object at 0x1a2b354a58>, <tensorflow.python.keras.layers.core.Dense object at 0x1a2b354cf8>]\n",
      "Model: \"sequential_9\"\n",
      "_________________________________________________________________\n",
      "Layer (type)                 Output Shape              Param #   \n",
      "=================================================================\n",
      "dense_15 (Dense)             (None, 3)                 9         \n",
      "_________________________________________________________________\n",
      "dense_16 (Dense)             (None, 1)                 4         \n",
      "=================================================================\n",
      "Total params: 13\n",
      "Trainable params: 13\n",
      "Non-trainable params: 0\n",
      "_________________________________________________________________\n"
     ]
    }
   ],
   "source": [
    "model = tf.keras.Sequential([\n",
    "    tf.keras.layers.Dense(3, input_dim=2, activation='relu'),\n",
    "    tf.keras.layers.Dense(1, activation='sigmoid')\n",
    "])\n",
    "print(f\"Layers: {model.layers}\")\n",
    "\n",
    "# Alternatively\n",
    "model = tf.keras.Sequential()\n",
    "model.add(tf.keras.layers.Dense(3, input_dim=2, activation='relu'))\n",
    "model.add(tf.keras.layers.Dense(1, activation='sigmoid'))\n",
    "\n",
    "model.summary()"
   ]
  },
  {
   "cell_type": "markdown",
   "metadata": {},
   "source": [
    "### Weights\n",
    "- Weights associated to connections between units are initialized randomly. Biases are initialized to zero.\n",
    "- Inspect the weights using the `get_weights` method.\n",
    "- It returns a list of length $2L$, $L$ being the number of layers, containing the weight matrices and bias vectors of each layer.\n",
    "- The weight matrix of dense layer $\\ell$ has size $p_{\\ell - 1}\\times p_\\ell$, where $p_\\ell$ is the number of units in the $\\ell$-th layer."
   ]
  },
  {
   "cell_type": "code",
   "execution_count": 16,
   "metadata": {},
   "outputs": [
    {
     "name": "stdout",
     "output_type": "stream",
     "text": [
      "[array([[-0.00515556,  0.8186511 , -0.23828983],\n",
      "       [-0.5057989 , -0.7630539 ,  0.18627644]], dtype=float32), array([0., 0., 0.], dtype=float32), array([[ 0.97376835],\n",
      "       [ 1.2173446 ],\n",
      "       [-0.31684196]], dtype=float32), array([0.], dtype=float32)]\n"
     ]
    },
    {
     "data": {
      "text/plain": [
       "array([[ 0.97376835],\n",
       "       [ 1.2173446 ],\n",
       "       [-0.31684196]], dtype=float32)"
      ]
     },
     "execution_count": 16,
     "metadata": {},
     "output_type": "execute_result"
    }
   ],
   "source": [
    "w1, b1, w2, b2 = model.get_weights()\n",
    "\n",
    "# model.set_weights([np.zeros_like(w1), b1, np.zeros_like(w2), b2])\n",
    "# model.set_weights([w1, np.ones_like(b1), w2, np.ones_like(b2)])\n",
    "\n",
    "print(model.get_weights())\n",
    "w2"
   ]
  },
  {
   "cell_type": "markdown",
   "metadata": {},
   "source": [
    "### Forward propagation; prediction\n",
    "- If $W^{[\\ell]}$, $b^{[\\ell]}$, and $A_\\ell$ are the weight matrix, and bias vector and activation function of layer $\\ell$ and $a^{[\\ell]}$ and $a^{[\\ell-1]}$ is the vector of activations of layers $\\ell$ and $\\ell - 1$, then $$a^{[\\ell]} = A_\\ell(a^{[\\ell - 1]}W^{[\\ell]} + b^{[\\ell]}).$$\n",
    "- We define the activations of the input layer to be the input values, themselves.\n",
    "- To propagate data through a network, use the `predict` method.\n",
    "- To check our understanding, we can do this manually."
   ]
  },
  {
   "cell_type": "code",
   "execution_count": 22,
   "metadata": {
    "scrolled": true
   },
   "outputs": [
    {
     "name": "stdout",
     "output_type": "stream",
     "text": [
      "[[0.5299989 ]\n",
      " [0.5       ]\n",
      " [0.4889929 ]\n",
      " [0.62795687]\n",
      " [0.4726238 ]\n",
      " [0.49364573]\n",
      " [0.46744058]\n",
      " [0.93751174]\n",
      " [0.4778661 ]\n",
      " [0.48844033]]\n",
      "[[0.52999889]\n",
      " [0.5       ]\n",
      " [0.48899289]\n",
      " [0.62795686]\n",
      " [0.47262379]\n",
      " [0.49364572]\n",
      " [0.46744056]\n",
      " [0.93751179]\n",
      " [0.47786611]\n",
      " [0.48844033]]\n"
     ]
    }
   ],
   "source": [
    "X = np.random.normal(size=(10, 2))\n",
    "print(model.predict(X))\n",
    "\n",
    "relu = tf.keras.activations.relu\n",
    "sigmoid = tf.keras.activations.sigmoid\n",
    "\n",
    "w1, b1, w2, b2 = model.get_weights()\n",
    "a0 = X\n",
    "a1 = relu(a0.dot(w1) + b1).numpy()\n",
    "a2 = sigmoid(a1.dot(w2) + b2).numpy()\n",
    "\n",
    "print(a2)\n",
    "# print(a1)"
   ]
  },
  {
   "cell_type": "markdown",
   "metadata": {},
   "source": [
    "### Exercise\n",
    "\n",
    "- Encode this 1-layer neural network with sigmoid activation as a Keras sequential model. Set the weights and bias as indicated.\n",
    "- Predict the values for $(0, 0)$, $(1, 0)$,  $(0, 1)$, and $(1, 1)$.\n",
    "\n",
    "<img src=\"one_and_three_nn.png\" height=\"50%\" width=\"50%\" />"
   ]
  },
  {
   "cell_type": "code",
   "execution_count": 34,
   "metadata": {},
   "outputs": [
    {
     "name": "stdout",
     "output_type": "stream",
     "text": [
      "Model: \"sequential_21\"\n",
      "_________________________________________________________________\n",
      "Layer (type)                 Output Shape              Param #   \n",
      "=================================================================\n",
      "dense_26 (Dense)             (None, 1)                 3         \n",
      "=================================================================\n",
      "Total params: 3\n",
      "Trainable params: 3\n",
      "Non-trainable params: 0\n",
      "_________________________________________________________________\n",
      "[[9.9995458e-01]\n",
      " [4.5397872e-05]\n",
      " [4.5397872e-05]\n",
      " [9.3576236e-14]]\n",
      "[[1]\n",
      " [0]\n",
      " [0]\n",
      " [0]]\n"
     ]
    }
   ],
   "source": [
    "model = tf.keras.Sequential()\n",
    "model.add(tf.keras.layers.Dense(1, input_dim=2, activation=\"sigmoid\"))\n",
    "model.summary()\n",
    "\n",
    "my_weights = [np.array([[-20], [-20]]), np.array([10])]\n",
    "model.set_weights(my_weights)\n",
    "model.get_weights()\n",
    "X = np.array([[0, 0], [1, 0], [0, 1], [1, 1]])\n",
    "print(model.predict(X))\n",
    "print(model.predict_classes(X))"
   ]
  },
  {
   "cell_type": "markdown",
   "metadata": {},
   "source": [
    "### Exercise\n",
    "\n",
    "- Encode this 2-layer neural network as a Keras sequential model. Set the weights and bias as indicated.\n",
    "- Predict the values for $(0, 0)$, $(1, 0)$,  $(0, 1)$, and $(1, 1)$.\n",
    "\n",
    "<img src=\"xnor.png\" height=\"50%\" width=\"50%\" />"
   ]
  },
  {
   "cell_type": "code",
   "execution_count": 40,
   "metadata": {},
   "outputs": [
    {
     "name": "stdout",
     "output_type": "stream",
     "text": [
      "Model: \"sequential_27\"\n",
      "_________________________________________________________________\n",
      "Layer (type)                 Output Shape              Param #   \n",
      "=================================================================\n",
      "dense_37 (Dense)             (None, 2)                 6         \n",
      "_________________________________________________________________\n",
      "dense_38 (Dense)             (None, 1)                 3         \n",
      "=================================================================\n",
      "Total params: 9\n",
      "Trainable params: 9\n",
      "Non-trainable params: 0\n",
      "_________________________________________________________________\n",
      "[[1]\n",
      " [0]\n",
      " [0]\n",
      " [1]]\n"
     ]
    },
    {
     "data": {
      "text/plain": [
       "[array([[ 20., -20.],\n",
       "        [ 20., -20.]], dtype=float32),\n",
       " array([-30.,  10.], dtype=float32),\n",
       " array([[20.],\n",
       "        [20.]], dtype=float32),\n",
       " array([-10.], dtype=float32)]"
      ]
     },
     "execution_count": 40,
     "metadata": {},
     "output_type": "execute_result"
    }
   ],
   "source": [
    "model = tf.keras.Sequential()\n",
    "model.add(tf.keras.layers.Dense(2, input_dim=2, activation=\"relu\"))\n",
    "model.add(tf.keras.layers.Dense(1, activation=\"sigmoid\"))\n",
    "model.summary()\n",
    "\n",
    "model.get_weights()\n",
    "w1 = np.array([[20, -20], [20, -20]])\n",
    "b1 = np.array([-30, 10])\n",
    "w2 = np.array([[20], [20]])\n",
    "b2 = np.array([-10])\n",
    "model.set_weights([w1, b1, w2, b2])\n",
    "\n",
    "X = np.array([[0, 0], [1, 0], [0, 1], [1, 1]])\n",
    "y_p = model.predict_classes(X)\n",
    "print(y_p)\n",
    "\n",
    "model.get_weights()"
   ]
  },
  {
   "cell_type": "markdown",
   "metadata": {},
   "source": [
    "### Training\n",
    "\n",
    "- In practice we don't assign weights; the network **learns** the weights from **training data**.\n",
    "- Given a data point $(\\boldsymbol{x}, y)$, can feed $\\boldsymbol{x}$ into the network which returns a quantity $\\widehat y$.\n",
    "- Error in approximating of $y$ by $\\widehat y$ is encoded in a **loss function** $L(y, \\widehat{y})$.\n",
    "- Which loss function to use is part of the design of your machine learning algorithm. It is not intrinsic to the neural network; you must provide it to the `compile` method.\n",
    "- By **backpropagating** this error through the network, `tensorflow` systematically adjusts the weights and biases to reduce the error.\n",
    "Specity the **optimizer**, the numerical algorithm used to adjust the weights and biases, as the `optimizer` argument of the model's `compile` method.\n",
    "- A training loop can makes multiple passes over the training date. Each pass through an **epoch**. Specify the number of training epochs to the `compile` method as the `epochs` argument."
   ]
  },
  {
   "cell_type": "code",
   "execution_count": 49,
   "metadata": {},
   "outputs": [
    {
     "name": "stdout",
     "output_type": "stream",
     "text": [
      "[[0.86319168 0.06743475]] [1] \n",
      "\n",
      "[[0.5]]\n",
      "The cross entropy loss should be: [0.69314694]\n",
      "\n",
      "1/1 [==============================] - 0s 77ms/sample - loss: 0.6931 - accuracy: 0.0000e+00\n"
     ]
    }
   ],
   "source": [
    "model = tf.keras.Sequential([\n",
    "    tf.keras.layers.Dense(3, input_dim=2, activation='relu'),\n",
    "    tf.keras.layers.Dense(1, activation='sigmoid')\n",
    "])\n",
    "\n",
    "model.compile(loss='binary_crossentropy',\n",
    "              optimizer='sgd',\n",
    "              metrics=['accuracy'])\n",
    "\n",
    "X = np.random.normal(size=(1, 2))\n",
    "y = np.random.randint(2, size=(1,))\n",
    "print(X, y, \"\\n\")\n",
    "\n",
    "y_p = model.predict(X)\n",
    "\n",
    "print(y_p)\n",
    "loss_should_be = tf.keras.losses.binary_crossentropy(y, y_p)\n",
    "print(f\"The cross entropy loss should be: {loss_should_be}\\n\")\n",
    "\n",
    "h = model.fit(X, y)"
   ]
  },
  {
   "cell_type": "code",
   "execution_count": 54,
   "metadata": {},
   "outputs": [
    {
     "name": "stdout",
     "output_type": "stream",
     "text": [
      "Expected training accuracy: 0.35\n",
      "\n",
      "\r",
      "20/20 [==============================] - 0s 48us/sample - loss: 0.7271 - accuracy: 0.3500\n"
     ]
    },
    {
     "data": {
      "text/plain": [
       "<tensorflow.python.keras.callbacks.History at 0x1a2eace358>"
      ]
     },
     "execution_count": 54,
     "metadata": {},
     "output_type": "execute_result"
    }
   ],
   "source": [
    "X = np.random.normal(size=(20, 2))\n",
    "y = np.random.randint(2, size=(20,))\n",
    "expected_training_accuracy = np.sum(model.predict_classes(X).reshape(-1) == y)/len(y)\n",
    "print(f\"Expected training accuracy: {expected_training_accuracy}\\n\")\n",
    "model.fit(X, y)\n"
   ]
  },
  {
   "cell_type": "code",
   "execution_count": 71,
   "metadata": {},
   "outputs": [
    {
     "data": {
      "image/png": "[encoded data removed]",
      "text/plain": [
       "<Figure size 432x288 with 1 Axes>"
      ]
     },
     "metadata": {},
     "output_type": "display_data"
    },
    {
     "name": "stdout",
     "output_type": "stream",
     "text": [
      "Train on 20000 samples, validate on 1000 samples\n",
      "Epoch 1/30\n",
      "20000/20000 [==============================] - 1s 27us/sample - loss: 0.7213 - accuracy: 0.3610 - val_loss: 0.7104 - val_accuracy: 0.3450\n",
      "Epoch 2/30\n",
      "20000/20000 [==============================] - 0s 20us/sample - loss: 0.6883 - accuracy: 0.4010 - val_loss: 0.6850 - val_accuracy: 0.4170\n",
      "Epoch 3/30\n",
      "20000/20000 [==============================] - 0s 20us/sample - loss: 0.6706 - accuracy: 0.4695 - val_loss: 0.6695 - val_accuracy: 0.4860\n",
      "Epoch 4/30\n",
      "20000/20000 [==============================] - 0s 20us/sample - loss: 0.6588 - accuracy: 0.5225 - val_loss: 0.6580 - val_accuracy: 0.5310\n",
      "Epoch 5/30\n",
      "20000/20000 [==============================] - 0s 20us/sample - loss: 0.6490 - accuracy: 0.5588 - val_loss: 0.6481 - val_accuracy: 0.5580\n",
      "Epoch 6/30\n",
      "20000/20000 [==============================] - 0s 20us/sample - loss: 0.6402 - accuracy: 0.5900 - val_loss: 0.6392 - val_accuracy: 0.5860\n",
      "Epoch 7/30\n",
      "20000/20000 [==============================] - 0s 20us/sample - loss: 0.6320 - accuracy: 0.6181 - val_loss: 0.6310 - val_accuracy: 0.6110\n",
      "Epoch 8/30\n",
      "20000/20000 [==============================] - 0s 20us/sample - loss: 0.6244 - accuracy: 0.6348 - val_loss: 0.6235 - val_accuracy: 0.6320\n",
      "Epoch 9/30\n",
      "20000/20000 [==============================] - 0s 20us/sample - loss: 0.6172 - accuracy: 0.6518 - val_loss: 0.6164 - val_accuracy: 0.6470\n",
      "Epoch 10/30\n",
      "20000/20000 [==============================] - 0s 20us/sample - loss: 0.6104 - accuracy: 0.6653 - val_loss: 0.6099 - val_accuracy: 0.6540\n",
      "Epoch 11/30\n",
      "20000/20000 [==============================] - 0s 20us/sample - loss: 0.6041 - accuracy: 0.6707 - val_loss: 0.6037 - val_accuracy: 0.6620\n",
      "Epoch 12/30\n",
      "20000/20000 [==============================] - 0s 20us/sample - loss: 0.5981 - accuracy: 0.6805 - val_loss: 0.5979 - val_accuracy: 0.6670\n",
      "Epoch 13/30\n",
      "20000/20000 [==============================] - 0s 20us/sample - loss: 0.5923 - accuracy: 0.6984 - val_loss: 0.5923 - val_accuracy: 0.7040\n",
      "Epoch 14/30\n",
      "20000/20000 [==============================] - 0s 20us/sample - loss: 0.5867 - accuracy: 0.7188 - val_loss: 0.5868 - val_accuracy: 0.7150\n",
      "Epoch 15/30\n",
      "20000/20000 [==============================] - 0s 20us/sample - loss: 0.5812 - accuracy: 0.7393 - val_loss: 0.5814 - val_accuracy: 0.7310\n",
      "Epoch 16/30\n",
      "20000/20000 [==============================] - 0s 20us/sample - loss: 0.5757 - accuracy: 0.7584 - val_loss: 0.5761 - val_accuracy: 0.7450\n",
      "Epoch 17/30\n",
      "20000/20000 [==============================] - 0s 20us/sample - loss: 0.5703 - accuracy: 0.7761 - val_loss: 0.5708 - val_accuracy: 0.7690\n",
      "Epoch 18/30\n",
      "20000/20000 [==============================] - 0s 20us/sample - loss: 0.5648 - accuracy: 0.7937 - val_loss: 0.5655 - val_accuracy: 0.7840\n",
      "Epoch 19/30\n",
      "20000/20000 [==============================] - 0s 20us/sample - loss: 0.5594 - accuracy: 0.8079 - val_loss: 0.5601 - val_accuracy: 0.7980\n",
      "Epoch 20/30\n",
      "20000/20000 [==============================] - 0s 20us/sample - loss: 0.5539 - accuracy: 0.8197 - val_loss: 0.5548 - val_accuracy: 0.8140\n",
      "Epoch 21/30\n",
      "20000/20000 [==============================] - 0s 20us/sample - loss: 0.5485 - accuracy: 0.8304 - val_loss: 0.5494 - val_accuracy: 0.8250\n",
      "Epoch 22/30\n",
      "20000/20000 [==============================] - 0s 20us/sample - loss: 0.5430 - accuracy: 0.8388 - val_loss: 0.5439 - val_accuracy: 0.8350\n",
      "Epoch 23/30\n",
      "20000/20000 [==============================] - 0s 20us/sample - loss: 0.5374 - accuracy: 0.8469 - val_loss: 0.5385 - val_accuracy: 0.8460\n",
      "Epoch 24/30\n",
      "20000/20000 [==============================] - 0s 20us/sample - loss: 0.5319 - accuracy: 0.8549 - val_loss: 0.5329 - val_accuracy: 0.8550\n",
      "Epoch 25/30\n",
      "20000/20000 [==============================] - 0s 21us/sample - loss: 0.5264 - accuracy: 0.8611 - val_loss: 0.5274 - val_accuracy: 0.8620\n",
      "Epoch 26/30\n",
      "20000/20000 [==============================] - 0s 21us/sample - loss: 0.5208 - accuracy: 0.8661 - val_loss: 0.5219 - val_accuracy: 0.8680\n",
      "Epoch 27/30\n",
      "20000/20000 [==============================] - 0s 20us/sample - loss: 0.5152 - accuracy: 0.8727 - val_loss: 0.5163 - val_accuracy: 0.8740\n",
      "Epoch 28/30\n",
      "20000/20000 [==============================] - 0s 20us/sample - loss: 0.5096 - accuracy: 0.8783 - val_loss: 0.5108 - val_accuracy: 0.8800\n",
      "Epoch 29/30\n",
      "20000/20000 [==============================] - 0s 20us/sample - loss: 0.5040 - accuracy: 0.8838 - val_loss: 0.5051 - val_accuracy: 0.8880\n",
      "Epoch 30/30\n",
      "20000/20000 [==============================] - 0s 21us/sample - loss: 0.4983 - accuracy: 0.8884 - val_loss: 0.4995 - val_accuracy: 0.8920\n"
     ]
    },
    {
     "data": {
      "text/plain": [
       "<tensorflow.python.keras.callbacks.History at 0x1a307c04e0>"
      ]
     },
     "execution_count": 71,
     "metadata": {},
     "output_type": "execute_result"
    }
   ],
   "source": [
    "n_train = 10000*2\n",
    "n_test = 1000\n",
    "X_train = np.random.randint(2, size=(n_train, 2))\n",
    "X_test = np.random.randint(2, size=(n_test, 2))\n",
    "y_train = np.logical_not(np.logical_xor(X_train[:, 0], X_train[:, 1]))*1\n",
    "y_test = np.logical_not(np.logical_xor(X_test[:, 0], X_test[:, 1]))*1\n",
    "X_train = X_train + np.random.normal(0, 0.2, size=(n_train, 2))\n",
    "X_test = X_test + np.random.normal(0, 0.2, size=(n_test, 2))\n",
    "plt.plot(X_train[y_train == 0, 0], X_train[y_train == 0, 1], 'ro')\n",
    "plt.plot(X_train[y_train == 1, 0], X_train[y_train == 1, 1], 'bo')\n",
    "plt.show()\n",
    "\n",
    "model = tf.keras.Sequential([\n",
    "    tf.keras.layers.Dense(3, input_dim=2, activation='relu'),\n",
    "    tf.keras.layers.Dense(1, activation='sigmoid')\n",
    "])\n",
    "\n",
    "model.compile(loss='binary_crossentropy',\n",
    "              optimizer='sgd',\n",
    "              metrics=['accuracy'])\n",
    "\n",
    "model.fit(X_train, y_train, validation_data=(X_test, y_test), epochs=30)"
   ]
  },
  {
   "cell_type": "code",
   "execution_count": 75,
   "metadata": {},
   "outputs": [
    {
     "name": "stdout",
     "output_type": "stream",
     "text": [
      "Train on 20000 samples, validate on 1000 samples\n",
      "Epoch 1/30\n",
      "20000/20000 [==============================] - 0s 20us/sample - loss: 0.3224 - accuracy: 0.9624 - val_loss: 0.3214 - val_accuracy: 0.9690\n",
      "Epoch 2/30\n",
      "20000/20000 [==============================] - 0s 20us/sample - loss: 0.3168 - accuracy: 0.9630 - val_loss: 0.3159 - val_accuracy: 0.9690\n",
      "Epoch 3/30\n",
      "20000/20000 [==============================] - 0s 20us/sample - loss: 0.3113 - accuracy: 0.9635 - val_loss: 0.3105 - val_accuracy: 0.9690\n",
      "Epoch 4/30\n",
      "20000/20000 [==============================] - 0s 20us/sample - loss: 0.3059 - accuracy: 0.9639 - val_loss: 0.3051 - val_accuracy: 0.9700\n",
      "Epoch 5/30\n",
      "20000/20000 [==============================] - 0s 20us/sample - loss: 0.3005 - accuracy: 0.9641 - val_loss: 0.2998 - val_accuracy: 0.9700\n",
      "Epoch 6/30\n",
      "20000/20000 [==============================] - 0s 20us/sample - loss: 0.2952 - accuracy: 0.9642 - val_loss: 0.2944 - val_accuracy: 0.9720\n",
      "Epoch 7/30\n",
      "20000/20000 [==============================] - 0s 20us/sample - loss: 0.2899 - accuracy: 0.9646 - val_loss: 0.2892 - val_accuracy: 0.9720\n",
      "Epoch 8/30\n",
      "20000/20000 [==============================] - 0s 20us/sample - loss: 0.2848 - accuracy: 0.9646 - val_loss: 0.2840 - val_accuracy: 0.9720\n",
      "Epoch 9/30\n",
      "20000/20000 [==============================] - 0s 20us/sample - loss: 0.2797 - accuracy: 0.9648 - val_loss: 0.2790 - val_accuracy: 0.9720\n",
      "Epoch 10/30\n",
      "20000/20000 [==============================] - 0s 20us/sample - loss: 0.2748 - accuracy: 0.9652 - val_loss: 0.2741 - val_accuracy: 0.9730\n",
      "Epoch 11/30\n",
      "20000/20000 [==============================] - 0s 20us/sample - loss: 0.2700 - accuracy: 0.9655 - val_loss: 0.2693 - val_accuracy: 0.9710\n",
      "Epoch 12/30\n",
      "20000/20000 [==============================] - 0s 20us/sample - loss: 0.2652 - accuracy: 0.9660 - val_loss: 0.2646 - val_accuracy: 0.9720\n",
      "Epoch 13/30\n",
      "20000/20000 [==============================] - 0s 20us/sample - loss: 0.2607 - accuracy: 0.9664 - val_loss: 0.2600 - val_accuracy: 0.9710\n",
      "Epoch 14/30\n",
      "20000/20000 [==============================] - 0s 20us/sample - loss: 0.2562 - accuracy: 0.9668 - val_loss: 0.2556 - val_accuracy: 0.9730\n",
      "Epoch 15/30\n",
      "20000/20000 [==============================] - 0s 20us/sample - loss: 0.2519 - accuracy: 0.9673 - val_loss: 0.2512 - val_accuracy: 0.9730\n",
      "Epoch 16/30\n",
      "20000/20000 [==============================] - 0s 25us/sample - loss: 0.2476 - accuracy: 0.9679 - val_loss: 0.2470 - val_accuracy: 0.9730\n",
      "Epoch 17/30\n",
      "20000/20000 [==============================] - 0s 20us/sample - loss: 0.2436 - accuracy: 0.9684 - val_loss: 0.2429 - val_accuracy: 0.9730\n",
      "Epoch 18/30\n",
      "20000/20000 [==============================] - 0s 20us/sample - loss: 0.2396 - accuracy: 0.9688 - val_loss: 0.2389 - val_accuracy: 0.9740\n",
      "Epoch 19/30\n",
      "20000/20000 [==============================] - 0s 20us/sample - loss: 0.2358 - accuracy: 0.9693 - val_loss: 0.2351 - val_accuracy: 0.9740\n",
      "Epoch 20/30\n",
      "20000/20000 [==============================] - 0s 20us/sample - loss: 0.2320 - accuracy: 0.9696 - val_loss: 0.2314 - val_accuracy: 0.9740\n",
      "Epoch 21/30\n",
      "20000/20000 [==============================] - 0s 20us/sample - loss: 0.2284 - accuracy: 0.9700 - val_loss: 0.2278 - val_accuracy: 0.9740\n",
      "Epoch 22/30\n",
      "20000/20000 [==============================] - 0s 20us/sample - loss: 0.2249 - accuracy: 0.9704 - val_loss: 0.2242 - val_accuracy: 0.9740\n",
      "Epoch 23/30\n",
      "20000/20000 [==============================] - 0s 20us/sample - loss: 0.2215 - accuracy: 0.9706 - val_loss: 0.2208 - val_accuracy: 0.9740\n",
      "Epoch 24/30\n",
      "20000/20000 [==============================] - 0s 20us/sample - loss: 0.2182 - accuracy: 0.9707 - val_loss: 0.2175 - val_accuracy: 0.9740\n",
      "Epoch 25/30\n",
      "20000/20000 [==============================] - 0s 20us/sample - loss: 0.2150 - accuracy: 0.9707 - val_loss: 0.2143 - val_accuracy: 0.9730\n",
      "Epoch 26/30\n",
      "20000/20000 [==============================] - 0s 20us/sample - loss: 0.2119 - accuracy: 0.9709 - val_loss: 0.2112 - val_accuracy: 0.9730\n",
      "Epoch 27/30\n",
      "20000/20000 [==============================] - 0s 20us/sample - loss: 0.2089 - accuracy: 0.9711 - val_loss: 0.2082 - val_accuracy: 0.9730\n",
      "Epoch 28/30\n",
      "20000/20000 [==============================] - 0s 21us/sample - loss: 0.2059 - accuracy: 0.9715 - val_loss: 0.2052 - val_accuracy: 0.9730\n",
      "Epoch 29/30\n",
      "20000/20000 [==============================] - 0s 21us/sample - loss: 0.2031 - accuracy: 0.9718 - val_loss: 0.2024 - val_accuracy: 0.9730\n",
      "Epoch 30/30\n",
      "20000/20000 [==============================] - 0s 20us/sample - loss: 0.2004 - accuracy: 0.9719 - val_loss: 0.1996 - val_accuracy: 0.9730\n"
     ]
    },
    {
     "data": {
      "text/plain": [
       "<tensorflow.python.keras.callbacks.History at 0x1a2f1a41d0>"
      ]
     },
     "execution_count": 75,
     "metadata": {},
     "output_type": "execute_result"
    }
   ],
   "source": [
    "model.fit(X_train, y_train, validation_data=(X_test, y_test), epochs=30)"
   ]
  },
  {
   "cell_type": "code",
   "execution_count": 76,
   "metadata": {},
   "outputs": [
    {
     "data": {
      "text/plain": [
       "0.973"
      ]
     },
     "execution_count": 76,
     "metadata": {},
     "output_type": "execute_result"
    }
   ],
   "source": [
    "y_p = model.predict_classes(X_test).reshape(-1)\n",
    "sum(y_p == y_test)/len(y_p)"
   ]
  },
  {
   "cell_type": "code",
   "execution_count": 77,
   "metadata": {},
   "outputs": [
    {
     "data": {
      "image/png": "[encoded data removed]",
      "text/plain": [
       "<Figure size 432x288 with 1 Axes>"
      ]
     },
     "metadata": {},
     "output_type": "display_data"
    }
   ],
   "source": [
    "U = np.random.uniform(size=(1000, 2))\n",
    "v = model.predict_classes(U).reshape(-1)\n",
    "plt.plot(U[v == 0, 0], U[v == 0, 1], 'ro')\n",
    "plt.plot(U[v == 1, 0], U[v == 1, 1], 'bo')\n",
    "plt.show()\n"
   ]
  },
  {
   "cell_type": "markdown",
   "metadata": {},
   "source": [
    "### Exercise\n",
    "Build a network that can recognize this pattern"
   ]
  },
  {
   "cell_type": "code",
   "execution_count": 78,
   "metadata": {},
   "outputs": [
    {
     "ename": "TypeError",
     "evalue": "'History' object is not subscriptable",
     "output_type": "error",
     "traceback": [
      "\u001b[0;31m---------------------------------------------------------------------------\u001b[0m",
      "\u001b[0;31mTypeError\u001b[0m                                 Traceback (most recent call last)",
      "\u001b[0;32m<ipython-input-78-128bacba6db4>\u001b[0m in \u001b[0;36m<module>\u001b[0;34m()\u001b[0m\n\u001b[0;32m----> 1\u001b[0;31m \u001b[0mplt\u001b[0m\u001b[0;34m.\u001b[0m\u001b[0mplot\u001b[0m\u001b[0;34m(\u001b[0m\u001b[0mrange\u001b[0m\u001b[0;34m(\u001b[0m\u001b[0;36m30\u001b[0m\u001b[0;34m)\u001b[0m\u001b[0;34m,\u001b[0m \u001b[0mh\u001b[0m\u001b[0;34m[\u001b[0m\u001b[0;34m\"val_loss\"\u001b[0m\u001b[0;34m]\u001b[0m\u001b[0;34m,\u001b[0m \u001b[0mrange\u001b[0m\u001b[0;34m(\u001b[0m\u001b[0;36m30\u001b[0m\u001b[0;34m)\u001b[0m\u001b[0;34m,\u001b[0m \u001b[0mh\u001b[0m\u001b[0;34m[\u001b[0m\u001b[0;34m\"loss\"\u001b[0m\u001b[0;34m]\u001b[0m\u001b[0;34m,\u001b[0m \u001b[0mrange\u001b[0m\u001b[0;34m(\u001b[0m\u001b[0;36m30\u001b[0m\u001b[0;34m)\u001b[0m\u001b[0;34m,\u001b[0m  \u001b[0mh\u001b[0m\u001b[0;34m[\u001b[0m\u001b[0;34m\"val_accuracy\"\u001b[0m\u001b[0;34m]\u001b[0m\u001b[0;34m,\u001b[0m \u001b[0mrange\u001b[0m\u001b[0;34m(\u001b[0m\u001b[0;36m30\u001b[0m\u001b[0;34m)\u001b[0m\u001b[0;34m,\u001b[0m \u001b[0mh\u001b[0m\u001b[0;34m[\u001b[0m\u001b[0;34m\"accuracy\"\u001b[0m\u001b[0;34m]\u001b[0m\u001b[0;34m)\u001b[0m\u001b[0;34m\u001b[0m\u001b[0m\n\u001b[0m\u001b[1;32m      2\u001b[0m \u001b[0mplt\u001b[0m\u001b[0;34m.\u001b[0m\u001b[0mshow\u001b[0m\u001b[0;34m(\u001b[0m\u001b[0;34m)\u001b[0m\u001b[0;34m\u001b[0m\u001b[0m\n",
      "\u001b[0;31mTypeError\u001b[0m: 'History' object is not subscriptable"
     ]
    }
   ],
   "source": [
    "plt.plot(range(30), h[\"val_loss\"], range(30), h[\"loss\"], range(30),  h[\"val_accuracy\"], range(30), h[\"accuracy\"])\n",
    "plt.show()"
   ]
  },
  {
   "cell_type": "markdown",
   "metadata": {},
   "source": [
    "### Exercise\n",
    "\n",
    "- Construct a sequential neural network that can learn the pattern depicted below.\n",
    "- Experiment with numbers of layers, numbers of units in each layer, optimizer (`optimizer=\"rmsprop\"`) typically works well), etc.\n",
    "- Note any interesting misclassification patterns you find. \n",
    "\n",
    "<img src=\"boxed_circle.png\" />\n"
   ]
  },
  {
   "cell_type": "code",
   "execution_count": 88,
   "metadata": {},
   "outputs": [
    {
     "name": "stdout",
     "output_type": "stream",
     "text": [
      "Train on 13107 samples, validate on 3277 samples\n",
      "Epoch 1/30\n",
      "13107/13107 [==============================] - 1s 43us/sample - loss: 0.6681 - accuracy: 0.5931 - val_loss: 0.6457 - val_accuracy: 0.6701\n",
      "Epoch 2/30\n",
      "13107/13107 [==============================] - ETA: 0s - loss: 0.6235 - accuracy: 0.69 - 0s 27us/sample - loss: 0.6198 - accuracy: 0.7016 - val_loss: 0.5998 - val_accuracy: 0.7183\n",
      "Epoch 3/30\n",
      "13107/13107 [==============================] - 0s 25us/sample - loss: 0.5689 - accuracy: 0.7426 - val_loss: 0.5468 - val_accuracy: 0.7583\n",
      "Epoch 4/30\n",
      "13107/13107 [==============================] - 0s 26us/sample - loss: 0.5138 - accuracy: 0.7820 - val_loss: 0.4916 - val_accuracy: 0.7943\n",
      "Epoch 5/30\n",
      "13107/13107 [==============================] - 0s 26us/sample - loss: 0.4519 - accuracy: 0.8211 - val_loss: 0.4269 - val_accuracy: 0.8364\n",
      "Epoch 6/30\n",
      "13107/13107 [==============================] - 0s 26us/sample - loss: 0.3887 - accuracy: 0.8594 - val_loss: 0.3679 - val_accuracy: 0.8551\n",
      "Epoch 7/30\n",
      "13107/13107 [==============================] - 0s 26us/sample - loss: 0.3314 - accuracy: 0.8911 - val_loss: 0.3114 - val_accuracy: 0.8877\n",
      "Epoch 8/30\n",
      "13107/13107 [==============================] - 0s 25us/sample - loss: 0.2753 - accuracy: 0.9168 - val_loss: 0.2637 - val_accuracy: 0.9173\n",
      "Epoch 9/30\n",
      "13107/13107 [==============================] - 0s 26us/sample - loss: 0.2398 - accuracy: 0.9306 - val_loss: 0.2339 - val_accuracy: 0.9313\n",
      "Epoch 10/30\n",
      "13107/13107 [==============================] - 0s 27us/sample - loss: 0.2122 - accuracy: 0.9409 - val_loss: 0.2118 - val_accuracy: 0.9393\n",
      "Epoch 11/30\n",
      "13107/13107 [==============================] - 0s 26us/sample - loss: 0.1917 - accuracy: 0.9473 - val_loss: 0.1939 - val_accuracy: 0.9423\n",
      "Epoch 12/30\n",
      "13107/13107 [==============================] - 0s 26us/sample - loss: 0.1747 - accuracy: 0.9527 - val_loss: 0.1804 - val_accuracy: 0.9429\n",
      "Epoch 13/30\n",
      "13107/13107 [==============================] - 0s 26us/sample - loss: 0.1613 - accuracy: 0.9564 - val_loss: 0.1700 - val_accuracy: 0.9414\n",
      "Epoch 14/30\n",
      "13107/13107 [==============================] - 0s 26us/sample - loss: 0.1502 - accuracy: 0.9590 - val_loss: 0.1575 - val_accuracy: 0.9515\n",
      "Epoch 15/30\n",
      "13107/13107 [==============================] - 0s 27us/sample - loss: 0.1410 - accuracy: 0.9616 - val_loss: 0.1498 - val_accuracy: 0.9500\n",
      "Epoch 16/30\n",
      "13107/13107 [==============================] - 0s 26us/sample - loss: 0.1332 - accuracy: 0.9641 - val_loss: 0.1404 - val_accuracy: 0.9576\n",
      "Epoch 17/30\n",
      "13107/13107 [==============================] - 0s 30us/sample - loss: 0.1258 - accuracy: 0.9661 - val_loss: 0.1344 - val_accuracy: 0.9594\n",
      "Epoch 18/30\n",
      "13107/13107 [==============================] - 0s 28us/sample - loss: 0.1197 - accuracy: 0.9657 - val_loss: 0.1288 - val_accuracy: 0.9576\n",
      "Epoch 19/30\n",
      "13107/13107 [==============================] - 0s 26us/sample - loss: 0.1141 - accuracy: 0.9691 - val_loss: 0.1238 - val_accuracy: 0.9637\n",
      "Epoch 20/30\n",
      "13107/13107 [==============================] - 0s 28us/sample - loss: 0.1090 - accuracy: 0.9702 - val_loss: 0.1238 - val_accuracy: 0.9518\n",
      "Epoch 21/30\n",
      "13107/13107 [==============================] - 0s 27us/sample - loss: 0.1052 - accuracy: 0.9719 - val_loss: 0.1137 - val_accuracy: 0.9631\n",
      "Epoch 22/30\n",
      "13107/13107 [==============================] - 0s 27us/sample - loss: 0.1013 - accuracy: 0.9713 - val_loss: 0.1100 - val_accuracy: 0.9643\n",
      "Epoch 23/30\n",
      "13107/13107 [==============================] - 0s 27us/sample - loss: 0.0980 - accuracy: 0.9732 - val_loss: 0.1061 - val_accuracy: 0.9664\n",
      "Epoch 24/30\n",
      "13107/13107 [==============================] - 0s 26us/sample - loss: 0.0944 - accuracy: 0.9741 - val_loss: 0.1054 - val_accuracy: 0.9646\n",
      "Epoch 25/30\n",
      "13107/13107 [==============================] - 0s 27us/sample - loss: 0.0915 - accuracy: 0.9747 - val_loss: 0.1020 - val_accuracy: 0.9664\n",
      "Epoch 26/30\n",
      "13107/13107 [==============================] - 0s 27us/sample - loss: 0.0890 - accuracy: 0.9755 - val_loss: 0.1002 - val_accuracy: 0.9643\n",
      "Epoch 27/30\n",
      "13107/13107 [==============================] - 0s 26us/sample - loss: 0.0865 - accuracy: 0.9756 - val_loss: 0.0957 - val_accuracy: 0.9716\n",
      "Epoch 28/30\n",
      "13107/13107 [==============================] - 0s 27us/sample - loss: 0.0846 - accuracy: 0.9757 - val_loss: 0.0934 - val_accuracy: 0.9683\n",
      "Epoch 29/30\n",
      "13107/13107 [==============================] - 0s 26us/sample - loss: 0.0821 - accuracy: 0.9770 - val_loss: 0.0918 - val_accuracy: 0.9692\n",
      "Epoch 30/30\n",
      "13107/13107 [==============================] - 0s 26us/sample - loss: 0.0803 - accuracy: 0.9767 - val_loss: 0.0900 - val_accuracy: 0.9701\n"
     ]
    },
    {
     "data": {
      "text/plain": [
       "<tensorflow.python.keras.callbacks.History at 0x1a3239e898>"
      ]
     },
     "execution_count": 88,
     "metadata": {},
     "output_type": "execute_result"
    }
   ],
   "source": [
    "# Here's how to generate data like this:\n",
    "n = 2**14\n",
    "X = np.random.uniform(size=(n, 2))\n",
    "y = np.linalg.norm(X - np.array([0.5, 0.5]), axis=1) < 0.4\n",
    "\n",
    "model = tf.keras.Sequential([\n",
    "    tf.keras.layers.Dense(5, input_dim=2, activation='relu'),\n",
    "    tf.keras.layers.Dense(5, activation='relu'),\n",
    "    tf.keras.layers.Dense(1, activation='sigmoid')\n",
    "])\n",
    "\n",
    "model.compile(loss='binary_crossentropy',\n",
    "              optimizer='rmsprop',\n",
    "              metrics=['accuracy'])\n",
    "\n",
    "model.fit(X, y, validation_split=0.2, epochs=30)\n"
   ]
  },
  {
   "cell_type": "code",
   "execution_count": 90,
   "metadata": {},
   "outputs": [
    {
     "data": {
      "image/png": "[encoded data removed]",
      "text/plain": [
       "<Figure size 432x288 with 1 Axes>"
      ]
     },
     "metadata": {},
     "output_type": "display_data"
    }
   ],
   "source": [
    "n = 2**10\n",
    "X = np.random.uniform(size=(n, 2))\n",
    "# y = np.linalg.norm(X - np.array([0.5, 0.5]), axis=1) < 0.4\n",
    "y = model.predict_classes(X).reshape(-1)\n",
    "plt.plot(X[y == 0, 0], X[y == 0, 1], 'bo')\n",
    "plt.plot(X[y == 1, 0], X[y == 1, 1], 'ro')\n",
    "plt.show()\n"
   ]
  },
  {
   "cell_type": "code",
   "execution_count": 87,
   "metadata": {},
   "outputs": [],
   "source": [
    "X1 = X; y1 = y"
   ]
  },
  {
   "cell_type": "code",
   "execution_count": 91,
   "metadata": {},
   "outputs": [
    {
     "name": "stdout",
     "output_type": "stream",
     "text": [
      "Model: \"sequential_45\"\n",
      "_________________________________________________________________\n",
      "Layer (type)                 Output Shape              Param #   \n",
      "=================================================================\n",
      "dense_76 (Dense)             (None, 5)                 15        \n",
      "_________________________________________________________________\n",
      "dense_77 (Dense)             (None, 5)                 30        \n",
      "_________________________________________________________________\n",
      "dense_78 (Dense)             (None, 1)                 6         \n",
      "=================================================================\n",
      "Total params: 51\n",
      "Trainable params: 51\n",
      "Non-trainable params: 0\n",
      "_________________________________________________________________\n"
     ]
    }
   ],
   "source": [
    "model.summary()"
   ]
  },
  {
   "cell_type": "code",
   "execution_count": null,
   "metadata": {},
   "outputs": [],
   "source": []
  }
 ],
 "metadata": {
  "kernelspec": {
   "display_name": "Python 3",
   "language": "python",
   "name": "python3"
  },
  "language_info": {
   "codemirror_mode": {
    "name": "ipython",
    "version": 3
   },
   "file_extension": ".py",
   "mimetype": "text/x-python",
   "name": "python",
   "nbconvert_exporter": "python",
   "pygments_lexer": "ipython3",
   "version": "3.6.5"
  }
 },
 "nbformat": 4,
 "nbformat_minor": 2
}
