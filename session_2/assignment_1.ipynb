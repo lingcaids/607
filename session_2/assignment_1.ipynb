{
 "cells": [
  {
   "cell_type": "markdown",
   "metadata": {},
   "source": [
    "## Assignment 1"
   ]
  },
  {
   "cell_type": "markdown",
   "metadata": {},
   "source": [
    "### Problem 1\n",
    "\n",
    "Load `sklearn`'s built-in *Breast Cancer Wisconsin Diagnostic* dataset. (See <a href=\"https://scikit-learn.org/stable/modules/generated/sklearn.datasets.load_breast_cancer.html\">here</a> for details.)\n",
    "Use the following methods to train a classifier for breast cancer diagnosis:\n",
    "- Logistic regression\n",
    "- Gaussian Naive Bayes\n",
    "- $k$-nearest neighbors\n",
    "\n",
    "Where appropriate, use cross-validation to select hyperparameters. Split the dataset into a training set and a testing set. Using the testing set to estimate the misclassification rate of your classifier.\n",
    "\n",
    "**Bonus:** Use kernel density estimation to approximate the densities of classes both classes. Use these densities, together with Bayes' Theorem, to construct another classifier. (Use class frequencies for the priors.)"
   ]
  },
  {
   "cell_type": "markdown",
   "metadata": {},
   "source": [
    "### Problem 2\n",
    "\n",
    "Write a `python` class `CosineRegressor` to preform regression using the *cosine kernel*:\n",
    "$$\n",
    "K(x) = \\frac\\pi 4\\cos\\left(\\frac \\pi 2 x\\right)\\mathbf{1}_{[-1, 1]}(x)\n",
    "$$\n",
    "It should accept a bandwidth parameter.\n",
    "Implement `fit`, `predict`, and any other methods necessary to use your class as the first argument in `cross_val_score`.\n",
    "\n",
    "Demonstrate that your regressor works by generating and fitting some synthetic data, choosing the bandwidth parameter using cross validation."
   ]
  },
  {
   "cell_type": "code",
   "execution_count": null,
   "metadata": {},
   "outputs": [],
   "source": []
  }
 ],
 "metadata": {
  "kernelspec": {
   "display_name": "Python 3",
   "language": "python",
   "name": "python3"
  },
  "language_info": {
   "codemirror_mode": {
    "name": "ipython",
    "version": 3
   },
   "file_extension": ".py",
   "mimetype": "text/x-python",
   "name": "python",
   "nbconvert_exporter": "python",
   "pygments_lexer": "ipython3",
   "version": "3.6.5"
  }
 },
 "nbformat": 4,
 "nbformat_minor": 2
}
