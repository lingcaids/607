{
 "cells": [
  {
   "cell_type": "markdown",
   "metadata": {},
   "source": [
    "## `numpy` 101: Axes, universal functions, and broadcasting"
   ]
  },
  {
   "cell_type": "code",
   "execution_count": 2,
   "metadata": {},
   "outputs": [],
   "source": [
    "import numpy as np\n",
    "\n",
    "u = np.array([[1, 2, 3]])\n",
    "v = 2*np.array(range(-4, 8)).reshape(4, 3)\n",
    "w = np.array(range(4, -1, -1)).reshape(5, 1)\n",
    "x = np.array([1, 2, 3])\n",
    "y = np.array([4, 10, 6])\n",
    "A = np.array([x, y])\n",
    "B = np.array(range(1, 16)).reshape(5, 3)"
   ]
  },
  {
   "cell_type": "markdown",
   "metadata": {},
   "source": [
    "### \"Collapsing\" functions\n",
    "\n",
    "`numpy` has lots of useful collapse arrays to numbers:\n",
    "\n",
    "- `sum` adds up all the elements in an array.\n",
    "- `prod` multiplies all the elements of an array together.\n",
    "- `mean` computes the mean of all the elements of an array.\n",
    "- `median` computes the median of all the elements of an array.\n",
    "- `var` computes the variance of all the elements of an array.\n",
    "- `max` returns the largest value of an array.\n",
    "- `min` returns the smallest value of an array.\n",
    "- `argmax` gives the index -- in the flattened array -- of the first occurance of an array's maximum value.\n",
    "- `argmin` gives the index -- in the flattened array -- of the first occurance of an array's minimum value.\n",
    "- ..."
   ]
  },
  {
   "cell_type": "code",
   "execution_count": 9,
   "metadata": {},
   "outputs": [
    {
     "name": "stdout",
     "output_type": "stream",
     "text": [
      "[1 2 3] 6\n",
      "[[ 1  2  3]\n",
      " [ 4 10  6]]\n",
      "\n",
      "4.333333333333333\n",
      "[[ 1  2  3]\n",
      " [ 4 10  6]]\n",
      "\n",
      "4\n"
     ]
    },
    {
     "data": {
      "text/plain": [
       "10"
      ]
     },
     "execution_count": 9,
     "metadata": {},
     "output_type": "execute_result"
    }
   ],
   "source": [
    "print(x, np.sum(x), sep=\"\\n\\n\")\n",
    "print(A, np.mean(A), sep=\"\\n\\n\")\n",
    "print(A, np.argmax(A), sep=\"\\n\\n\")\n",
    "np.ndarray.flatten(A)[4]"
   ]
  },
  {
   "cell_type": "markdown",
   "metadata": {},
   "source": [
    "### Collapsing along axes\n",
    "\n",
    "These same functions, when instructed, can also collapse arrays into smaller arrays.\n",
    "If `f` is one of the above functions, then `f(B, axis=k)` will apply `f` to collapse the $k$-th axis of `B`:"
   ]
  },
  {
   "cell_type": "code",
   "execution_count": 18,
   "metadata": {},
   "outputs": [
    {
     "name": "stdout",
     "output_type": "stream",
     "text": [
      "[[ 1  2  3]\n",
      " [ 4  5  6]\n",
      " [ 7  8  9]\n",
      " [10 11 12]\n",
      " [13 14 15]]\n",
      "[4 4 4]\n"
     ]
    }
   ],
   "source": [
    "print(B)\n",
    "print(np.argmax(B, axis=0))"
   ]
  },
  {
   "cell_type": "markdown",
   "metadata": {},
   "source": [
    "If $j \\neq k$, then the $j$-th dimension of `f(B, axis=k)` is the same as that of `B`. The $k$-th dimension of `f(B, axis=k)` is $1$. (The $j$-th dimension of `B` is `B.shape[j]`.)\n",
    "\n",
    "Axis 0 is the row axis. Collapsing along axis $0$ means collapsing all the rows down to a single row. Similarly for axis $1$ and columns."
   ]
  },
  {
   "cell_type": "markdown",
   "metadata": {},
   "source": [
    "### Repeating along an axis\n",
    "\n",
    "`np.repeat(C, n, axis=k)` will repeat `C` `n` times along its `k`-th axis."
   ]
  },
  {
   "cell_type": "code",
   "execution_count": 25,
   "metadata": {},
   "outputs": [
    {
     "data": {
      "text/plain": [
       "array([[1, 1, 1, 1, 2, 2, 2, 2, 3, 3, 3, 3],\n",
       "       [1, 1, 1, 1, 2, 2, 2, 2, 3, 3, 3, 3],\n",
       "       [1, 1, 1, 1, 2, 2, 2, 2, 3, 3, 3, 3],\n",
       "       [1, 1, 1, 1, 2, 2, 2, 2, 3, 3, 3, 3],\n",
       "       [1, 1, 1, 1, 2, 2, 2, 2, 3, 3, 3, 3]])"
      ]
     },
     "execution_count": 25,
     "metadata": {},
     "output_type": "execute_result"
    }
   ],
   "source": [
    "np.repeat(np.repeat(x.reshape(1, 3), 5, axis=0), 4, axis=1)"
   ]
  },
  {
   "cell_type": "markdown",
   "metadata": {},
   "source": [
    "### Universal functions\n",
    "\n",
    "In `numpy`, Basic arithmetic operations on arrays (matrices) are performed component-wise..."
   ]
  },
  {
   "cell_type": "code",
   "execution_count": 28,
   "metadata": {},
   "outputs": [
    {
     "name": "stdout",
     "output_type": "stream",
     "text": [
      "[1 2 3]\n",
      "\n",
      "[[1 2 3]]\n",
      "\n",
      "[[2 4 6]]\n"
     ]
    }
   ],
   "source": [
    "A + A\n",
    "print(x, u, x + u, sep=\"\\n\\n\")"
   ]
  },
  {
   "cell_type": "markdown",
   "metadata": {},
   "source": [
    "...and obey certain size compatibility constraints."
   ]
  },
  {
   "cell_type": "code",
   "execution_count": 31,
   "metadata": {},
   "outputs": [
    {
     "ename": "ValueError",
     "evalue": "operands could not be broadcast together with shapes (4,) (3,) ",
     "output_type": "error",
     "traceback": [
      "\u001b[0;31m---------------------------------------------------------------------------\u001b[0m",
      "\u001b[0;31mValueError\u001b[0m                                Traceback (most recent call last)",
      "\u001b[0;32m<ipython-input-31-01cc4e7c88c3>\u001b[0m in \u001b[0;36m<module>\u001b[0;34m()\u001b[0m\n\u001b[0;32m----> 1\u001b[0;31m \u001b[0mnp\u001b[0m\u001b[0;34m.\u001b[0m\u001b[0marray\u001b[0m\u001b[0;34m(\u001b[0m\u001b[0;34m[\u001b[0m\u001b[0;36m1\u001b[0m\u001b[0;34m,\u001b[0m \u001b[0;36m2\u001b[0m\u001b[0;34m,\u001b[0m \u001b[0;36m3\u001b[0m\u001b[0;34m,\u001b[0m \u001b[0;36m4\u001b[0m\u001b[0;34m]\u001b[0m\u001b[0;34m)\u001b[0m \u001b[0;34m+\u001b[0m \u001b[0mx\u001b[0m\u001b[0;34m\u001b[0m\u001b[0m\n\u001b[0m",
      "\u001b[0;31mValueError\u001b[0m: operands could not be broadcast together with shapes (4,) (3,) "
     ]
    }
   ],
   "source": [
    "np.array([1, 2, 3, 4]) + x"
   ]
  },
  {
   "cell_type": "markdown",
   "metadata": {},
   "source": [
    "`numpy` has plenty of standard mathematical functions built in. These also operate component-wise on arrays:"
   ]
  },
  {
   "cell_type": "code",
   "execution_count": 37,
   "metadata": {},
   "outputs": [
    {
     "data": {
      "text/plain": [
       "array([[ 1,  2,  3],\n",
       "       [ 4,  5,  6],\n",
       "       [ 7,  8,  9],\n",
       "       [10, 11, 12],\n",
       "       [13, 14, 15]])"
      ]
     },
     "execution_count": 37,
     "metadata": {},
     "output_type": "execute_result"
    }
   ],
   "source": [
    "np.square(x)\n",
    "np.square(A)\n",
    "np.exp2(x)\n",
    "np.exp(x)\n",
    "np.sqrt(B)\n",
    "B"
   ]
  },
  {
   "cell_type": "markdown",
   "metadata": {},
   "source": [
    "In `numpy`, functions that operate componentwise on arrays of arbitrary size are called **universal functions** (`ufunc`s).\n",
    "\n",
    "### Broadcasting\n",
    "\n",
    "In linear algebra class, it's common to multiply a vector matrix by a scalar:"
   ]
  },
  {
   "cell_type": "code",
   "execution_count": 45,
   "metadata": {},
   "outputs": [
    {
     "name": "stdout",
     "output_type": "stream",
     "text": [
      "[[1 2 3]]\n",
      "\n",
      "[[-1]\n",
      " [ 4]\n",
      " [ 6]\n",
      " [ 7]]\n",
      "\n",
      "[[ 0  1  2]\n",
      " [ 5  6  7]\n",
      " [ 7  8  9]\n",
      " [ 8  9 10]]\n"
     ]
    }
   ],
   "source": [
    "print(x.reshape(1, 3), np.array([-1, 4, 6, 7]).reshape(4, 1), x.reshape(1, 3) + np.array([-1, 4, 6, 7]).reshape(4, 1), sep=\"\\n\\n\")"
   ]
  },
  {
   "cell_type": "code",
   "execution_count": 51,
   "metadata": {},
   "outputs": [
    {
     "name": "stdout",
     "output_type": "stream",
     "text": [
      "[[1 2 3]\n",
      " [1 2 3]\n",
      " [1 2 3]\n",
      " [1 2 3]]\n",
      "\n",
      "[[-1 -1 -1]\n",
      " [ 4  4  4]\n",
      " [ 6  6  6]\n",
      " [ 7  7  7]]\n",
      "\n",
      "[[ 0  1  2]\n",
      " [ 5  6  7]\n",
      " [ 7  8  9]\n",
      " [ 8  9 10]]\n"
     ]
    }
   ],
   "source": [
    "xx = np.repeat(x.reshape(1, 3), 4, axis=0)\n",
    "yy = np.repeat(np.array([-1, 4, 6, 7]).reshape(4, 1), 3, axis=1)\n",
    "print(xx, yy, xx + yy, sep=\"\\n\\n\")"
   ]
  },
  {
   "cell_type": "markdown",
   "metadata": {},
   "source": [
    "What's not so common is to add a number to a vector or matrix:"
   ]
  },
  {
   "cell_type": "code",
   "execution_count": null,
   "metadata": {},
   "outputs": [],
   "source": []
  },
  {
   "cell_type": "markdown",
   "metadata": {},
   "source": [
    "`numpy` knows that adding a number to an array means adding that number to every component of an array.\n",
    "This is a special case of `numpy`'s scheme, called **broadcasting**, for applying **universal functions of several variables** --- like `+`, `*`, `/`, and `**` --- to arrays with different sizes."
   ]
  },
  {
   "cell_type": "code",
   "execution_count": null,
   "metadata": {},
   "outputs": [],
   "source": []
  },
  {
   "cell_type": "markdown",
   "metadata": {},
   "source": [
    "- We added the $1 \\times 3$ array `u` to the $4\\times 3$ array `v`, producing a $4\\times 3$ array.\n",
    "- We multiplied the $1 \\times 3$ array `u` to the $5\\times 1$ array `v`, producing a $5\\times 3$ array.\n",
    "\n",
    "Here are the rules:\n",
    "\n",
    "- `A + B` is defined **if and only if**\n",
    "  <p style=\"text-align: center; padding-bottom: 1em\">for all `j`, either `A.shape[j] == B.shape[j]` or one of `A.shape[j]`, `B.shape[j]` is `1`,</p>\n",
    "  in which case `(A + B).shape[j] == np.max(A.shape[j], B.shape[j])`.\n",
    "\n",
    "- If `1 == A.shape[j] < B.shape[j]`, then `A` is duplicated along the `j`-th axis `B.shape[j]` times, and symmetrically if `1 == B.shape[j] < A.shape[j]`. The new matrices are then added as usual.\n",
    "\n",
    "**Note:** `numpy` doesn't literally duplicte rows/columns, creating a large, redundant matrix.\n",
    "That would be inefficient. Nonetheless, I find this is a useful way to visualize how broadcasting works."
   ]
  },
  {
   "cell_type": "code",
   "execution_count": null,
   "metadata": {},
   "outputs": [],
   "source": []
  },
  {
   "cell_type": "markdown",
   "metadata": {},
   "source": [
    "### Test your understanding"
   ]
  },
  {
   "cell_type": "markdown",
   "metadata": {},
   "source": [
    "1. Arrange the numbers $1$ through $35$ in a $5 \\times 7$ matrix, $A$.\n",
    "   \n",
    "   1. Compute the mean of all the entries of $A$.\n",
    "   2. Compute the row-means of $A$, i.e., the vector of length $5$ whose $i$-th entry is the mean of the $i$-th row of $A$.\n",
    "   3. Subtract the row-means from their rows, so that the row-means of the resulting difference are all $0$. (We call this **centering** the rows of $A$.)\n",
    "   4. Divide each centered row by its standard deviation (`np.std`). Confirm that the rows of the resulting matrix all have variance (`np.var`) $1$.\n",
    "\n",
    "2. Let $B$ be a $6\\times 6$ matrix whose entries are drawn independently at random from the standard normal distribution (`numpy.random.normal`). In each column of $B$, find the entry closest to $0.5$, and its row index. (Hint: `np.abs` and `np.argmin`)\n",
    "\n",
    "3. Let $C$ be a $5\\times 10$ matrix whose entries are drawn independently at random from the standard uniform distribution (`numpy.random.uniform`). In each row of $C$, find the entries furthest from $0.0$, $0.33$, $0.66$, and $1.0$, as well as their column indices. (Hint: `np.abs` and `np.argmax`)"
   ]
  },
  {
   "cell_type": "code",
   "execution_count": 52,
   "metadata": {},
   "outputs": [],
   "source": [
    "A = np.array([[0, 1, 1, 2], [3, 5, 8, 13], [21, 34, 55, 89]])"
   ]
  },
  {
   "cell_type": "code",
   "execution_count": 53,
   "metadata": {},
   "outputs": [
    {
     "data": {
      "text/plain": [
       "array([[ 0,  1,  1,  2],\n",
       "       [ 3,  5,  8, 13],\n",
       "       [21, 34, 55, 89]])"
      ]
     },
     "execution_count": 53,
     "metadata": {},
     "output_type": "execute_result"
    }
   ],
   "source": [
    "A"
   ]
  },
  {
   "cell_type": "code",
   "execution_count": 55,
   "metadata": {},
   "outputs": [],
   "source": [
    "AA = A - np.mean(A, axis=0)"
   ]
  },
  {
   "cell_type": "code",
   "execution_count": 56,
   "metadata": {},
   "outputs": [
    {
     "data": {
      "text/plain": [
       "-1.7763568394002505e-15"
      ]
     },
     "execution_count": 56,
     "metadata": {},
     "output_type": "execute_result"
    }
   ],
   "source": [
    "np.mean(AA)"
   ]
  },
  {
   "cell_type": "code",
   "execution_count": 57,
   "metadata": {},
   "outputs": [
    {
     "data": {
      "text/plain": [
       "array([  86.        ,  216.22222222,  574.88888889, 1496.22222222])"
      ]
     },
     "execution_count": 57,
     "metadata": {},
     "output_type": "execute_result"
    }
   ],
   "source": [
    "np.var(AA, axis=0)"
   ]
  },
  {
   "cell_type": "code",
   "execution_count": 58,
   "metadata": {},
   "outputs": [],
   "source": [
    "AAA = AA/np.std(AA, axis=0)"
   ]
  },
  {
   "cell_type": "code",
   "execution_count": 59,
   "metadata": {},
   "outputs": [
    {
     "data": {
      "text/plain": [
       "array([[-0.86266219, -0.8387457 , -0.84804056, -0.84451384],\n",
       "       [-0.53916387, -0.56672007, -0.55609217, -0.56013673],\n",
       "       [ 1.40182605,  1.40546577,  1.40413273,  1.40465057]])"
      ]
     },
     "execution_count": 59,
     "metadata": {},
     "output_type": "execute_result"
    }
   ],
   "source": [
    "AAA"
   ]
  },
  {
   "cell_type": "code",
   "execution_count": 60,
   "metadata": {},
   "outputs": [
    {
     "data": {
      "text/plain": [
       "array([1., 1., 1., 1.])"
      ]
     },
     "execution_count": 60,
     "metadata": {},
     "output_type": "execute_result"
    }
   ],
   "source": [
    "np.var(AAA, axis=0)"
   ]
  },
  {
   "cell_type": "code",
   "execution_count": 61,
   "metadata": {},
   "outputs": [
    {
     "data": {
      "text/plain": [
       "array([ 0.00000000e+00, -7.40148683e-17,  1.48029737e-16,  7.40148683e-17])"
      ]
     },
     "execution_count": 61,
     "metadata": {},
     "output_type": "execute_result"
    }
   ],
   "source": [
    "np.mean(AAA, axis=0)"
   ]
  },
  {
   "cell_type": "code",
   "execution_count": 62,
   "metadata": {},
   "outputs": [],
   "source": [
    "from sklearn.datasets import load_breast_cancer\n",
    "X, y = load_breast_cancer?"
   ]
  },
  {
   "cell_type": "code",
   "execution_count": 63,
   "metadata": {},
   "outputs": [],
   "source": [
    "X, y = load_breast_cancer(return_X_y=True)"
   ]
  },
  {
   "cell_type": "code",
   "execution_count": 64,
   "metadata": {},
   "outputs": [
    {
     "data": {
      "text/plain": [
       "array([0, 0, 0, 0, 0, 0, 0, 0, 0, 0, 0, 0, 0, 0, 0, 0, 0, 0, 0, 1, 1, 1,\n",
       "       0, 0, 0, 0, 0, 0, 0, 0, 0, 0, 0, 0, 0, 0, 0, 1, 0, 0, 0, 0, 0, 0,\n",
       "       0, 0, 1, 0, 1, 1, 1, 1, 1, 0, 0, 1, 0, 0, 1, 1, 1, 1, 0, 1, 0, 0,\n",
       "       1, 1, 1, 1, 0, 1, 0, 0, 1, 0, 1, 0, 0, 1, 1, 1, 0, 0, 1, 0, 0, 0,\n",
       "       1, 1, 1, 0, 1, 1, 0, 0, 1, 1, 1, 0, 0, 1, 1, 1, 1, 0, 1, 1, 0, 1,\n",
       "       1, 1, 1, 1, 1, 1, 1, 0, 0, 0, 1, 0, 0, 1, 1, 1, 0, 0, 1, 0, 1, 0,\n",
       "       0, 1, 0, 0, 1, 1, 0, 1, 1, 0, 1, 1, 1, 1, 0, 1, 1, 1, 1, 1, 1, 1,\n",
       "       1, 1, 0, 1, 1, 1, 1, 0, 0, 1, 0, 1, 1, 0, 0, 1, 1, 0, 0, 1, 1, 1,\n",
       "       1, 0, 1, 1, 0, 0, 0, 1, 0, 1, 0, 1, 1, 1, 0, 1, 1, 0, 0, 1, 0, 0,\n",
       "       0, 0, 1, 0, 0, 0, 1, 0, 1, 0, 1, 1, 0, 1, 0, 0, 0, 0, 1, 1, 0, 0,\n",
       "       1, 1, 1, 0, 1, 1, 1, 1, 1, 0, 0, 1, 1, 0, 1, 1, 0, 0, 1, 0, 1, 1,\n",
       "       1, 1, 0, 1, 1, 1, 1, 1, 0, 1, 0, 0, 0, 0, 0, 0, 0, 0, 0, 0, 0, 0,\n",
       "       0, 0, 1, 1, 1, 1, 1, 1, 0, 1, 0, 1, 1, 0, 1, 1, 0, 1, 0, 0, 1, 1,\n",
       "       1, 1, 1, 1, 1, 1, 1, 1, 1, 1, 1, 0, 1, 1, 0, 1, 0, 1, 1, 1, 1, 1,\n",
       "       1, 1, 1, 1, 1, 1, 1, 1, 1, 0, 1, 1, 1, 0, 1, 0, 1, 1, 1, 1, 0, 0,\n",
       "       0, 1, 1, 1, 1, 0, 1, 0, 1, 0, 1, 1, 1, 0, 1, 1, 1, 1, 1, 1, 1, 0,\n",
       "       0, 0, 1, 1, 1, 1, 1, 1, 1, 1, 1, 1, 1, 0, 0, 1, 0, 0, 0, 1, 0, 0,\n",
       "       1, 1, 1, 1, 1, 0, 1, 1, 1, 1, 1, 0, 1, 1, 1, 0, 1, 1, 0, 0, 1, 1,\n",
       "       1, 1, 1, 1, 0, 1, 1, 1, 1, 1, 1, 1, 0, 1, 1, 1, 1, 1, 0, 1, 1, 0,\n",
       "       1, 1, 1, 1, 1, 1, 1, 1, 1, 1, 1, 1, 0, 1, 0, 0, 1, 0, 1, 1, 1, 1,\n",
       "       1, 0, 1, 1, 0, 1, 0, 1, 1, 0, 1, 0, 1, 1, 1, 1, 1, 1, 1, 1, 0, 0,\n",
       "       1, 1, 1, 1, 1, 1, 0, 1, 1, 1, 1, 1, 1, 1, 1, 1, 1, 0, 1, 1, 1, 1,\n",
       "       1, 1, 1, 0, 1, 0, 1, 1, 0, 1, 1, 1, 1, 1, 0, 0, 1, 0, 1, 0, 1, 1,\n",
       "       1, 1, 1, 0, 1, 1, 0, 1, 0, 1, 0, 0, 1, 1, 1, 0, 1, 1, 1, 1, 1, 1,\n",
       "       1, 1, 1, 1, 1, 0, 1, 0, 0, 1, 1, 1, 1, 1, 1, 1, 1, 1, 1, 1, 1, 1,\n",
       "       1, 1, 1, 1, 1, 1, 1, 1, 1, 1, 1, 1, 0, 0, 0, 0, 0, 0, 1])"
      ]
     },
     "execution_count": 64,
     "metadata": {},
     "output_type": "execute_result"
    }
   ],
   "source": [
    "y"
   ]
  },
  {
   "cell_type": "code",
   "execution_count": null,
   "metadata": {},
   "outputs": [],
   "source": []
  }
 ],
 "metadata": {
  "kernelspec": {
   "display_name": "Python 3",
   "language": "python",
   "name": "python3"
  },
  "language_info": {
   "codemirror_mode": {
    "name": "ipython",
    "version": 3
   },
   "file_extension": ".py",
   "mimetype": "text/x-python",
   "name": "python",
   "nbconvert_exporter": "python",
   "pygments_lexer": "ipython3",
   "version": "3.6.5"
  }
 },
 "nbformat": 4,
 "nbformat_minor": 2
}
