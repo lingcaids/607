{
 "cells": [
  {
   "cell_type": "markdown",
   "metadata": {},
   "source": [
    "## Assignment 1"
   ]
  },
  {
   "cell_type": "markdown",
   "metadata": {},
   "source": [
    "Please submit your assignment by uploading your `.ipynb` file to the dropbox I'll set up on D2L."
   ]
  },
  {
   "cell_type": "markdown",
   "metadata": {},
   "source": [
    "### Problem 1\n",
    "\n",
    "Load `sklearn`'s built-in *Breast Cancer Wisconsin Diagnostic* dataset. (See <a href=\"https://scikit-learn.org/stable/modules/generated/sklearn.datasets.load_breast_cancer.html\">here</a> for details.)\n",
    "Use the following methods to train a classifier for breast cancer diagnosis:\n",
    "- Logistic regression\n",
    "- Gaussian Naive Bayes\n",
    "- $k$-nearest neighbors\n",
    "\n",
    "Where appropriate, use cross-validation to select hyperparameters. Split the dataset into a training set and a testing set. Using the testing set to estimate the misclassification rate of your classifier.\n",
    "\n",
    "**Bonus:** Use kernel density estimation to approximate the densities of classes both classes. Use these densities, together with Bayes' Theorem, to construct another classifier. (Use class frequencies for the priors.)"
   ]
  },
  {
   "cell_type": "markdown",
   "metadata": {},
   "source": [
    "### Problem 2\n",
    "\n",
    "Write a `python` class `CosineRegressor` to preform regression using the *cosine kernel*:\n",
    "$$\n",
    "K(x) = \\frac\\pi 4\\cos\\left(\\frac \\pi 2 x\\right)\\mathbf{1}_{[-1, 1]}(x)\n",
    "$$\n",
    "It should accept a bandwidth parameter.\n",
    "Implement `fit`, `predict`, and any other methods necessary to use your class as the first argument in `cross_val_score`.\n",
    "\n",
    "Demonstrate that your regressor works by generating and fitting some synthetic data, choosing the bandwidth parameter using cross validation."
   ]
  },
  {
   "cell_type": "code",
   "execution_count": 3,
   "metadata": {},
   "outputs": [
    {
     "name": "stdout",
     "output_type": "stream",
     "text": [
      "X has shape (569, 30), y has shape (569,).\n"
     ]
    }
   ],
   "source": [
    "from sklearn.datasets import load_breast_cancer\n",
    "X, y = load_breast_cancer(return_X_y=True)\n",
    "print(f\"X has shape {X.shape}, y has shape {y.shape}.\")"
   ]
  },
  {
   "cell_type": "code",
   "execution_count": 8,
   "metadata": {},
   "outputs": [
    {
     "name": "stdout",
     "output_type": "stream",
     "text": [
      "Here are the means of the predictor variables:\n",
      "[1.41272917e+01 1.92896485e+01 9.19690334e+01 6.54889104e+02\n",
      " 9.63602812e-02 1.04340984e-01 8.87993158e-02 4.89191459e-02\n",
      " 1.81161863e-01 6.27976098e-02 4.05172056e-01 1.21685343e+00\n",
      " 2.86605923e+00 4.03370791e+01 7.04097891e-03 2.54781388e-02\n",
      " 3.18937163e-02 1.17961371e-02 2.05422988e-02 3.79490387e-03\n",
      " 1.62691898e+01 2.56772232e+01 1.07261213e+02 8.80583128e+02\n",
      " 1.32368594e-01 2.54265044e-01 2.72188483e-01 1.14606223e-01\n",
      " 2.90075571e-01 8.39458172e-02]\n",
      "Here are their varainces:\n",
      "[1.23970943e+01 1.84663974e+01 5.89402799e+02 1.23625903e+05\n",
      " 1.97452073e-04 2.78428549e-03 6.34407875e-03 1.50301462e-03\n",
      " 7.50222008e-04 4.97611152e-05 7.67671984e-02 3.03781123e-01\n",
      " 4.08071149e+00 2.06579462e+03 8.99927022e-06 3.20139261e-04\n",
      " 9.09596835e-04 3.80055080e-05 6.82128053e-05 6.98938631e-06\n",
      " 2.33191693e+01 3.77100918e+01 1.12714643e+03 3.23597671e+05\n",
      " 5.20403629e-04 2.47112650e-02 4.34475982e-02 4.31314711e-03\n",
      " 3.82085668e-03 3.25636075e-04]\n"
     ]
    }
   ],
   "source": [
    "print(f\"Here are the means of the predictor variables:\\n{X.mean(axis=0)}\")\n",
    "print(f\"Here are their varainces:\\n{X.var(axis=0)}\")"
   ]
  },
  {
   "cell_type": "markdown",
   "metadata": {},
   "source": [
    "You can use PCA (principal component analysis) to project the 30-dimensional data set onto a 2-dimensional subspace, so you can plot it. Here's how that goes:"
   ]
  },
  {
   "cell_type": "code",
   "execution_count": 21,
   "metadata": {},
   "outputs": [
    {
     "data": {
      "text/plain": [
       "[<matplotlib.lines.Line2D at 0x1a1824f908>]"
      ]
     },
     "execution_count": 21,
     "metadata": {},
     "output_type": "execute_result"
    },
    {
     "data": {
      "image/png": "[encoded data removed]",
      "text/plain": [
       "<Figure size 432x288 with 1 Axes>"
      ]
     },
     "metadata": {},
     "output_type": "display_data"
    }
   ],
   "source": [
    "from sklearn.decomposition import PCA\n",
    "from matplotlib import pyplot as plt\n",
    "pca = PCA(n_components=2)\n",
    "pca.fit(X)\n",
    "XX = pca.transform(X)\n",
    "XX0 = XX[y == 0]\n",
    "XX1 = XX[y == 1]\n",
    "plt.plot(XX0[:,0], XX0[:,1], 'ro')\n",
    "plt.plot(XX1[:,0], XX1[:,1], 'bo')"
   ]
  },
  {
   "cell_type": "code",
   "execution_count": null,
   "metadata": {},
   "outputs": [],
   "source": []
  }
 ],
 "metadata": {
  "kernelspec": {
   "display_name": "Python 3",
   "language": "python",
   "name": "python3"
  },
  "language_info": {
   "codemirror_mode": {
    "name": "ipython",
    "version": 3
   },
   "file_extension": ".py",
   "mimetype": "text/x-python",
   "name": "python",
   "nbconvert_exporter": "python",
   "pygments_lexer": "ipython3",
   "version": "3.6.5"
  }
 },
 "nbformat": 4,
 "nbformat_minor": 2
}
