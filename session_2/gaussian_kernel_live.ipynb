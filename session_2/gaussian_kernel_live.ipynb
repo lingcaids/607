{
 "cells": [
  {
   "cell_type": "code",
   "execution_count": null,
   "metadata": {},
   "outputs": [],
   "source": [
    "import numpy as np\n",
    "from sklearn.model_selection import train_test_split, cross_val_score\n",
    "from matplotlib import pyplot as plt"
   ]
  },
  {
   "cell_type": "code",
   "execution_count": null,
   "metadata": {},
   "outputs": [],
   "source": [
    "def r(x):\n",
    "    \"\"\"A convenience function to compute values of r.\"\"\"\n",
    "    return 0.5*x*np.cos(4*np.pi*x)\n",
    "\n",
    "def make_y(x):\n",
    "    \"\"\"A convenience function to sample from N(r(x), 0.1).\"\"\"\n",
    "    return r(x) + 0.1*np.random.normal(size=(len(x), 1))\n",
    "\n",
    "def gaussian(x):\n",
    "\n",
    "def boxcar(x):\n",
    "\n",
    "def epanechnikov(x):\n"
   ]
  },
  {
   "cell_type": "code",
   "execution_count": null,
   "metadata": {},
   "outputs": [],
   "source": [
    "x = np.arange(-2, 2, 0.01)\n",
    "plt.figure(figsize=(13, 13*0.8/2))\n",
    "plt.title(\"Common Kernel Funtions\", fontsize=24)\n",
    "plt.xlim(-2, 2)\n",
    "plt.ylim(0, 0.8)\n",
    "plt.plot(x, gaussian(x), label=\"Gaussian\")\n",
    "plt.plot(x, boxcar(x), label=\"Boxcar\")\n",
    "plt.plot(x, epanechnikov(x), label=\"Epanechnikov\")\n",
    "plt.legend(fontsize=18)\n",
    "plt.savefig(\"kernels.pdf\")\n",
    "plt.show()"
   ]
  },
  {
   "cell_type": "code",
   "execution_count": null,
   "metadata": {},
   "outputs": [],
   "source": [
    "def make_smoother(X_, y_, ker=gaussian, h=0.1):\n",
    "    def smoother(X):\n",
    "        # ...\n",
    "    return smoother\n",
    "\n",
    "size=200\n",
    "X_ = np.random.uniform(size=size).reshape(size, 1)\n",
    "y_ = make_y(X_)\n",
    "s = make_smoother(X_, y_, ker=gaussian, h=0.05)\n",
    "X = np.arange(0, 1, 0.01)\n",
    "y = s(X)\n",
    "plt.plot(X, y)\n",
    "plt.plot(X, r(X))"
   ]
  },
  {
   "cell_type": "code",
   "execution_count": null,
   "metadata": {},
   "outputs": [],
   "source": [
    "size=200\n",
    "X_ = np.random.uniform(size=size).reshape(size, 1)\n",
    "y_ = make_y(X_)\n",
    "ss = [make_smoother(X_[i].reshape(1, 1), y_[i]) for i in range(size)]\n",
    "X = np.arange(0, 1, 0.01)\n",
    "s = ss[0]\n",
    "y = s(X)"
   ]
  },
  {
   "cell_type": "code",
   "execution_count": null,
   "metadata": {},
   "outputs": [],
   "source": [
    "from matplotlib import cm\n",
    "m = cm.get_cmap(\"Blues\")\n",
    "mm = cm.get_cmap(\"Reds\")\n",
    "plt.figure(figsize=(8, 8))\n",
    "plt.xlim(0, 1)\n",
    "plt.ylim(-0.5, 0.5)\n",
    "for i in range(size):\n",
    "    plt.plot(x, np.sqrt(2*np.pi)*y_[i]*gaussian((x - X_[i])/0.1), color=m(0.7*i/size))\n",
    "    plt.plot(X_[i], y_[i], 'o', color=m(0.7*i/size), markeredgecolor=mm(i/size))\n",
    "plt.plot(x, r(x), 'k', linewidth=5)\n",
    "plt.savefig(\"waves.pdf\")"
   ]
  }
 ],
 "metadata": {
  "kernelspec": {
   "display_name": "Python 3",
   "language": "python",
   "name": "python3"
  },
  "language_info": {
   "codemirror_mode": {
    "name": "ipython",
    "version": 3
   },
   "file_extension": ".py",
   "mimetype": "text/x-python",
   "name": "python",
   "nbconvert_exporter": "python",
   "pygments_lexer": "ipython3",
   "version": "3.6.5"
  }
 },
 "nbformat": 4,
 "nbformat_minor": 2
}
