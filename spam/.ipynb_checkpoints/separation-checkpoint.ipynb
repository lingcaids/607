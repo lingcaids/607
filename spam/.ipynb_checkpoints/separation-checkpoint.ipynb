{
 "cells": [
  {
   "cell_type": "code",
   "execution_count": 1,
   "metadata": {
    "collapsed": true
   },
   "outputs": [],
   "source": [
    "from matplotlib import pyplot as plt\n",
    "import numpy as np"
   ]
  },
  {
   "cell_type": "code",
   "execution_count": 7,
   "metadata": {},
   "outputs": [
    {
     "data": {
      "image/png": "[encoded data removed]",
      "text/plain": [
       "<matplotlib.figure.Figure at 0x10a6b5fd0>"
      ]
     },
     "metadata": {},
     "output_type": "display_data"
    }
   ],
   "source": [
    "A = np.random.multivariate_normal([2, -2, 2], 0.5*np.identity(3), size=100)\n",
    "B = np.random.multivariate_normal([-2, 2, -2], 0.5*np.identity(3), size=100)\n",
    "a = A[:, [0, 2]]\n",
    "b = B[:, [0, 2]]\n",
    "plt.plot(a[:,0], a[:,1], 'bo')\n",
    "plt.plot(b[:,0], b[:,1], 'go')\n",
    "plt.show()"
   ]
  },
  {
   "cell_type": "code",
   "execution_count": 49,
   "metadata": {},
   "outputs": [
    {
     "data": {
      "image/png": "[encoded data removed]",
      "text/plain": [
       "<matplotlib.figure.Figure at 0x11636a908>"
      ]
     },
     "metadata": {},
     "output_type": "display_data"
    }
   ],
   "source": [
    "n = 100\n",
    "theta = np.random.uniform(0, 2*np.pi, size=n)\n",
    "r = 4 + np.random.normal(size=n)\n",
    "X0 = np.array([r*np.cos(theta), r*np.sin(theta)]).T\n",
    "X1 = np.random.multivariate_normal([0, 0], np.identity(2), size=n)\n",
    "T = np.concatenate([X0, X1])\n",
    "X = np.hstack([T, T**2])\n",
    "y0 = np.zeros(len(X0))\n",
    "y1 = np.ones(len(X1))\n",
    "y = np.concatenate([y0, y1])\n",
    "plt.plot(X0[:,0], X0[:,1], 'mo')\n",
    "plt.plot(X1[:,0], X1[:,1], 'go')\n",
    "plt.show()"
   ]
  },
  {
   "cell_type": "code",
   "execution_count": 52,
   "metadata": {},
   "outputs": [
    {
     "data": {
      "text/plain": [
       "array([ 3.80133316])"
      ]
     },
     "execution_count": 52,
     "metadata": {},
     "output_type": "execute_result"
    }
   ],
   "source": [
    "from sklearn.linear_model import LogisticRegression\n",
    "R = LogisticRegression()\n",
    "R.fit(X, y)\n",
    "R.coef_\n",
    "R.intercept_"
   ]
  },
  {
   "cell_type": "code",
   "execution_count": 42,
   "metadata": {},
   "outputs": [
    {
     "name": "stdout",
     "output_type": "stream",
     "text": [
      "(200, 4) (200,)\n"
     ]
    }
   ],
   "source": [
    "print(XX.shape, y.shape)"
   ]
  },
  {
   "cell_type": "code",
   "execution_count": 43,
   "metadata": {},
   "outputs": [
    {
     "data": {
      "text/plain": [
       "array([[  0.26881605,   4.53209534,   0.07226207,  20.53988815],\n",
       "       [  1.23802315,  -2.1767003 ,   1.53270132,   4.73802418],\n",
       "       [ -4.58630474,   1.40253546,  21.03419118,   1.96710572],\n",
       "       [  2.32762014,  -0.90632307,   5.41781551,   0.82142151],\n",
       "       [ -0.31748048,  -3.28870252,   0.10079386,  10.81556426],\n",
       "       [ -4.06449586,   0.50677734,  16.52012661,   0.25682327],\n",
       "       [  1.85141625,   1.90146787,   3.42774213,   3.61558004],\n",
       "       [ -0.14942539,  -4.31010869,   0.02232795,  18.5770369 ],\n",
       "       [  4.56236372,  -2.02997485,  20.81516272,   4.12079791],\n",
       "       [ -0.96788109,   1.8648451 ,   0.9367938 ,   3.47764726]])"
      ]
     },
     "execution_count": 43,
     "metadata": {},
     "output_type": "execute_result"
    }
   ],
   "source": [
    "XX[:10,:]"
   ]
  },
  {
   "cell_type": "code",
   "execution_count": null,
   "metadata": {
    "collapsed": true
   },
   "outputs": [],
   "source": []
  }
 ],
 "metadata": {
  "kernelspec": {
   "display_name": "Python 3",
   "language": "python",
   "name": "python3"
  },
  "language_info": {
   "codemirror_mode": {
    "name": "ipython",
    "version": 3
   },
   "file_extension": ".py",
   "mimetype": "text/x-python",
   "name": "python",
   "nbconvert_exporter": "python",
   "pygments_lexer": "ipython3",
   "version": "3.6.3"
  }
 },
 "nbformat": 4,
 "nbformat_minor": 2
}
